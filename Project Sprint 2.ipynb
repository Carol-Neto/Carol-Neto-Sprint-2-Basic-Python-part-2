{
 "cells": [
  {
   "cell_type": "markdown",
   "metadata": {
    "id": "E0vqbgi9ay0H"
   },
   "source": [
    "# Tune in to the music!"
   ]
  },
  {
   "cell_type": "markdown",
   "metadata": {
    "id": "Ml1hmfXC_Zcs"
   },
   "source": [
    "## Step 1. Data Overview <a id='data_review'></a>"
   ]
  },
  {
   "cell_type": "code",
   "execution_count": 46,
   "metadata": {
    "id": "AXN7PHPN_Zcs"
   },
   "outputs": [],
   "source": [
    "# Importing the library\n",
    "import pandas as pd"
   ]
  },
  {
   "cell_type": "code",
   "execution_count": 47,
   "metadata": {
    "id": "fFVu7vqh_Zct"
   },
   "outputs": [],
   "source": [
    "# Reading the dataset\n",
    "df = pd.read_csv(\"D:\\Tripleten\\Projects\\Sprint-2-Basic-Python-part-2\\data\\music_project_en.csv\")\n"
   ]
  },
  {
   "cell_type": "code",
   "execution_count": 48,
   "metadata": {
    "id": "oWTVX3gW_Zct"
   },
   "outputs": [
    {
     "data": {
      "text/html": [
       "<div>\n",
       "<style scoped>\n",
       "    .dataframe tbody tr th:only-of-type {\n",
       "        vertical-align: middle;\n",
       "    }\n",
       "\n",
       "    .dataframe tbody tr th {\n",
       "        vertical-align: top;\n",
       "    }\n",
       "\n",
       "    .dataframe thead th {\n",
       "        text-align: right;\n",
       "    }\n",
       "</style>\n",
       "<table border=\"1\" class=\"dataframe\">\n",
       "  <thead>\n",
       "    <tr style=\"text-align: right;\">\n",
       "      <th></th>\n",
       "      <th>userID</th>\n",
       "      <th>Track</th>\n",
       "      <th>artist</th>\n",
       "      <th>genre</th>\n",
       "      <th>City</th>\n",
       "      <th>time</th>\n",
       "      <th>Day</th>\n",
       "    </tr>\n",
       "  </thead>\n",
       "  <tbody>\n",
       "    <tr>\n",
       "      <th>0</th>\n",
       "      <td>FFB692EC</td>\n",
       "      <td>Kamigata To Boots</td>\n",
       "      <td>The Mass Missile</td>\n",
       "      <td>rock</td>\n",
       "      <td>Shelbyville</td>\n",
       "      <td>20:28:33</td>\n",
       "      <td>Wednesday</td>\n",
       "    </tr>\n",
       "    <tr>\n",
       "      <th>1</th>\n",
       "      <td>55204538</td>\n",
       "      <td>Delayed Because of Accident</td>\n",
       "      <td>Andreas Rönnberg</td>\n",
       "      <td>rock</td>\n",
       "      <td>Springfield</td>\n",
       "      <td>14:07:09</td>\n",
       "      <td>Friday</td>\n",
       "    </tr>\n",
       "    <tr>\n",
       "      <th>2</th>\n",
       "      <td>20EC38</td>\n",
       "      <td>Funiculì funiculà</td>\n",
       "      <td>Mario Lanza</td>\n",
       "      <td>pop</td>\n",
       "      <td>Shelbyville</td>\n",
       "      <td>20:58:07</td>\n",
       "      <td>Wednesday</td>\n",
       "    </tr>\n",
       "    <tr>\n",
       "      <th>3</th>\n",
       "      <td>A3DD03C9</td>\n",
       "      <td>Dragons in the Sunset</td>\n",
       "      <td>Fire + Ice</td>\n",
       "      <td>folk</td>\n",
       "      <td>Shelbyville</td>\n",
       "      <td>08:37:09</td>\n",
       "      <td>Monday</td>\n",
       "    </tr>\n",
       "    <tr>\n",
       "      <th>4</th>\n",
       "      <td>E2DC1FAE</td>\n",
       "      <td>Soul People</td>\n",
       "      <td>Space Echo</td>\n",
       "      <td>dance</td>\n",
       "      <td>Springfield</td>\n",
       "      <td>08:34:34</td>\n",
       "      <td>Monday</td>\n",
       "    </tr>\n",
       "    <tr>\n",
       "      <th>5</th>\n",
       "      <td>842029A1</td>\n",
       "      <td>Chains</td>\n",
       "      <td>Obladaet</td>\n",
       "      <td>rusrap</td>\n",
       "      <td>Shelbyville</td>\n",
       "      <td>13:09:41</td>\n",
       "      <td>Friday</td>\n",
       "    </tr>\n",
       "    <tr>\n",
       "      <th>6</th>\n",
       "      <td>4CB90AA5</td>\n",
       "      <td>True</td>\n",
       "      <td>Roman Messer</td>\n",
       "      <td>dance</td>\n",
       "      <td>Springfield</td>\n",
       "      <td>13:00:07</td>\n",
       "      <td>Wednesday</td>\n",
       "    </tr>\n",
       "    <tr>\n",
       "      <th>7</th>\n",
       "      <td>F03E1C1F</td>\n",
       "      <td>Feeling This Way</td>\n",
       "      <td>Polina Griffith</td>\n",
       "      <td>dance</td>\n",
       "      <td>Springfield</td>\n",
       "      <td>20:47:49</td>\n",
       "      <td>Wednesday</td>\n",
       "    </tr>\n",
       "    <tr>\n",
       "      <th>8</th>\n",
       "      <td>8FA1D3BE</td>\n",
       "      <td>L’estate</td>\n",
       "      <td>Julia Dalia</td>\n",
       "      <td>ruspop</td>\n",
       "      <td>Springfield</td>\n",
       "      <td>09:17:40</td>\n",
       "      <td>Friday</td>\n",
       "    </tr>\n",
       "    <tr>\n",
       "      <th>9</th>\n",
       "      <td>E772D5C0</td>\n",
       "      <td>Pessimist</td>\n",
       "      <td>NaN</td>\n",
       "      <td>dance</td>\n",
       "      <td>Shelbyville</td>\n",
       "      <td>21:20:49</td>\n",
       "      <td>Wednesday</td>\n",
       "    </tr>\n",
       "  </tbody>\n",
       "</table>\n",
       "</div>"
      ],
      "text/plain": [
       "     userID                        Track            artist   genre  \\\n",
       "0  FFB692EC            Kamigata To Boots  The Mass Missile    rock   \n",
       "1  55204538  Delayed Because of Accident  Andreas Rönnberg    rock   \n",
       "2    20EC38            Funiculì funiculà       Mario Lanza     pop   \n",
       "3  A3DD03C9        Dragons in the Sunset        Fire + Ice    folk   \n",
       "4  E2DC1FAE                  Soul People        Space Echo   dance   \n",
       "5  842029A1                       Chains          Obladaet  rusrap   \n",
       "6  4CB90AA5                         True      Roman Messer   dance   \n",
       "7  F03E1C1F             Feeling This Way   Polina Griffith   dance   \n",
       "8  8FA1D3BE                     L’estate       Julia Dalia  ruspop   \n",
       "9  E772D5C0                    Pessimist               NaN   dance   \n",
       "\n",
       "        City        time        Day  \n",
       "0  Shelbyville  20:28:33  Wednesday  \n",
       "1  Springfield  14:07:09     Friday  \n",
       "2  Shelbyville  20:58:07  Wednesday  \n",
       "3  Shelbyville  08:37:09     Monday  \n",
       "4  Springfield  08:34:34     Monday  \n",
       "5  Shelbyville  13:09:41     Friday  \n",
       "6  Springfield  13:00:07  Wednesday  \n",
       "7  Springfield  20:47:49  Wednesday  \n",
       "8  Springfield  09:17:40     Friday  \n",
       "9  Shelbyville  21:20:49  Wednesday  "
      ]
     },
     "execution_count": 48,
     "metadata": {},
     "output_type": "execute_result"
    }
   ],
   "source": [
    "df.head(10)"
   ]
  },
  {
   "cell_type": "code",
   "execution_count": 49,
   "metadata": {
    "id": "DSf2kIb-_Zct"
   },
   "outputs": [
    {
     "name": "stdout",
     "output_type": "stream",
     "text": [
      "<class 'pandas.core.frame.DataFrame'>\n",
      "RangeIndex: 65079 entries, 0 to 65078\n",
      "Data columns (total 7 columns):\n",
      " #   Column    Non-Null Count  Dtype \n",
      "---  ------    --------------  ----- \n",
      " 0     userID  65079 non-null  object\n",
      " 1   Track     63736 non-null  object\n",
      " 2   artist    57512 non-null  object\n",
      " 3   genre     63881 non-null  object\n",
      " 4     City    65079 non-null  object\n",
      " 5   time      65079 non-null  object\n",
      " 6   Day       65079 non-null  object\n",
      "dtypes: object(7)\n",
      "memory usage: 3.5+ MB\n"
     ]
    }
   ],
   "source": [
    "# obtaining general information about our data\n",
    "df.info()"
   ]
  },
  {
   "cell_type": "markdown",
   "metadata": {
    "id": "TaQ2Iwbr_Zct"
   },
   "source": [
    "Here are my observations about the table. It contains seven columns. They store the same type of data: `object`.\n",
    "\n",
    "According to the documentation:\n",
    "- `'userID'` — user ID\n",
    "- `'Track'` — song title\n",
    "- `'artist'` — artist name\n",
    "- `'genre'` — song genre\n",
    "- `'City'` — user's city\n",
    "- `'time'` — the exact time the song was played\n",
    "- `'Day'` — day of the week\n",
    "\n",
    "We can see three style issues in the table headers:\n",
    "1. Some headers are written in uppercase, others are in lowercase.\n",
    "2. Some headers contain spaces.\n",
    "3. The 'userID' column should be separated in snake_case style.\n"
   ]
  },
  {
   "cell_type": "markdown",
   "metadata": {
    "id": "MCB6-dXG_Zct"
   },
   "source": [
    "### Write down your observations. Here are some questions that may help: <a id='data_review_conclusions'></a>\n",
    "\n",
    "`1. What type of data do we have in the rows? And how can we understand the columns?`\n",
    "\n",
    "We have Object/string data but the time column should be Float.\n",
    "\n",
    "`2. Is this data enough to answer our hypothesis or do we need more data?`\n",
    "\n",
    "This data should be enough to answer the questions to know the types of music users listen to during the week and compare the two cities.\n",
    "\n",
    "`3. Did you notice any problems in the data, such as missing values, duplicates or wrong data types?`\n",
    "\n",
    "We have missing data and duplicate values ​​and we must process them before continuing with the case study."
   ]
  },
  {
   "cell_type": "markdown",
   "metadata": {
    "id": "SjYF6Ub9_Zct"
   },
   "source": [
    "# Step 2. Data preprocessing <a id='data_preprocessing'></a>\n",
    "\n",
    "The goal here is to prepare the data for analysis.\n",
    "The first step is to resolve any issues with the header. Then we can move on to missing and duplicate values.\n",
    "\n",
    "Fix the formatting in the table headers."
   ]
  },
  {
   "cell_type": "code",
   "execution_count": 50,
   "metadata": {
    "id": "oKOTdF_Q_Zct"
   },
   "outputs": [
    {
     "data": {
      "text/plain": [
       "Index(['  userID', 'Track', 'artist', 'genre', '  City  ', 'time', 'Day'], dtype='object')"
      ]
     },
     "execution_count": 50,
     "metadata": {},
     "output_type": "execute_result"
    }
   ],
   "source": [
    "# printing column names\n",
    "df.columns"
   ]
  },
  {
   "cell_type": "markdown",
   "metadata": {
    "id": "zj5534cv_Zct"
   },
   "source": [
    "Using table headers according to good style practices:\n",
    "* All characters must be lowercase\n",
    "* Exclude spaces\n",
    "* If the name has multiple words, use snake_case\n",
    "\n",
    "Using the for loop to loop through the column names and convert all characters to lowercase. After that, let's see the result."
   ]
  },
  {
   "cell_type": "code",
   "execution_count": 51,
   "metadata": {
    "id": "6I_RwwMhzM4e"
   },
   "outputs": [
    {
     "data": {
      "text/plain": [
       "Index(['  userid', 'track', 'artist', 'genre', '  city  ', 'time', 'day'], dtype='object')"
      ]
     },
     "execution_count": 51,
     "metadata": {},
     "output_type": "execute_result"
    }
   ],
   "source": [
    "# Looping through the headers and converting everything to lowercase\n",
    "new_col_names = []  \n",
    "\n",
    "for old_name in df.columns: \n",
    "\n",
    "    name_lowered = old_name.lower()  \n",
    "    new_col_names.append(name_lowered)\n",
    "\n",
    "df.columns = new_col_names\n",
    "df.columns"
   ]
  },
  {
   "cell_type": "code",
   "execution_count": 52,
   "metadata": {
    "id": "vVQXbFyJzSYl"
   },
   "outputs": [
    {
     "data": {
      "text/plain": [
       "Index(['userid', 'track', 'artist', 'genre', 'city', 'time', 'day'], dtype='object')"
      ]
     },
     "execution_count": 52,
     "metadata": {},
     "output_type": "execute_result"
    }
   ],
   "source": [
    "# Now going through the headers and removing the spaces\n",
    "new_col_names = []  \n",
    "\n",
    "for old_name in df.columns: \n",
    "\n",
    "    name_clean = old_name.strip()  \n",
    "    new_col_names.append(name_clean)\n",
    "df.columns = new_col_names\n",
    "\n",
    "df.columns"
   ]
  },
  {
   "cell_type": "code",
   "execution_count": 53,
   "metadata": {
    "id": "ISlFqs5y_Zct"
   },
   "outputs": [
    {
     "data": {
      "text/plain": [
       "Index(['user_id', 'track', 'artist', 'genre', 'city', 'time', 'day'], dtype='object')"
      ]
     },
     "execution_count": 53,
     "metadata": {},
     "output_type": "execute_result"
    }
   ],
   "source": [
    "# Renaming the \"userid\" column\n",
    "new_col_names = []  \n",
    "\n",
    "for old_name in df.columns: \n",
    "\n",
    "    new_name = old_name.replace('userid', 'user_id')  \n",
    "    new_col_names.append(new_name)\n",
    "df.columns = new_col_names\n",
    "\n",
    "df.columns"
   ]
  },
  {
   "cell_type": "code",
   "execution_count": 54,
   "metadata": {
    "id": "d4NOAmTW_Zct"
   },
   "outputs": [
    {
     "name": "stdout",
     "output_type": "stream",
     "text": [
      "Index(['user_id', 'track', 'artist', 'genre', 'city', 'time', 'day'], dtype='object')\n"
     ]
    }
   ],
   "source": [
    "# Let's see the result after the changes.\n",
    "print(df.columns)"
   ]
  },
  {
   "cell_type": "markdown",
   "metadata": {
    "id": "5ISfbcfY_Zct"
   },
   "source": [
    "### Missing Values ​​<a id='missing_values'></a>\n",
    "First, I found the missing values ​​in the table and counted them."
   ]
  },
  {
   "cell_type": "code",
   "execution_count": 55,
   "metadata": {
    "id": "RskX29qr_Zct"
   },
   "outputs": [
    {
     "data": {
      "text/plain": [
       "user_id       0\n",
       "track      1343\n",
       "artist     7567\n",
       "genre      1198\n",
       "city          0\n",
       "time          0\n",
       "day           0\n",
       "dtype: int64"
      ]
     },
     "execution_count": 55,
     "metadata": {},
     "output_type": "execute_result"
    }
   ],
   "source": [
    "music_project_en = (df.isna().sum()) \n",
    "\n",
    "music_project_en"
   ]
  },
  {
   "cell_type": "markdown",
   "metadata": {
    "id": "qubhgnlO_Zct"
   },
   "source": [
    "Not all missing values ​​affect the research. For example, missing values ​​in `track` and `artist` are not critical. I can simply replace them with default values, such as the string `'unknown'`.\n",
    "\n",
    "But missing values ​​in `'genre'` can affect the comparison of Springfield and Shelbyville's musical preferences. In real life, it would be useful to find out the reasons why the data is missing and try to fix it. But we don't have that possibility in this project. So what I'm going to do is:\n",
    "* Fill in these missing values ​​with a default value\n",
    "* Evaluate to what extent the missing values ​​might affect my analysis"
   ]
  },
  {
   "cell_type": "markdown",
   "metadata": {
    "id": "fSv2laPA_Zct"
   },
   "source": [
    "Replacing missing values ​​in `'track'`, `'artist'` and `'genre'` columns with the string `'unknown'`. The best way to do this is to create a list to store the names of the columns in which we need to do the replacement. I will then use this list and loop through the columns in which the replacement is needed and do the replacement."
   ]
  },
  {
   "cell_type": "code",
   "execution_count": null,
   "metadata": {
    "id": "KplB5qWs_Zct"
   },
   "outputs": [],
   "source": [
    "columns_to_replace = ['track', 'artist', 'genre'] \n",
    " \n",
    "for col in columns_to_replace: \n",
    "    df[col].fillna('unknown', inplace=True) "
   ]
  },
  {
   "cell_type": "markdown",
   "metadata": {
    "id": "Ilsm-MZo_Zct"
   },
   "source": [
    "Now let's check again if there are still any missing values."
   ]
  },
  {
   "cell_type": "code",
   "execution_count": 57,
   "metadata": {
    "id": "Tq4nYRX4_Zct"
   },
   "outputs": [
    {
     "data": {
      "text/plain": [
       "user_id    0\n",
       "track      0\n",
       "artist     0\n",
       "genre      0\n",
       "city       0\n",
       "time       0\n",
       "day        0\n",
       "dtype: int64"
      ]
     },
     "execution_count": 57,
     "metadata": {},
     "output_type": "execute_result"
    }
   ],
   "source": [
    "music_project_en = (df.isna().sum()) \n",
    "\n",
    "music_project_en"
   ]
  },
  {
   "cell_type": "markdown",
   "metadata": {
    "id": "BWKRtBJ3_Zct"
   },
   "source": [
    "### Duplicates <a id='duplicates'></a>\n",
    "Let's look for the number of explicit duplicates in the table."
   ]
  },
  {
   "cell_type": "code",
   "execution_count": 58,
   "metadata": {
    "id": "36eES_S0_Zct"
   },
   "outputs": [
    {
     "data": {
      "text/plain": [
       "3826"
      ]
     },
     "execution_count": 58,
     "metadata": {},
     "output_type": "execute_result"
    }
   ],
   "source": [
    "df.duplicated().sum()"
   ]
  },
  {
   "cell_type": "markdown",
   "metadata": {
    "id": "Ot25h6XR_Zct"
   },
   "source": [
    "Now let's discard all duplicates and check if they have been removed."
   ]
  },
  {
   "cell_type": "code",
   "execution_count": 59,
   "metadata": {
    "id": "exFHq6tt_Zct"
   },
   "outputs": [
    {
     "data": {
      "text/plain": [
       "0"
      ]
     },
     "execution_count": 59,
     "metadata": {},
     "output_type": "execute_result"
    }
   ],
   "source": [
    "df = df.drop_duplicates().reset_index(drop=True)\n",
    "df.duplicated().sum()"
   ]
  },
  {
   "cell_type": "markdown",
   "metadata": {
    "id": "eSjWwsOh_Zct"
   },
   "source": [
    "Now we want to get rid of the implicit duplicates in the `genre` column. For example, the name of a genre can be spelled in different ways. Some mistakes will also affect the result.\n",
    "\n",
    "To do this, I will start by printing a list of unique genre names, sorted alphabetically."
   ]
  },
  {
   "cell_type": "code",
   "execution_count": 60,
   "metadata": {
    "id": "JIUcqzZN_Zct"
   },
   "outputs": [
    {
     "data": {
      "text/plain": [
       "['acid',\n",
       " 'acoustic',\n",
       " 'action',\n",
       " 'adult',\n",
       " 'africa',\n",
       " 'afrikaans',\n",
       " 'alternative',\n",
       " 'ambient',\n",
       " 'americana',\n",
       " 'animated',\n",
       " 'anime',\n",
       " 'arabesk',\n",
       " 'arabic',\n",
       " 'arena',\n",
       " 'argentinetango',\n",
       " 'art',\n",
       " 'audiobook',\n",
       " 'avantgarde',\n",
       " 'axé',\n",
       " 'baile',\n",
       " 'balkan',\n",
       " 'beats',\n",
       " 'bigroom',\n",
       " 'black',\n",
       " 'bluegrass',\n",
       " 'blues',\n",
       " 'bollywood',\n",
       " 'bossa',\n",
       " 'brazilian',\n",
       " 'breakbeat',\n",
       " 'breaks',\n",
       " 'broadway',\n",
       " 'cantautori',\n",
       " 'cantopop',\n",
       " 'canzone',\n",
       " 'caribbean',\n",
       " 'caucasian',\n",
       " 'celtic',\n",
       " 'chamber',\n",
       " 'children',\n",
       " 'chill',\n",
       " 'chinese',\n",
       " 'choral',\n",
       " 'christian',\n",
       " 'christmas',\n",
       " 'classical',\n",
       " 'classicmetal',\n",
       " 'club',\n",
       " 'colombian',\n",
       " 'comedy',\n",
       " 'conjazz',\n",
       " 'contemporary',\n",
       " 'country',\n",
       " 'cuban',\n",
       " 'dance',\n",
       " 'dancehall',\n",
       " 'dancepop',\n",
       " 'dark',\n",
       " 'death',\n",
       " 'deep',\n",
       " 'deutschrock',\n",
       " 'deutschspr',\n",
       " 'dirty',\n",
       " 'disco',\n",
       " 'dnb',\n",
       " 'documentary',\n",
       " 'downbeat',\n",
       " 'downtempo',\n",
       " 'drum',\n",
       " 'dub',\n",
       " 'dubstep',\n",
       " 'eastern',\n",
       " 'easy',\n",
       " 'electronic',\n",
       " 'electropop',\n",
       " 'emo',\n",
       " 'entehno',\n",
       " 'epicmetal',\n",
       " 'estrada',\n",
       " 'ethnic',\n",
       " 'eurofolk',\n",
       " 'european',\n",
       " 'experimental',\n",
       " 'extrememetal',\n",
       " 'fado',\n",
       " 'film',\n",
       " 'fitness',\n",
       " 'flamenco',\n",
       " 'folk',\n",
       " 'folklore',\n",
       " 'folkmetal',\n",
       " 'folkrock',\n",
       " 'folktronica',\n",
       " 'forró',\n",
       " 'frankreich',\n",
       " 'französisch',\n",
       " 'french',\n",
       " 'funk',\n",
       " 'future',\n",
       " 'gangsta',\n",
       " 'garage',\n",
       " 'german',\n",
       " 'ghazal',\n",
       " 'gitarre',\n",
       " 'glitch',\n",
       " 'gospel',\n",
       " 'gothic',\n",
       " 'grime',\n",
       " 'grunge',\n",
       " 'gypsy',\n",
       " 'handsup',\n",
       " \"hard'n'heavy\",\n",
       " 'hardcore',\n",
       " 'hardstyle',\n",
       " 'hardtechno',\n",
       " 'hip',\n",
       " 'hip-hop',\n",
       " 'hiphop',\n",
       " 'historisch',\n",
       " 'holiday',\n",
       " 'hop',\n",
       " 'horror',\n",
       " 'house',\n",
       " 'idm',\n",
       " 'independent',\n",
       " 'indian',\n",
       " 'indie',\n",
       " 'indipop',\n",
       " 'industrial',\n",
       " 'inspirational',\n",
       " 'instrumental',\n",
       " 'international',\n",
       " 'irish',\n",
       " 'jam',\n",
       " 'japanese',\n",
       " 'jazz',\n",
       " 'jewish',\n",
       " 'jpop',\n",
       " 'jungle',\n",
       " 'k-pop',\n",
       " 'karadeniz',\n",
       " 'karaoke',\n",
       " 'kayokyoku',\n",
       " 'korean',\n",
       " 'laiko',\n",
       " 'latin',\n",
       " 'latino',\n",
       " 'leftfield',\n",
       " 'local',\n",
       " 'lounge',\n",
       " 'loungeelectronic',\n",
       " 'lovers',\n",
       " 'malaysian',\n",
       " 'mandopop',\n",
       " 'marschmusik',\n",
       " 'meditative',\n",
       " 'mediterranean',\n",
       " 'melodic',\n",
       " 'metal',\n",
       " 'metalcore',\n",
       " 'mexican',\n",
       " 'middle',\n",
       " 'minimal',\n",
       " 'miscellaneous',\n",
       " 'modern',\n",
       " 'mood',\n",
       " 'mpb',\n",
       " 'muslim',\n",
       " 'native',\n",
       " 'neoklassik',\n",
       " 'neue',\n",
       " 'new',\n",
       " 'newage',\n",
       " 'newwave',\n",
       " 'nu',\n",
       " 'nujazz',\n",
       " 'numetal',\n",
       " 'oceania',\n",
       " 'old',\n",
       " 'opera',\n",
       " 'orchestral',\n",
       " 'other',\n",
       " 'piano',\n",
       " 'pop',\n",
       " 'popelectronic',\n",
       " 'popeurodance',\n",
       " 'post',\n",
       " 'posthardcore',\n",
       " 'postrock',\n",
       " 'power',\n",
       " 'progmetal',\n",
       " 'progressive',\n",
       " 'psychedelic',\n",
       " 'punjabi',\n",
       " 'punk',\n",
       " 'quebecois',\n",
       " 'ragga',\n",
       " 'ram',\n",
       " 'rancheras',\n",
       " 'rap',\n",
       " 'rave',\n",
       " 'reggae',\n",
       " 'reggaeton',\n",
       " 'regional',\n",
       " 'relax',\n",
       " 'religious',\n",
       " 'retro',\n",
       " 'rhythm',\n",
       " 'rnb',\n",
       " 'rnr',\n",
       " 'rock',\n",
       " 'rockabilly',\n",
       " 'romance',\n",
       " 'roots',\n",
       " 'ruspop',\n",
       " 'rusrap',\n",
       " 'rusrock',\n",
       " 'salsa',\n",
       " 'samba',\n",
       " 'schlager',\n",
       " 'self',\n",
       " 'sertanejo',\n",
       " 'shoegazing',\n",
       " 'showtunes',\n",
       " 'singer',\n",
       " 'ska',\n",
       " 'slow',\n",
       " 'smooth',\n",
       " 'soul',\n",
       " 'soulful',\n",
       " 'sound',\n",
       " 'soundtrack',\n",
       " 'southern',\n",
       " 'specialty',\n",
       " 'speech',\n",
       " 'spiritual',\n",
       " 'sport',\n",
       " 'stonerrock',\n",
       " 'surf',\n",
       " 'swing',\n",
       " 'synthpop',\n",
       " 'sängerportrait',\n",
       " 'tango',\n",
       " 'tanzorchester',\n",
       " 'taraftar',\n",
       " 'tech',\n",
       " 'techno',\n",
       " 'thrash',\n",
       " 'top',\n",
       " 'traditional',\n",
       " 'tradjazz',\n",
       " 'trance',\n",
       " 'tribal',\n",
       " 'trip',\n",
       " 'triphop',\n",
       " 'tropical',\n",
       " 'türk',\n",
       " 'türkçe',\n",
       " 'unknown',\n",
       " 'urban',\n",
       " 'uzbek',\n",
       " 'variété',\n",
       " 'vi',\n",
       " 'videogame',\n",
       " 'vocal',\n",
       " 'western',\n",
       " 'world',\n",
       " 'worldbeat',\n",
       " 'ïîï']"
      ]
     },
     "execution_count": 60,
     "metadata": {},
     "output_type": "execute_result"
    }
   ],
   "source": [
    "# viewing unique gender names\n",
    "unique_names = df['genre'].unique()\n",
    "unique_names_sorted = sorted(unique_names)\n",
    "unique_names_sorted"
   ]
  },
  {
   "cell_type": "markdown",
   "metadata": {
    "id": "qej-Qmuo_Zct"
   },
   "source": [
    "We can look at the list and find implicit duplicates of the `hiphop` genre. These could be misspelled names, or alternative names for the same genre.\n",
    "\n",
    "* `hip`\n",
    "* `hop`\n",
    "* `hip-hop`\n",
    "\n",
    "To get rid of these, I'll create a `replace_wrong_genres()` function with two parameters:\n",
    "* `wrong_genres=` — this is a list containing all the values ​​I need to replace\n",
    "* `correct_genre=` — this is a string I'll use for the replacement\n",
    "\n",
    "As a result, the function should correct the names in the `'genre'` column of the `df` table, that is, replacing each value in the `wrong_genres` list with values ​​from `correct_genre`.\n",
    "\n",
    "Inside the body of the function, I'll use a `'for'` loop to iterate through the list of wrong genres, extract the `'genre'` column, and apply the `replace` method to make the corrections."
   ]
  },
  {
   "cell_type": "code",
   "execution_count": 61,
   "metadata": {
    "id": "ErNDkmns_Zct"
   },
   "outputs": [],
   "source": [
    "def replace_wrong_genres(df, column, wrong_genres, correct_genre): \n",
    "\n",
    "    for wrong_genre in wrong_genres:  \n",
    "        df[column] = df[column].replace(wrong_genre, correct_genre)  \n",
    "    return df  \n"
   ]
  },
  {
   "cell_type": "code",
   "execution_count": 62,
   "metadata": {
    "id": "YN5i2hpmSo09"
   },
   "outputs": [],
   "source": [
    "# removendo duplicados implícitos\n",
    "duplicates = ['hip', 'hop', 'hip-hop'] \n",
    "name = 'hiphop' \n",
    "\n",
    "df = replace_wrong_genres(df, 'genre', duplicates, name) \n"
   ]
  },
  {
   "cell_type": "markdown",
   "metadata": {
    "id": "zQKF16_RG15m"
   },
   "source": [
    "Checking once again that everything worked."
   ]
  },
  {
   "cell_type": "code",
   "execution_count": 63,
   "metadata": {
    "id": "wvixALnFG15m"
   },
   "outputs": [
    {
     "data": {
      "text/plain": [
       "['acid',\n",
       " 'acoustic',\n",
       " 'action',\n",
       " 'adult',\n",
       " 'africa',\n",
       " 'afrikaans',\n",
       " 'alternative',\n",
       " 'ambient',\n",
       " 'americana',\n",
       " 'animated',\n",
       " 'anime',\n",
       " 'arabesk',\n",
       " 'arabic',\n",
       " 'arena',\n",
       " 'argentinetango',\n",
       " 'art',\n",
       " 'audiobook',\n",
       " 'avantgarde',\n",
       " 'axé',\n",
       " 'baile',\n",
       " 'balkan',\n",
       " 'beats',\n",
       " 'bigroom',\n",
       " 'black',\n",
       " 'bluegrass',\n",
       " 'blues',\n",
       " 'bollywood',\n",
       " 'bossa',\n",
       " 'brazilian',\n",
       " 'breakbeat',\n",
       " 'breaks',\n",
       " 'broadway',\n",
       " 'cantautori',\n",
       " 'cantopop',\n",
       " 'canzone',\n",
       " 'caribbean',\n",
       " 'caucasian',\n",
       " 'celtic',\n",
       " 'chamber',\n",
       " 'children',\n",
       " 'chill',\n",
       " 'chinese',\n",
       " 'choral',\n",
       " 'christian',\n",
       " 'christmas',\n",
       " 'classical',\n",
       " 'classicmetal',\n",
       " 'club',\n",
       " 'colombian',\n",
       " 'comedy',\n",
       " 'conjazz',\n",
       " 'contemporary',\n",
       " 'country',\n",
       " 'cuban',\n",
       " 'dance',\n",
       " 'dancehall',\n",
       " 'dancepop',\n",
       " 'dark',\n",
       " 'death',\n",
       " 'deep',\n",
       " 'deutschrock',\n",
       " 'deutschspr',\n",
       " 'dirty',\n",
       " 'disco',\n",
       " 'dnb',\n",
       " 'documentary',\n",
       " 'downbeat',\n",
       " 'downtempo',\n",
       " 'drum',\n",
       " 'dub',\n",
       " 'dubstep',\n",
       " 'eastern',\n",
       " 'easy',\n",
       " 'electronic',\n",
       " 'electropop',\n",
       " 'emo',\n",
       " 'entehno',\n",
       " 'epicmetal',\n",
       " 'estrada',\n",
       " 'ethnic',\n",
       " 'eurofolk',\n",
       " 'european',\n",
       " 'experimental',\n",
       " 'extrememetal',\n",
       " 'fado',\n",
       " 'film',\n",
       " 'fitness',\n",
       " 'flamenco',\n",
       " 'folk',\n",
       " 'folklore',\n",
       " 'folkmetal',\n",
       " 'folkrock',\n",
       " 'folktronica',\n",
       " 'forró',\n",
       " 'frankreich',\n",
       " 'französisch',\n",
       " 'french',\n",
       " 'funk',\n",
       " 'future',\n",
       " 'gangsta',\n",
       " 'garage',\n",
       " 'german',\n",
       " 'ghazal',\n",
       " 'gitarre',\n",
       " 'glitch',\n",
       " 'gospel',\n",
       " 'gothic',\n",
       " 'grime',\n",
       " 'grunge',\n",
       " 'gypsy',\n",
       " 'handsup',\n",
       " \"hard'n'heavy\",\n",
       " 'hardcore',\n",
       " 'hardstyle',\n",
       " 'hardtechno',\n",
       " 'hiphop',\n",
       " 'historisch',\n",
       " 'holiday',\n",
       " 'horror',\n",
       " 'house',\n",
       " 'idm',\n",
       " 'independent',\n",
       " 'indian',\n",
       " 'indie',\n",
       " 'indipop',\n",
       " 'industrial',\n",
       " 'inspirational',\n",
       " 'instrumental',\n",
       " 'international',\n",
       " 'irish',\n",
       " 'jam',\n",
       " 'japanese',\n",
       " 'jazz',\n",
       " 'jewish',\n",
       " 'jpop',\n",
       " 'jungle',\n",
       " 'k-pop',\n",
       " 'karadeniz',\n",
       " 'karaoke',\n",
       " 'kayokyoku',\n",
       " 'korean',\n",
       " 'laiko',\n",
       " 'latin',\n",
       " 'latino',\n",
       " 'leftfield',\n",
       " 'local',\n",
       " 'lounge',\n",
       " 'loungeelectronic',\n",
       " 'lovers',\n",
       " 'malaysian',\n",
       " 'mandopop',\n",
       " 'marschmusik',\n",
       " 'meditative',\n",
       " 'mediterranean',\n",
       " 'melodic',\n",
       " 'metal',\n",
       " 'metalcore',\n",
       " 'mexican',\n",
       " 'middle',\n",
       " 'minimal',\n",
       " 'miscellaneous',\n",
       " 'modern',\n",
       " 'mood',\n",
       " 'mpb',\n",
       " 'muslim',\n",
       " 'native',\n",
       " 'neoklassik',\n",
       " 'neue',\n",
       " 'new',\n",
       " 'newage',\n",
       " 'newwave',\n",
       " 'nu',\n",
       " 'nujazz',\n",
       " 'numetal',\n",
       " 'oceania',\n",
       " 'old',\n",
       " 'opera',\n",
       " 'orchestral',\n",
       " 'other',\n",
       " 'piano',\n",
       " 'pop',\n",
       " 'popelectronic',\n",
       " 'popeurodance',\n",
       " 'post',\n",
       " 'posthardcore',\n",
       " 'postrock',\n",
       " 'power',\n",
       " 'progmetal',\n",
       " 'progressive',\n",
       " 'psychedelic',\n",
       " 'punjabi',\n",
       " 'punk',\n",
       " 'quebecois',\n",
       " 'ragga',\n",
       " 'ram',\n",
       " 'rancheras',\n",
       " 'rap',\n",
       " 'rave',\n",
       " 'reggae',\n",
       " 'reggaeton',\n",
       " 'regional',\n",
       " 'relax',\n",
       " 'religious',\n",
       " 'retro',\n",
       " 'rhythm',\n",
       " 'rnb',\n",
       " 'rnr',\n",
       " 'rock',\n",
       " 'rockabilly',\n",
       " 'romance',\n",
       " 'roots',\n",
       " 'ruspop',\n",
       " 'rusrap',\n",
       " 'rusrock',\n",
       " 'salsa',\n",
       " 'samba',\n",
       " 'schlager',\n",
       " 'self',\n",
       " 'sertanejo',\n",
       " 'shoegazing',\n",
       " 'showtunes',\n",
       " 'singer',\n",
       " 'ska',\n",
       " 'slow',\n",
       " 'smooth',\n",
       " 'soul',\n",
       " 'soulful',\n",
       " 'sound',\n",
       " 'soundtrack',\n",
       " 'southern',\n",
       " 'specialty',\n",
       " 'speech',\n",
       " 'spiritual',\n",
       " 'sport',\n",
       " 'stonerrock',\n",
       " 'surf',\n",
       " 'swing',\n",
       " 'synthpop',\n",
       " 'sängerportrait',\n",
       " 'tango',\n",
       " 'tanzorchester',\n",
       " 'taraftar',\n",
       " 'tech',\n",
       " 'techno',\n",
       " 'thrash',\n",
       " 'top',\n",
       " 'traditional',\n",
       " 'tradjazz',\n",
       " 'trance',\n",
       " 'tribal',\n",
       " 'trip',\n",
       " 'triphop',\n",
       " 'tropical',\n",
       " 'türk',\n",
       " 'türkçe',\n",
       " 'unknown',\n",
       " 'urban',\n",
       " 'uzbek',\n",
       " 'variété',\n",
       " 'vi',\n",
       " 'videogame',\n",
       " 'vocal',\n",
       " 'western',\n",
       " 'world',\n",
       " 'worldbeat',\n",
       " 'ïîï']"
      ]
     },
     "execution_count": 63,
     "metadata": {},
     "output_type": "execute_result"
    }
   ],
   "source": [
    "unique_names = df['genre'].unique()\n",
    "unique_names_sorted = sorted(unique_names)\n",
    "unique_names_sorted"
   ]
  },
  {
   "cell_type": "markdown",
   "metadata": {
    "id": "jz6a9-7HQUDd"
   },
   "source": [
    "### Note <a id='data_preprocessing_conclusions'></a>\n",
    "\n",
    "The attention we pay to the smallest details is extremely important for the final analysis of the data, as a duplicate value can generate an atypical value and an erroneous result in the end."
   ]
  },
  {
   "cell_type": "markdown",
   "metadata": {
    "id": "WttZHXH0SqKk"
   },
   "source": [
    "## Step 3. Testing the hypothesis <a id='hypothesis'></a>"
   ]
  },
  {
   "cell_type": "markdown",
   "metadata": {
    "id": "Im936VVi_Zcu"
   },
   "source": [
    "### Hypothesis: comparison of user behavior in the two cities <a id='activity'></a>"
   ]
  },
  {
   "cell_type": "markdown",
   "metadata": {
    "id": "nwt_MuaL_Zcu"
   },
   "source": [
    "The hypothesis states that there are differences in music consumption by users in Springfield and Shelbyville. To test the hypothesis, I will use data from three days of the week: Monday, Wednesday, and Friday.\n",
    "\n",
    "* I will group users by city.\n",
    "* I will compare the number of songs played by each group on Monday, Wednesday, and Friday."
   ]
  },
  {
   "cell_type": "code",
   "execution_count": 64,
   "metadata": {
    "id": "0_Qs96oh_Zcu"
   },
   "outputs": [
    {
     "data": {
      "text/plain": [
       "city\n",
       "Shelbyville    18512\n",
       "Springfield    42741\n",
       "Name: user_id, dtype: int64"
      ]
     },
     "execution_count": 64,
     "metadata": {},
     "output_type": "execute_result"
    }
   ],
   "source": [
    "groups = df.groupby('city')['user_id'].count()\n",
    "groups\n"
   ]
  },
  {
   "cell_type": "markdown",
   "metadata": {
    "id": "t_Qx-3NewAnK"
   },
   "source": [
    "We can see that Springfield listens to a lot more music than Shelbyville."
   ]
  },
  {
   "cell_type": "markdown",
   "metadata": {
    "id": "dzli3w8o_Zcu"
   },
   "source": [
    "Now let's group the data by day of the week and find the number of songs played on Monday, Wednesday and Friday.\n"
   ]
  },
  {
   "cell_type": "code",
   "execution_count": 65,
   "metadata": {
    "id": "uZMKjiJz_Zcu"
   },
   "outputs": [
    {
     "data": {
      "text/plain": [
       "day\n",
       "Friday       21840\n",
       "Monday       21354\n",
       "Wednesday    18059\n",
       "Name: city, dtype: int64"
      ]
     },
     "execution_count": 65,
     "metadata": {},
     "output_type": "execute_result"
    }
   ],
   "source": [
    "days_of_the_week = df.groupby('day')['city'].count()\n",
    "days_of_the_week\n"
   ]
  },
  {
   "cell_type": "markdown",
   "metadata": {
    "id": "cC2tNrlL_Zcu"
   },
   "source": [
    "Friday is the day when people listen to music the most. Is this a celebration after work?"
   ]
  },
  {
   "cell_type": "markdown",
   "metadata": {
    "id": "POzs8bGa_Zcu"
   },
   "source": [
    "Now I will write a function that can count entries simultaneously based on both criteria.\n",
    "\n",
    "I will create the `number_tracks()` function to calculate the number of songs played on a given day and in a given city. The function should accept two parameters:\n",
    "\n",
    "- `day`: a day of the week by which we need to filter the data. For example, `'Monday'`.\n",
    "\n",
    "- `city`: a city by which we need to filter the data. For example, `'Springfield'`.\n",
    "\n",
    "After filtering the data using both criteria, I will count the number of values ​​in the 'user_id' column of the resulting table. The result of the count will represent the number of entries I want to find."
   ]
  },
  {
   "cell_type": "code",
   "execution_count": 66,
   "metadata": {
    "id": "Nz3GdQB1_Zcu"
   },
   "outputs": [],
   "source": [
    "def number_track(day, city):\n",
    "\n",
    "    # Storing DataFrame rows where the value in the 'day' column is equal to the day= parameter\n",
    "    filter_day = df[df['day'] == day]\n",
    "    # Filtering rows where the value in the 'city' column is equal to the city= parameter\n",
    "    filter_city =  filter_day[filter_day['city'] == city]\n",
    "    # Extracting the 'user_id' column from the filtered table and apply the count() method\n",
    "    filter_user = filter_city['user_id'].count()\n",
    "    # Finally, returning the number of values ​​from the 'user_id' column\n",
    "    return filter_user\n"
   ]
  },
  {
   "cell_type": "markdown",
   "metadata": {
    "id": "ytf7xFrFJQ2r"
   },
   "source": [
    "Call the `number_tracks()` function six times, changing the parameter values, so that I can retrieve data for both cities for each of the three days."
   ]
  },
  {
   "cell_type": "code",
   "execution_count": 67,
   "metadata": {
    "id": "rJcRATNQ_Zcu"
   },
   "outputs": [
    {
     "data": {
      "text/plain": [
       "15740"
      ]
     },
     "execution_count": 67,
     "metadata": {},
     "output_type": "execute_result"
    }
   ],
   "source": [
    "# the amount of songs played in Springfield on Monday\n",
    "number_track('Monday', 'Springfield')"
   ]
  },
  {
   "cell_type": "code",
   "execution_count": 68,
   "metadata": {
    "id": "hq_ncZ5T_Zcu"
   },
   "outputs": [
    {
     "data": {
      "text/plain": [
       "5614"
      ]
     },
     "execution_count": 68,
     "metadata": {},
     "output_type": "execute_result"
    }
   ],
   "source": [
    "# the amount of songs played in Shelbyville on Monday\n",
    "number_track('Monday', 'Shelbyville')"
   ]
  },
  {
   "cell_type": "code",
   "execution_count": 69,
   "metadata": {
    "id": "_NTy2VPU_Zcu"
   },
   "outputs": [
    {
     "data": {
      "text/plain": [
       "11056"
      ]
     },
     "execution_count": 69,
     "metadata": {},
     "output_type": "execute_result"
    }
   ],
   "source": [
    "# the amount of songs played in Springfield on Wednesday\n",
    "number_track('Wednesday', 'Springfield')"
   ]
  },
  {
   "cell_type": "code",
   "execution_count": 70,
   "metadata": {
    "id": "j2y3TAwo_Zcu"
   },
   "outputs": [
    {
     "data": {
      "text/plain": [
       "7003"
      ]
     },
     "execution_count": 70,
     "metadata": {},
     "output_type": "execute_result"
    }
   ],
   "source": [
    "# the amount of songs played in Shelbyville on Wednesday\n",
    "number_track('Wednesday', 'Shelbyville')"
   ]
  },
  {
   "cell_type": "code",
   "execution_count": 71,
   "metadata": {
    "id": "vYDw5u_K_Zcu"
   },
   "outputs": [
    {
     "data": {
      "text/plain": [
       "15945"
      ]
     },
     "execution_count": 71,
     "metadata": {},
     "output_type": "execute_result"
    }
   ],
   "source": [
    "# the amount of songs played in Springfield on Friday\n",
    "number_track('Friday', 'Springfield')"
   ]
  },
  {
   "cell_type": "code",
   "execution_count": 72,
   "metadata": {
    "id": "8_yzFtW3_Zcu"
   },
   "outputs": [
    {
     "data": {
      "text/plain": [
       "5895"
      ]
     },
     "execution_count": 72,
     "metadata": {},
     "output_type": "execute_result"
    }
   ],
   "source": [
    "# the amount of songs played in Shelbyville on Friday\n",
    "number_track('Friday', 'Shelbyville')"
   ]
  },
  {
   "cell_type": "markdown",
   "metadata": {
    "id": "-EgPIHYu_Zcu"
   },
   "source": [
    "**Conclusions**\n",
    "\n",
    "In general, people in Springfield listen to more music than people in Shelbyville, confirming the hypothesis.\n",
    "\n",
    "The day of the week when music is listened to the most in Springfield is Friday, followed by Monday and finally Wednesday.\n",
    "\n",
    "In Shelbyville, the day with the most music is Wednesday, followed by Friday and finally Monday, the day with the least music listening."
   ]
  },
  {
   "cell_type": "markdown",
   "metadata": {
    "id": "ykKQ0N65_Zcv"
   },
   "source": [
    "# Final Conclusion <a id='end'></a>\n",
    "\n",
    "With this simple analysis we can observe that in Springfield more music is heard than in Shelbyville, proving the hypothesis of a difference in reproduction between the two cities by the streaming service."
   ]
  },
  {
   "cell_type": "markdown",
   "metadata": {
    "id": "azLHu64yOIp7"
   },
   "source": [
    "### Note\n",
    "In real research projects, statistical hypothesis testing is more accurate and quantitative. Also note that conclusions about an entire city cannot always be drawn from data from just one source.\n",
    "\n",
    "In the next sprints I will present more analysis on hypothesis testing."
   ]
  }
 ],
 "metadata": {
  "ExecuteTimeLog": [
   {
    "duration": 467,
    "start_time": "2024-07-21T18:39:56.841Z"
   },
   {
    "duration": 338,
    "start_time": "2024-07-21T18:40:10.100Z"
   },
   {
    "duration": 22,
    "start_time": "2024-07-21T18:40:29.605Z"
   },
   {
    "duration": 24,
    "start_time": "2024-07-21T18:42:09.308Z"
   },
   {
    "duration": 730,
    "start_time": "2024-07-21T18:43:00.092Z"
   },
   {
    "duration": 194,
    "start_time": "2024-07-21T18:43:48.117Z"
   },
   {
    "duration": 26,
    "start_time": "2024-07-21T18:45:05.381Z"
   },
   {
    "duration": 21,
    "start_time": "2024-07-21T18:45:20.825Z"
   },
   {
    "duration": 21,
    "start_time": "2024-07-21T18:50:41.767Z"
   },
   {
    "duration": 835,
    "start_time": "2024-07-21T18:51:04.197Z"
   },
   {
    "duration": 32,
    "start_time": "2024-07-21T18:52:37.496Z"
   },
   {
    "duration": 32,
    "start_time": "2024-07-21T18:53:50.884Z"
   },
   {
    "duration": 33,
    "start_time": "2024-07-21T18:53:55.608Z"
   },
   {
    "duration": 12,
    "start_time": "2024-07-21T18:57:39.572Z"
   },
   {
    "duration": 11,
    "start_time": "2024-07-21T19:08:38.425Z"
   },
   {
    "duration": 10,
    "start_time": "2024-07-21T19:09:24.088Z"
   },
   {
    "duration": 3,
    "start_time": "2024-07-21T19:11:23.276Z"
   },
   {
    "duration": 22,
    "start_time": "2024-07-21T19:11:59.255Z"
   },
   {
    "duration": 74,
    "start_time": "2024-07-21T19:14:48.683Z"
   },
   {
    "duration": 8,
    "start_time": "2024-07-21T19:23:32.900Z"
   },
   {
    "duration": 21,
    "start_time": "2024-07-21T19:23:45.468Z"
   },
   {
    "duration": 5,
    "start_time": "2024-07-21T19:24:21.457Z"
   },
   {
    "duration": 33,
    "start_time": "2024-07-21T19:25:02.688Z"
   },
   {
    "duration": 32,
    "start_time": "2024-07-21T19:42:08.599Z"
   },
   {
    "duration": 13,
    "start_time": "2024-07-21T19:42:15.996Z"
   },
   {
    "duration": 21,
    "start_time": "2024-07-21T19:50:23.300Z"
   },
   {
    "duration": 4,
    "start_time": "2024-07-21T19:50:50.320Z"
   },
   {
    "duration": 39,
    "start_time": "2024-07-22T16:45:27.914Z"
   },
   {
    "duration": 6,
    "start_time": "2024-07-22T16:47:02.540Z"
   },
   {
    "duration": 8,
    "start_time": "2024-07-22T16:47:44.755Z"
   },
   {
    "duration": 354,
    "start_time": "2024-07-22T16:48:57.584Z"
   },
   {
    "duration": 7,
    "start_time": "2024-07-22T16:49:42.542Z"
   },
   {
    "duration": 24,
    "start_time": "2024-07-22T16:53:25.296Z"
   },
   {
    "duration": 23,
    "start_time": "2024-07-22T16:53:30.901Z"
   },
   {
    "duration": 25,
    "start_time": "2024-07-22T16:53:44.972Z"
   },
   {
    "duration": 28,
    "start_time": "2024-07-22T16:54:04.890Z"
   },
   {
    "duration": 28,
    "start_time": "2024-07-22T16:54:14.311Z"
   },
   {
    "duration": 23,
    "start_time": "2024-07-22T16:55:19.104Z"
   },
   {
    "duration": 61,
    "start_time": "2024-07-22T16:59:52.288Z"
   },
   {
    "duration": 23,
    "start_time": "2024-07-22T17:00:41.832Z"
   },
   {
    "duration": 23,
    "start_time": "2024-07-22T17:01:12.552Z"
   },
   {
    "duration": 638,
    "start_time": "2024-07-22T17:02:03.265Z"
   },
   {
    "duration": 175,
    "start_time": "2024-07-22T17:02:24.452Z"
   },
   {
    "duration": 177,
    "start_time": "2024-07-22T17:02:58.849Z"
   },
   {
    "duration": 181,
    "start_time": "2024-07-22T17:03:10.993Z"
   },
   {
    "duration": 174,
    "start_time": "2024-07-22T17:03:48.910Z"
   },
   {
    "duration": 173,
    "start_time": "2024-07-22T17:07:03.241Z"
   },
   {
    "duration": 167,
    "start_time": "2024-07-22T17:07:35.663Z"
   },
   {
    "duration": 173,
    "start_time": "2024-07-22T17:08:09.818Z"
   },
   {
    "duration": 892,
    "start_time": "2024-07-22T17:09:51.951Z"
   },
   {
    "duration": 196,
    "start_time": "2024-07-22T17:10:06.740Z"
   },
   {
    "duration": 198,
    "start_time": "2024-07-22T17:10:30.717Z"
   },
   {
    "duration": 173,
    "start_time": "2024-07-22T17:12:29.690Z"
   },
   {
    "duration": 166,
    "start_time": "2024-07-22T17:13:32.654Z"
   },
   {
    "duration": 164,
    "start_time": "2024-07-22T17:14:15.342Z"
   },
   {
    "duration": 169,
    "start_time": "2024-07-22T17:20:17.395Z"
   },
   {
    "duration": 179,
    "start_time": "2024-07-22T17:20:27.591Z"
   },
   {
    "duration": 190,
    "start_time": "2024-07-22T17:21:20.750Z"
   },
   {
    "duration": 172,
    "start_time": "2024-07-22T17:24:07.009Z"
   },
   {
    "duration": 173,
    "start_time": "2024-07-22T17:27:32.879Z"
   },
   {
    "duration": 183,
    "start_time": "2024-07-22T17:27:41.820Z"
   },
   {
    "duration": 217,
    "start_time": "2024-07-22T17:28:24.063Z"
   },
   {
    "duration": 218,
    "start_time": "2024-07-22T17:28:55.908Z"
   },
   {
    "duration": 212,
    "start_time": "2024-07-22T17:29:46.111Z"
   },
   {
    "duration": 205,
    "start_time": "2024-07-22T17:30:04.576Z"
   },
   {
    "duration": 707,
    "start_time": "2024-07-22T17:30:24.576Z"
   },
   {
    "duration": 176,
    "start_time": "2024-07-22T17:31:13.048Z"
   },
   {
    "duration": 179,
    "start_time": "2024-07-22T17:32:17.943Z"
   },
   {
    "duration": 162,
    "start_time": "2024-07-22T17:34:20.153Z"
   },
   {
    "duration": 8,
    "start_time": "2024-07-22T17:35:58.389Z"
   },
   {
    "duration": 159,
    "start_time": "2024-07-22T17:36:03.198Z"
   },
   {
    "duration": 156,
    "start_time": "2024-07-22T17:36:16.690Z"
   },
   {
    "duration": 165,
    "start_time": "2024-07-22T17:36:30.515Z"
   },
   {
    "duration": 165,
    "start_time": "2024-07-22T17:37:07.868Z"
   },
   {
    "duration": 161,
    "start_time": "2024-07-22T17:38:42.943Z"
   },
   {
    "duration": 4,
    "start_time": "2024-07-22T17:44:27.675Z"
   },
   {
    "duration": 185,
    "start_time": "2024-07-22T17:44:27.683Z"
   },
   {
    "duration": 12,
    "start_time": "2024-07-22T17:44:27.871Z"
   },
   {
    "duration": 56,
    "start_time": "2024-07-22T17:44:27.885Z"
   },
   {
    "duration": 13,
    "start_time": "2024-07-22T17:44:27.946Z"
   },
   {
    "duration": 5,
    "start_time": "2024-07-22T17:44:27.962Z"
   },
   {
    "duration": 210,
    "start_time": "2024-07-22T17:44:27.970Z"
   },
   {
    "duration": 182,
    "start_time": "2024-07-22T17:44:28.182Z"
   },
   {
    "duration": 184,
    "start_time": "2024-07-22T17:44:28.367Z"
   },
   {
    "duration": 4,
    "start_time": "2024-07-22T17:44:28.554Z"
   },
   {
    "duration": 5,
    "start_time": "2024-07-22T17:44:28.564Z"
   },
   {
    "duration": 4,
    "start_time": "2024-07-22T17:44:28.572Z"
   },
   {
    "duration": 43,
    "start_time": "2024-07-22T17:44:28.580Z"
   },
   {
    "duration": 5,
    "start_time": "2024-07-22T17:44:28.626Z"
   },
   {
    "duration": 7,
    "start_time": "2024-07-22T17:44:28.634Z"
   },
   {
    "duration": 4,
    "start_time": "2024-07-22T17:44:28.644Z"
   },
   {
    "duration": 4,
    "start_time": "2024-07-22T17:44:28.651Z"
   },
   {
    "duration": 4,
    "start_time": "2024-07-22T17:44:28.658Z"
   },
   {
    "duration": 4,
    "start_time": "2024-07-22T17:44:28.666Z"
   },
   {
    "duration": 4,
    "start_time": "2024-07-22T17:44:28.723Z"
   },
   {
    "duration": 4,
    "start_time": "2024-07-22T17:44:28.731Z"
   },
   {
    "duration": 4,
    "start_time": "2024-07-22T17:44:28.739Z"
   },
   {
    "duration": 6,
    "start_time": "2024-07-22T17:44:28.747Z"
   },
   {
    "duration": 4,
    "start_time": "2024-07-22T17:44:28.763Z"
   },
   {
    "duration": 4,
    "start_time": "2024-07-22T17:44:28.770Z"
   },
   {
    "duration": 6,
    "start_time": "2024-07-22T17:44:28.825Z"
   },
   {
    "duration": 4,
    "start_time": "2024-07-22T17:44:28.835Z"
   },
   {
    "duration": 4,
    "start_time": "2024-07-22T17:44:28.843Z"
   },
   {
    "duration": 4,
    "start_time": "2024-07-22T17:44:28.853Z"
   },
   {
    "duration": 475,
    "start_time": "2024-07-23T19:05:25.768Z"
   },
   {
    "duration": 188,
    "start_time": "2024-07-23T19:05:26.246Z"
   },
   {
    "duration": 12,
    "start_time": "2024-07-23T19:05:26.437Z"
   },
   {
    "duration": 51,
    "start_time": "2024-07-23T19:05:26.454Z"
   },
   {
    "duration": 13,
    "start_time": "2024-07-23T19:05:26.509Z"
   },
   {
    "duration": 5,
    "start_time": "2024-07-23T19:05:26.525Z"
   },
   {
    "duration": 205,
    "start_time": "2024-07-23T19:05:26.533Z"
   },
   {
    "duration": 199,
    "start_time": "2024-07-23T19:05:26.741Z"
   },
   {
    "duration": 170,
    "start_time": "2024-07-23T19:05:26.943Z"
   },
   {
    "duration": 4,
    "start_time": "2024-07-23T19:05:27.120Z"
   },
   {
    "duration": 4,
    "start_time": "2024-07-23T19:05:27.127Z"
   },
   {
    "duration": 4,
    "start_time": "2024-07-23T19:05:27.134Z"
   },
   {
    "duration": 3,
    "start_time": "2024-07-23T19:05:27.142Z"
   },
   {
    "duration": 44,
    "start_time": "2024-07-23T19:05:27.148Z"
   },
   {
    "duration": 4,
    "start_time": "2024-07-23T19:05:27.195Z"
   },
   {
    "duration": 4,
    "start_time": "2024-07-23T19:05:27.203Z"
   },
   {
    "duration": 4,
    "start_time": "2024-07-23T19:05:27.210Z"
   },
   {
    "duration": 3,
    "start_time": "2024-07-23T19:05:27.217Z"
   },
   {
    "duration": 4,
    "start_time": "2024-07-23T19:05:27.223Z"
   },
   {
    "duration": 3,
    "start_time": "2024-07-23T19:05:27.230Z"
   },
   {
    "duration": 4,
    "start_time": "2024-07-23T19:05:27.292Z"
   },
   {
    "duration": 4,
    "start_time": "2024-07-23T19:05:27.299Z"
   },
   {
    "duration": 4,
    "start_time": "2024-07-23T19:05:27.306Z"
   },
   {
    "duration": 5,
    "start_time": "2024-07-23T19:05:27.312Z"
   },
   {
    "duration": 4,
    "start_time": "2024-07-23T19:05:27.320Z"
   },
   {
    "duration": 4,
    "start_time": "2024-07-23T19:05:27.327Z"
   },
   {
    "duration": 58,
    "start_time": "2024-07-23T19:05:27.334Z"
   },
   {
    "duration": 3,
    "start_time": "2024-07-23T19:05:27.398Z"
   },
   {
    "duration": 4,
    "start_time": "2024-07-23T19:05:27.404Z"
   },
   {
    "duration": 6,
    "start_time": "2024-07-23T19:06:31.308Z"
   },
   {
    "duration": 6,
    "start_time": "2024-07-23T19:06:54.967Z"
   },
   {
    "duration": 5,
    "start_time": "2024-07-23T19:07:55.167Z"
   },
   {
    "duration": 5,
    "start_time": "2024-07-23T19:09:12.343Z"
   },
   {
    "duration": 30,
    "start_time": "2024-07-23T19:24:52.634Z"
   },
   {
    "duration": 27,
    "start_time": "2024-07-23T19:29:30.937Z"
   },
   {
    "duration": 340,
    "start_time": "2024-07-23T19:34:53.477Z"
   },
   {
    "duration": 28,
    "start_time": "2024-07-23T19:35:06.740Z"
   },
   {
    "duration": 835,
    "start_time": "2024-07-23T19:39:16.670Z"
   },
   {
    "duration": 45,
    "start_time": "2024-07-23T19:39:35.871Z"
   },
   {
    "duration": 6,
    "start_time": "2024-07-23T19:40:19.002Z"
   },
   {
    "duration": 29,
    "start_time": "2024-07-23T19:40:28.098Z"
   },
   {
    "duration": 3,
    "start_time": "2024-07-23T19:40:36.855Z"
   },
   {
    "duration": 25,
    "start_time": "2024-07-23T19:40:40.487Z"
   },
   {
    "duration": 29,
    "start_time": "2024-07-23T19:41:25.678Z"
   },
   {
    "duration": 23,
    "start_time": "2024-07-23T19:41:36.100Z"
   },
   {
    "duration": 26,
    "start_time": "2024-07-23T19:43:03.478Z"
   },
   {
    "duration": 24,
    "start_time": "2024-07-23T19:43:23.604Z"
   },
   {
    "duration": 24,
    "start_time": "2024-07-23T19:44:48.631Z"
   },
   {
    "duration": 5,
    "start_time": "2024-07-23T19:44:58.464Z"
   },
   {
    "duration": 4,
    "start_time": "2024-07-23T19:45:15.003Z"
   },
   {
    "duration": 172,
    "start_time": "2024-07-23T19:45:15.010Z"
   },
   {
    "duration": 9,
    "start_time": "2024-07-23T19:45:15.189Z"
   },
   {
    "duration": 39,
    "start_time": "2024-07-23T19:45:15.201Z"
   },
   {
    "duration": 13,
    "start_time": "2024-07-23T19:45:15.247Z"
   },
   {
    "duration": 28,
    "start_time": "2024-07-23T19:45:15.263Z"
   },
   {
    "duration": 7,
    "start_time": "2024-07-23T19:45:15.294Z"
   },
   {
    "duration": 9,
    "start_time": "2024-07-23T19:45:15.305Z"
   },
   {
    "duration": 807,
    "start_time": "2024-07-23T19:45:15.318Z"
   },
   {
    "duration": 0,
    "start_time": "2024-07-23T19:45:16.130Z"
   },
   {
    "duration": 0,
    "start_time": "2024-07-23T19:45:16.133Z"
   },
   {
    "duration": 0,
    "start_time": "2024-07-23T19:45:16.135Z"
   },
   {
    "duration": 0,
    "start_time": "2024-07-23T19:45:16.137Z"
   },
   {
    "duration": 0,
    "start_time": "2024-07-23T19:45:16.139Z"
   },
   {
    "duration": 0,
    "start_time": "2024-07-23T19:45:16.141Z"
   },
   {
    "duration": 0,
    "start_time": "2024-07-23T19:45:16.143Z"
   },
   {
    "duration": 0,
    "start_time": "2024-07-23T19:45:16.146Z"
   },
   {
    "duration": 0,
    "start_time": "2024-07-23T19:45:16.148Z"
   },
   {
    "duration": 0,
    "start_time": "2024-07-23T19:45:16.150Z"
   },
   {
    "duration": 0,
    "start_time": "2024-07-23T19:45:16.152Z"
   },
   {
    "duration": 0,
    "start_time": "2024-07-23T19:45:16.192Z"
   },
   {
    "duration": 0,
    "start_time": "2024-07-23T19:45:16.194Z"
   },
   {
    "duration": 0,
    "start_time": "2024-07-23T19:45:16.196Z"
   },
   {
    "duration": 0,
    "start_time": "2024-07-23T19:45:16.198Z"
   },
   {
    "duration": 0,
    "start_time": "2024-07-23T19:45:16.199Z"
   },
   {
    "duration": 0,
    "start_time": "2024-07-23T19:45:16.201Z"
   },
   {
    "duration": 0,
    "start_time": "2024-07-23T19:45:16.203Z"
   },
   {
    "duration": 0,
    "start_time": "2024-07-23T19:45:16.206Z"
   },
   {
    "duration": 0,
    "start_time": "2024-07-23T19:45:16.207Z"
   },
   {
    "duration": 7,
    "start_time": "2024-07-23T19:45:55.808Z"
   },
   {
    "duration": 55,
    "start_time": "2024-07-23T19:46:47.730Z"
   },
   {
    "duration": 5,
    "start_time": "2024-07-23T19:47:09.978Z"
   },
   {
    "duration": 5,
    "start_time": "2024-07-23T19:47:49.929Z"
   },
   {
    "duration": 7,
    "start_time": "2024-07-23T19:48:03.240Z"
   },
   {
    "duration": 6,
    "start_time": "2024-07-23T19:49:59.621Z"
   },
   {
    "duration": 6,
    "start_time": "2024-07-23T19:50:51.775Z"
   },
   {
    "duration": 6,
    "start_time": "2024-07-23T19:51:43.369Z"
   },
   {
    "duration": 5,
    "start_time": "2024-07-23T19:54:08.037Z"
   },
   {
    "duration": 55,
    "start_time": "2024-07-23T19:54:22.385Z"
   },
   {
    "duration": 4,
    "start_time": "2024-07-23T19:54:37.471Z"
   },
   {
    "duration": 187,
    "start_time": "2024-07-23T19:54:37.479Z"
   },
   {
    "duration": 10,
    "start_time": "2024-07-23T19:54:37.669Z"
   },
   {
    "duration": 37,
    "start_time": "2024-07-23T19:54:37.690Z"
   },
   {
    "duration": 11,
    "start_time": "2024-07-23T19:54:37.732Z"
   },
   {
    "duration": 6,
    "start_time": "2024-07-23T19:54:37.746Z"
   },
   {
    "duration": 39,
    "start_time": "2024-07-23T19:54:37.755Z"
   },
   {
    "duration": 57,
    "start_time": "2024-07-23T19:54:37.797Z"
   },
   {
    "duration": 0,
    "start_time": "2024-07-23T19:54:37.858Z"
   },
   {
    "duration": 0,
    "start_time": "2024-07-23T19:54:37.892Z"
   },
   {
    "duration": 0,
    "start_time": "2024-07-23T19:54:37.896Z"
   },
   {
    "duration": 0,
    "start_time": "2024-07-23T19:54:37.898Z"
   },
   {
    "duration": 0,
    "start_time": "2024-07-23T19:54:37.901Z"
   },
   {
    "duration": 0,
    "start_time": "2024-07-23T19:54:37.905Z"
   },
   {
    "duration": 0,
    "start_time": "2024-07-23T19:54:37.908Z"
   },
   {
    "duration": 0,
    "start_time": "2024-07-23T19:54:37.911Z"
   },
   {
    "duration": 0,
    "start_time": "2024-07-23T19:54:37.914Z"
   },
   {
    "duration": 0,
    "start_time": "2024-07-23T19:54:37.917Z"
   },
   {
    "duration": 0,
    "start_time": "2024-07-23T19:54:37.918Z"
   },
   {
    "duration": 0,
    "start_time": "2024-07-23T19:54:37.922Z"
   },
   {
    "duration": 0,
    "start_time": "2024-07-23T19:54:37.924Z"
   },
   {
    "duration": 0,
    "start_time": "2024-07-23T19:54:37.927Z"
   },
   {
    "duration": 1,
    "start_time": "2024-07-23T19:54:37.929Z"
   },
   {
    "duration": 0,
    "start_time": "2024-07-23T19:54:37.932Z"
   },
   {
    "duration": 0,
    "start_time": "2024-07-23T19:54:37.995Z"
   },
   {
    "duration": 1,
    "start_time": "2024-07-23T19:54:37.997Z"
   },
   {
    "duration": 0,
    "start_time": "2024-07-23T19:54:38.002Z"
   },
   {
    "duration": 0,
    "start_time": "2024-07-23T19:54:38.005Z"
   },
   {
    "duration": 1,
    "start_time": "2024-07-23T19:54:38.007Z"
   },
   {
    "duration": 60,
    "start_time": "2024-07-23T19:54:51.202Z"
   },
   {
    "duration": 4,
    "start_time": "2024-07-23T19:55:10.499Z"
   },
   {
    "duration": 6,
    "start_time": "2024-07-23T19:56:02.651Z"
   },
   {
    "duration": 7,
    "start_time": "2024-07-23T19:56:36.505Z"
   },
   {
    "duration": 5,
    "start_time": "2024-07-23T19:57:29.736Z"
   },
   {
    "duration": 6,
    "start_time": "2024-07-23T19:57:54.884Z"
   },
   {
    "duration": 7,
    "start_time": "2024-07-23T19:58:39.313Z"
   },
   {
    "duration": 7,
    "start_time": "2024-07-23T20:00:28.254Z"
   },
   {
    "duration": 7,
    "start_time": "2024-07-23T20:00:38.576Z"
   },
   {
    "duration": 7,
    "start_time": "2024-07-23T20:01:36.172Z"
   },
   {
    "duration": 6,
    "start_time": "2024-07-23T20:01:50.716Z"
   },
   {
    "duration": 5,
    "start_time": "2024-07-23T20:02:07.724Z"
   },
   {
    "duration": 12,
    "start_time": "2024-07-23T20:02:13.673Z"
   },
   {
    "duration": 7,
    "start_time": "2024-07-23T20:02:43.047Z"
   },
   {
    "duration": 42,
    "start_time": "2024-07-23T20:02:47.013Z"
   },
   {
    "duration": 11,
    "start_time": "2024-07-23T20:02:57.206Z"
   },
   {
    "duration": 6,
    "start_time": "2024-07-23T20:04:02.503Z"
   },
   {
    "duration": 7,
    "start_time": "2024-07-23T20:04:09.038Z"
   },
   {
    "duration": 59,
    "start_time": "2024-07-23T20:04:11.403Z"
   },
   {
    "duration": 5,
    "start_time": "2024-07-23T20:04:19.858Z"
   },
   {
    "duration": 5,
    "start_time": "2024-07-23T20:04:29.005Z"
   },
   {
    "duration": 6,
    "start_time": "2024-07-23T20:33:09.580Z"
   },
   {
    "duration": 6,
    "start_time": "2024-07-23T20:33:25.949Z"
   },
   {
    "duration": 5,
    "start_time": "2024-07-23T20:33:42.664Z"
   },
   {
    "duration": 5,
    "start_time": "2024-07-23T20:33:50.145Z"
   },
   {
    "duration": 5,
    "start_time": "2024-07-23T20:33:55.445Z"
   },
   {
    "duration": 60,
    "start_time": "2024-07-23T20:34:04.099Z"
   },
   {
    "duration": 6,
    "start_time": "2024-07-23T20:34:34.493Z"
   },
   {
    "duration": 6,
    "start_time": "2024-07-23T20:34:40.346Z"
   },
   {
    "duration": 6,
    "start_time": "2024-07-23T20:34:43.585Z"
   },
   {
    "duration": 6,
    "start_time": "2024-07-23T20:36:38.566Z"
   },
   {
    "duration": 6,
    "start_time": "2024-07-23T20:37:02.603Z"
   },
   {
    "duration": 6,
    "start_time": "2024-07-23T20:37:34.101Z"
   },
   {
    "duration": 6,
    "start_time": "2024-07-23T20:37:43.299Z"
   },
   {
    "duration": 26,
    "start_time": "2024-07-23T20:40:22.626Z"
   },
   {
    "duration": 6,
    "start_time": "2024-07-23T20:40:32.016Z"
   },
   {
    "duration": 59,
    "start_time": "2024-07-23T20:41:23.606Z"
   },
   {
    "duration": 57,
    "start_time": "2024-07-23T20:41:39.613Z"
   },
   {
    "duration": 7,
    "start_time": "2024-07-23T20:42:44.309Z"
   },
   {
    "duration": 57,
    "start_time": "2024-07-23T20:43:53.031Z"
   },
   {
    "duration": 54,
    "start_time": "2024-07-23T20:43:59.481Z"
   },
   {
    "duration": 5,
    "start_time": "2024-07-23T20:46:08.684Z"
   },
   {
    "duration": 5,
    "start_time": "2024-07-23T20:46:17.155Z"
   },
   {
    "duration": 483,
    "start_time": "2024-07-23T20:47:29.168Z"
   },
   {
    "duration": 169,
    "start_time": "2024-07-23T20:47:29.655Z"
   },
   {
    "duration": 12,
    "start_time": "2024-07-23T20:47:29.827Z"
   },
   {
    "duration": 53,
    "start_time": "2024-07-23T20:47:29.845Z"
   },
   {
    "duration": 13,
    "start_time": "2024-07-23T20:47:29.901Z"
   },
   {
    "duration": 6,
    "start_time": "2024-07-23T20:47:29.917Z"
   },
   {
    "duration": 5,
    "start_time": "2024-07-23T20:47:29.927Z"
   },
   {
    "duration": 7,
    "start_time": "2024-07-23T20:47:29.936Z"
   },
   {
    "duration": 1119,
    "start_time": "2024-07-23T20:47:29.992Z"
   },
   {
    "duration": 0,
    "start_time": "2024-07-23T20:47:31.116Z"
   },
   {
    "duration": 0,
    "start_time": "2024-07-23T20:47:31.118Z"
   },
   {
    "duration": 0,
    "start_time": "2024-07-23T20:47:31.121Z"
   },
   {
    "duration": 0,
    "start_time": "2024-07-23T20:47:31.124Z"
   },
   {
    "duration": 0,
    "start_time": "2024-07-23T20:47:31.127Z"
   },
   {
    "duration": 0,
    "start_time": "2024-07-23T20:47:31.130Z"
   },
   {
    "duration": 0,
    "start_time": "2024-07-23T20:47:31.134Z"
   },
   {
    "duration": 0,
    "start_time": "2024-07-23T20:47:31.137Z"
   },
   {
    "duration": 1,
    "start_time": "2024-07-23T20:47:31.139Z"
   },
   {
    "duration": 0,
    "start_time": "2024-07-23T20:47:31.142Z"
   },
   {
    "duration": 0,
    "start_time": "2024-07-23T20:47:31.190Z"
   },
   {
    "duration": 0,
    "start_time": "2024-07-23T20:47:31.191Z"
   },
   {
    "duration": 0,
    "start_time": "2024-07-23T20:47:31.194Z"
   },
   {
    "duration": 0,
    "start_time": "2024-07-23T20:47:31.197Z"
   },
   {
    "duration": 0,
    "start_time": "2024-07-23T20:47:31.200Z"
   },
   {
    "duration": 0,
    "start_time": "2024-07-23T20:47:31.202Z"
   },
   {
    "duration": 0,
    "start_time": "2024-07-23T20:47:31.205Z"
   },
   {
    "duration": 0,
    "start_time": "2024-07-23T20:47:31.208Z"
   },
   {
    "duration": 0,
    "start_time": "2024-07-23T20:47:31.211Z"
   },
   {
    "duration": 0,
    "start_time": "2024-07-23T20:47:31.214Z"
   },
   {
    "duration": 5,
    "start_time": "2024-07-23T20:48:20.158Z"
   },
   {
    "duration": 55,
    "start_time": "2024-07-23T20:49:17.309Z"
   },
   {
    "duration": 61,
    "start_time": "2024-07-23T20:49:32.020Z"
   },
   {
    "duration": 5,
    "start_time": "2024-07-23T20:49:37.453Z"
   },
   {
    "duration": 53,
    "start_time": "2024-07-23T20:50:06.774Z"
   },
   {
    "duration": 4,
    "start_time": "2024-07-23T20:50:10.420Z"
   },
   {
    "duration": 53,
    "start_time": "2024-07-23T20:50:20.035Z"
   },
   {
    "duration": 6,
    "start_time": "2024-07-23T20:50:27.271Z"
   },
   {
    "duration": 5,
    "start_time": "2024-07-23T20:51:08.393Z"
   },
   {
    "duration": 4,
    "start_time": "2024-07-23T20:51:15.336Z"
   },
   {
    "duration": 4,
    "start_time": "2024-07-23T20:51:30.545Z"
   },
   {
    "duration": 5,
    "start_time": "2024-07-23T20:51:48.743Z"
   },
   {
    "duration": 5,
    "start_time": "2024-07-23T20:52:05.654Z"
   },
   {
    "duration": 6,
    "start_time": "2024-07-23T21:16:43.800Z"
   },
   {
    "duration": 5,
    "start_time": "2024-07-23T21:17:06.867Z"
   },
   {
    "duration": 5,
    "start_time": "2024-07-23T21:20:29.831Z"
   },
   {
    "duration": 5,
    "start_time": "2024-07-23T21:21:12.076Z"
   },
   {
    "duration": 6,
    "start_time": "2024-07-23T21:25:25.141Z"
   },
   {
    "duration": 6,
    "start_time": "2024-07-23T21:25:36.729Z"
   },
   {
    "duration": 7,
    "start_time": "2024-07-23T21:26:34.207Z"
   },
   {
    "duration": 7,
    "start_time": "2024-07-23T21:27:11.194Z"
   },
   {
    "duration": 5,
    "start_time": "2024-07-23T21:27:26.497Z"
   },
   {
    "duration": 346,
    "start_time": "2024-07-24T19:36:53.278Z"
   },
   {
    "duration": 465,
    "start_time": "2024-07-24T19:37:06.331Z"
   },
   {
    "duration": 193,
    "start_time": "2024-07-24T19:37:06.800Z"
   },
   {
    "duration": 10,
    "start_time": "2024-07-24T19:37:06.996Z"
   },
   {
    "duration": 33,
    "start_time": "2024-07-24T19:37:07.014Z"
   },
   {
    "duration": 12,
    "start_time": "2024-07-24T19:37:07.050Z"
   },
   {
    "duration": 5,
    "start_time": "2024-07-24T19:37:07.065Z"
   },
   {
    "duration": 41,
    "start_time": "2024-07-24T19:37:07.073Z"
   },
   {
    "duration": 6,
    "start_time": "2024-07-24T19:37:07.117Z"
   },
   {
    "duration": 7,
    "start_time": "2024-07-24T19:37:07.126Z"
   },
   {
    "duration": 5,
    "start_time": "2024-07-24T19:37:07.140Z"
   },
   {
    "duration": 73,
    "start_time": "2024-07-24T19:37:07.148Z"
   },
   {
    "duration": 4,
    "start_time": "2024-07-24T19:37:07.224Z"
   },
   {
    "duration": 4,
    "start_time": "2024-07-24T19:37:07.232Z"
   },
   {
    "duration": 4,
    "start_time": "2024-07-24T19:37:07.239Z"
   },
   {
    "duration": 4,
    "start_time": "2024-07-24T19:37:07.246Z"
   },
   {
    "duration": 4,
    "start_time": "2024-07-24T19:37:07.252Z"
   },
   {
    "duration": 3,
    "start_time": "2024-07-24T19:37:07.312Z"
   },
   {
    "duration": 5,
    "start_time": "2024-07-24T19:37:07.319Z"
   },
   {
    "duration": 5,
    "start_time": "2024-07-24T19:37:07.328Z"
   },
   {
    "duration": 3,
    "start_time": "2024-07-24T19:37:07.337Z"
   },
   {
    "duration": 4,
    "start_time": "2024-07-24T19:37:07.344Z"
   },
   {
    "duration": 5,
    "start_time": "2024-07-24T19:37:07.351Z"
   },
   {
    "duration": 4,
    "start_time": "2024-07-24T19:37:07.413Z"
   },
   {
    "duration": 4,
    "start_time": "2024-07-24T19:37:07.421Z"
   },
   {
    "duration": 4,
    "start_time": "2024-07-24T19:37:07.428Z"
   },
   {
    "duration": 5,
    "start_time": "2024-07-24T19:37:07.435Z"
   },
   {
    "duration": 4,
    "start_time": "2024-07-24T19:37:07.443Z"
   },
   {
    "duration": 3,
    "start_time": "2024-07-24T19:37:07.455Z"
   },
   {
    "duration": 4,
    "start_time": "2024-07-24T19:37:07.514Z"
   },
   {
    "duration": 7,
    "start_time": "2024-07-24T19:37:47.797Z"
   },
   {
    "duration": 4,
    "start_time": "2024-07-24T19:37:56.334Z"
   },
   {
    "duration": 26,
    "start_time": "2024-07-24T19:38:26.008Z"
   },
   {
    "duration": 4,
    "start_time": "2024-07-24T19:41:32.088Z"
   },
   {
    "duration": 26,
    "start_time": "2024-07-24T19:41:43.820Z"
   },
   {
    "duration": 3,
    "start_time": "2024-07-24T19:42:00.830Z"
   },
   {
    "duration": 26,
    "start_time": "2024-07-24T19:42:05.540Z"
   },
   {
    "duration": 19,
    "start_time": "2024-07-24T19:43:31.286Z"
   },
   {
    "duration": 25,
    "start_time": "2024-07-24T19:43:33.865Z"
   },
   {
    "duration": 78,
    "start_time": "2024-07-24T19:44:35.150Z"
   },
   {
    "duration": 83,
    "start_time": "2024-07-24T19:45:31.644Z"
   },
   {
    "duration": 72,
    "start_time": "2024-07-24T19:45:34.747Z"
   },
   {
    "duration": 11,
    "start_time": "2024-07-24T19:48:46.590Z"
   },
   {
    "duration": 59,
    "start_time": "2024-07-24T19:50:48.271Z"
   },
   {
    "duration": 49,
    "start_time": "2024-07-24T19:53:05.755Z"
   },
   {
    "duration": 710,
    "start_time": "2024-07-24T19:56:53.115Z"
   },
   {
    "duration": 66,
    "start_time": "2024-07-24T19:57:25.439Z"
   },
   {
    "duration": 51,
    "start_time": "2024-07-24T19:57:40.955Z"
   },
   {
    "duration": 22,
    "start_time": "2024-07-24T20:11:55.252Z"
   },
   {
    "duration": 23,
    "start_time": "2024-07-24T20:12:31.088Z"
   },
   {
    "duration": 24,
    "start_time": "2024-07-24T20:13:05.831Z"
   },
   {
    "duration": 23,
    "start_time": "2024-07-24T20:13:25.349Z"
   },
   {
    "duration": 25,
    "start_time": "2024-07-24T20:13:52.110Z"
   },
   {
    "duration": 9,
    "start_time": "2024-07-24T20:14:04.568Z"
   },
   {
    "duration": 22,
    "start_time": "2024-07-24T20:16:30.227Z"
   },
   {
    "duration": 11,
    "start_time": "2024-07-24T20:16:57.049Z"
   },
   {
    "duration": 29,
    "start_time": "2024-07-24T20:17:34.000Z"
   },
   {
    "duration": 10,
    "start_time": "2024-07-24T20:19:25.688Z"
   },
   {
    "duration": 8,
    "start_time": "2024-07-24T20:32:08.903Z"
   },
   {
    "duration": 7,
    "start_time": "2024-07-24T20:32:42.567Z"
   },
   {
    "duration": 7,
    "start_time": "2024-07-24T20:32:50.605Z"
   },
   {
    "duration": 30,
    "start_time": "2024-07-24T20:33:06.959Z"
   },
   {
    "duration": 470,
    "start_time": "2024-07-24T20:33:21.625Z"
   },
   {
    "duration": 35,
    "start_time": "2024-07-24T20:33:44.580Z"
   },
   {
    "duration": 19,
    "start_time": "2024-07-24T20:33:51.142Z"
   },
   {
    "duration": 4,
    "start_time": "2024-07-24T20:34:38.905Z"
   },
   {
    "duration": 10,
    "start_time": "2024-07-24T20:35:25.292Z"
   },
   {
    "duration": 4,
    "start_time": "2024-07-24T20:38:24.794Z"
   },
   {
    "duration": 11,
    "start_time": "2024-07-24T20:38:31.210Z"
   },
   {
    "duration": 10,
    "start_time": "2024-07-24T20:38:35.920Z"
   },
   {
    "duration": 1499,
    "start_time": "2024-07-24T20:55:03.701Z"
   },
   {
    "duration": 1489,
    "start_time": "2024-07-24T20:55:17.432Z"
   },
   {
    "duration": 421,
    "start_time": "2024-07-24T20:57:08.727Z"
   },
   {
    "duration": 84,
    "start_time": "2024-07-24T20:57:40.638Z"
   },
   {
    "duration": 314,
    "start_time": "2024-07-25T15:33:43.521Z"
   },
   {
    "duration": 434,
    "start_time": "2024-07-25T15:33:50.464Z"
   },
   {
    "duration": 184,
    "start_time": "2024-07-25T15:33:50.903Z"
   },
   {
    "duration": 11,
    "start_time": "2024-07-25T15:33:51.090Z"
   },
   {
    "duration": 52,
    "start_time": "2024-07-25T15:33:51.105Z"
   },
   {
    "duration": 11,
    "start_time": "2024-07-25T15:33:51.163Z"
   },
   {
    "duration": 5,
    "start_time": "2024-07-25T15:33:51.178Z"
   },
   {
    "duration": 40,
    "start_time": "2024-07-25T15:33:51.187Z"
   },
   {
    "duration": 6,
    "start_time": "2024-07-25T15:33:51.230Z"
   },
   {
    "duration": 6,
    "start_time": "2024-07-25T15:33:51.239Z"
   },
   {
    "duration": 5,
    "start_time": "2024-07-25T15:33:51.248Z"
   },
   {
    "duration": 70,
    "start_time": "2024-07-25T15:33:51.257Z"
   },
   {
    "duration": 19,
    "start_time": "2024-07-25T15:33:51.330Z"
   },
   {
    "duration": 26,
    "start_time": "2024-07-25T15:33:51.352Z"
   },
   {
    "duration": 104,
    "start_time": "2024-07-25T15:33:51.384Z"
   },
   {
    "duration": 103,
    "start_time": "2024-07-25T15:33:51.491Z"
   },
   {
    "duration": 88,
    "start_time": "2024-07-25T15:33:51.596Z"
   },
   {
    "duration": 10,
    "start_time": "2024-07-25T15:33:51.687Z"
   },
   {
    "duration": 5,
    "start_time": "2024-07-25T15:33:51.700Z"
   },
   {
    "duration": 13,
    "start_time": "2024-07-25T15:33:51.727Z"
   },
   {
    "duration": 11,
    "start_time": "2024-07-25T15:33:51.742Z"
   },
   {
    "duration": 307,
    "start_time": "2024-07-25T15:33:51.755Z"
   },
   {
    "duration": 0,
    "start_time": "2024-07-25T15:33:52.065Z"
   },
   {
    "duration": 0,
    "start_time": "2024-07-25T15:33:52.067Z"
   },
   {
    "duration": 0,
    "start_time": "2024-07-25T15:33:52.069Z"
   },
   {
    "duration": 0,
    "start_time": "2024-07-25T15:33:52.071Z"
   },
   {
    "duration": 0,
    "start_time": "2024-07-25T15:33:52.072Z"
   },
   {
    "duration": 0,
    "start_time": "2024-07-25T15:33:52.074Z"
   },
   {
    "duration": 0,
    "start_time": "2024-07-25T15:33:52.076Z"
   },
   {
    "duration": 0,
    "start_time": "2024-07-25T15:33:52.078Z"
   },
   {
    "duration": 7,
    "start_time": "2024-07-25T15:34:48.539Z"
   },
   {
    "duration": 7,
    "start_time": "2024-07-25T15:35:15.297Z"
   },
   {
    "duration": 5,
    "start_time": "2024-07-25T15:35:55.261Z"
   },
   {
    "duration": 6,
    "start_time": "2024-07-25T15:36:10.099Z"
   },
   {
    "duration": 6,
    "start_time": "2024-07-25T15:36:30.757Z"
   },
   {
    "duration": 24,
    "start_time": "2024-07-25T15:37:01.544Z"
   },
   {
    "duration": 26,
    "start_time": "2024-07-25T15:37:23.363Z"
   },
   {
    "duration": 26,
    "start_time": "2024-07-25T15:37:38.750Z"
   },
   {
    "duration": 46,
    "start_time": "2024-07-25T15:38:31.350Z"
   },
   {
    "duration": 54,
    "start_time": "2024-07-25T15:39:13.744Z"
   },
   {
    "duration": 73,
    "start_time": "2024-07-25T15:39:21.219Z"
   },
   {
    "duration": 36,
    "start_time": "2024-07-25T15:39:58.183Z"
   },
   {
    "duration": 16,
    "start_time": "2024-07-25T15:43:23.342Z"
   },
   {
    "duration": 45,
    "start_time": "2024-07-25T15:50:34.564Z"
   },
   {
    "duration": 32,
    "start_time": "2024-07-25T15:58:47.439Z"
   },
   {
    "duration": 696,
    "start_time": "2024-07-25T15:59:49.972Z"
   },
   {
    "duration": 15,
    "start_time": "2024-07-25T16:00:05.005Z"
   },
   {
    "duration": 29,
    "start_time": "2024-07-25T16:03:29.762Z"
   },
   {
    "duration": 15,
    "start_time": "2024-07-25T16:04:27.103Z"
   },
   {
    "duration": 43,
    "start_time": "2024-07-25T16:04:40.320Z"
   },
   {
    "duration": 25,
    "start_time": "2024-07-25T16:05:00.280Z"
   },
   {
    "duration": 14,
    "start_time": "2024-07-25T16:06:13.298Z"
   },
   {
    "duration": 14,
    "start_time": "2024-07-25T16:06:50.551Z"
   },
   {
    "duration": 29,
    "start_time": "2024-07-25T16:07:17.641Z"
   },
   {
    "duration": 15,
    "start_time": "2024-07-25T16:07:28.686Z"
   },
   {
    "duration": 14,
    "start_time": "2024-07-25T16:09:16.697Z"
   },
   {
    "duration": 14,
    "start_time": "2024-07-25T16:11:02.341Z"
   },
   {
    "duration": 4,
    "start_time": "2024-07-25T17:12:44.009Z"
   },
   {
    "duration": 33,
    "start_time": "2024-07-25T17:13:49.660Z"
   },
   {
    "duration": 4,
    "start_time": "2024-07-25T17:14:13.715Z"
   },
   {
    "duration": 24,
    "start_time": "2024-07-25T17:14:16.205Z"
   },
   {
    "duration": 4,
    "start_time": "2024-07-25T17:14:36.874Z"
   },
   {
    "duration": 36,
    "start_time": "2024-07-25T17:14:38.504Z"
   },
   {
    "duration": 4,
    "start_time": "2024-07-25T17:15:03.057Z"
   },
   {
    "duration": 422,
    "start_time": "2024-07-25T17:15:04.163Z"
   },
   {
    "duration": 5,
    "start_time": "2024-07-25T17:15:39.245Z"
   },
   {
    "duration": 33,
    "start_time": "2024-07-25T17:15:41.208Z"
   },
   {
    "duration": 4,
    "start_time": "2024-07-25T17:16:55.891Z"
   },
   {
    "duration": 33,
    "start_time": "2024-07-25T17:16:57.081Z"
   },
   {
    "duration": 9,
    "start_time": "2024-07-25T20:11:22.249Z"
   },
   {
    "duration": 4,
    "start_time": "2024-07-25T20:11:45.338Z"
   },
   {
    "duration": 318,
    "start_time": "2024-07-25T20:12:10.746Z"
   },
   {
    "duration": 4,
    "start_time": "2024-07-25T20:12:45.743Z"
   },
   {
    "duration": 31,
    "start_time": "2024-07-25T20:12:48.156Z"
   },
   {
    "duration": 439,
    "start_time": "2024-07-26T17:38:42.169Z"
   },
   {
    "duration": 180,
    "start_time": "2024-07-26T17:38:42.612Z"
   },
   {
    "duration": 11,
    "start_time": "2024-07-26T17:38:42.795Z"
   },
   {
    "duration": 33,
    "start_time": "2024-07-26T17:38:42.811Z"
   },
   {
    "duration": 13,
    "start_time": "2024-07-26T17:38:42.847Z"
   },
   {
    "duration": 5,
    "start_time": "2024-07-26T17:38:42.863Z"
   },
   {
    "duration": 37,
    "start_time": "2024-07-26T17:38:42.871Z"
   },
   {
    "duration": 6,
    "start_time": "2024-07-26T17:38:42.913Z"
   },
   {
    "duration": 6,
    "start_time": "2024-07-26T17:38:42.923Z"
   },
   {
    "duration": 4,
    "start_time": "2024-07-26T17:38:42.935Z"
   },
   {
    "duration": 70,
    "start_time": "2024-07-26T17:38:42.942Z"
   },
   {
    "duration": 17,
    "start_time": "2024-07-26T17:38:43.015Z"
   },
   {
    "duration": 27,
    "start_time": "2024-07-26T17:38:43.035Z"
   },
   {
    "duration": 111,
    "start_time": "2024-07-26T17:38:43.065Z"
   },
   {
    "duration": 101,
    "start_time": "2024-07-26T17:38:43.178Z"
   },
   {
    "duration": 75,
    "start_time": "2024-07-26T17:38:43.282Z"
   },
   {
    "duration": 9,
    "start_time": "2024-07-26T17:38:43.360Z"
   },
   {
    "duration": 6,
    "start_time": "2024-07-26T17:38:43.372Z"
   },
   {
    "duration": 12,
    "start_time": "2024-07-26T17:38:43.407Z"
   },
   {
    "duration": 10,
    "start_time": "2024-07-26T17:38:43.422Z"
   },
   {
    "duration": 15,
    "start_time": "2024-07-26T17:38:43.434Z"
   },
   {
    "duration": 54,
    "start_time": "2024-07-26T17:38:43.452Z"
   },
   {
    "duration": 4,
    "start_time": "2024-07-26T17:38:43.509Z"
   },
   {
    "duration": 364,
    "start_time": "2024-07-26T17:38:43.516Z"
   },
   {
    "duration": 0,
    "start_time": "2024-07-26T17:38:43.883Z"
   },
   {
    "duration": 0,
    "start_time": "2024-07-26T17:38:43.885Z"
   },
   {
    "duration": 0,
    "start_time": "2024-07-26T17:38:43.888Z"
   },
   {
    "duration": 0,
    "start_time": "2024-07-26T17:38:43.890Z"
   },
   {
    "duration": 0,
    "start_time": "2024-07-26T17:38:43.892Z"
   },
   {
    "duration": 4,
    "start_time": "2024-07-26T17:38:58.555Z"
   },
   {
    "duration": 32,
    "start_time": "2024-07-26T17:39:01.015Z"
   },
   {
    "duration": 5,
    "start_time": "2024-07-26T17:40:02.127Z"
   },
   {
    "duration": 32,
    "start_time": "2024-07-26T17:40:03.652Z"
   },
   {
    "duration": 10,
    "start_time": "2024-07-26T17:41:52.036Z"
   },
   {
    "duration": 4,
    "start_time": "2024-07-26T17:41:59.159Z"
   },
   {
    "duration": 17,
    "start_time": "2024-07-26T17:42:01.031Z"
   },
   {
    "duration": 13,
    "start_time": "2024-07-26T17:42:42.881Z"
   },
   {
    "duration": 15,
    "start_time": "2024-07-26T17:43:08.408Z"
   },
   {
    "duration": 21,
    "start_time": "2024-07-26T17:43:28.387Z"
   },
   {
    "duration": 13,
    "start_time": "2024-07-26T17:44:02.540Z"
   },
   {
    "duration": 15,
    "start_time": "2024-07-26T18:00:26.336Z"
   },
   {
    "duration": 4,
    "start_time": "2024-07-26T20:52:42.601Z"
   },
   {
    "duration": 5,
    "start_time": "2024-07-26T20:53:14.016Z"
   },
   {
    "duration": 4,
    "start_time": "2024-07-26T20:54:13.335Z"
   },
   {
    "duration": 14,
    "start_time": "2024-07-26T20:59:19.043Z"
   },
   {
    "duration": 28,
    "start_time": "2024-07-26T21:01:44.900Z"
   },
   {
    "duration": 25,
    "start_time": "2024-07-26T21:02:45.849Z"
   },
   {
    "duration": 28,
    "start_time": "2024-07-26T21:03:00.505Z"
   },
   {
    "duration": 25,
    "start_time": "2024-07-26T21:04:13.400Z"
   },
   {
    "duration": 4,
    "start_time": "2024-07-26T21:07:26.394Z"
   },
   {
    "duration": 25,
    "start_time": "2024-07-26T21:08:23.200Z"
   },
   {
    "duration": 26,
    "start_time": "2024-07-26T21:08:43.727Z"
   },
   {
    "duration": 4,
    "start_time": "2024-07-26T21:24:50.941Z"
   },
   {
    "duration": 5,
    "start_time": "2024-07-26T21:27:32.488Z"
   },
   {
    "duration": 25,
    "start_time": "2024-07-26T21:27:36.395Z"
   },
   {
    "duration": 5,
    "start_time": "2024-07-26T21:28:04.772Z"
   },
   {
    "duration": 29,
    "start_time": "2024-07-26T21:28:07.874Z"
   },
   {
    "duration": 4,
    "start_time": "2024-07-26T21:29:08.894Z"
   },
   {
    "duration": 34,
    "start_time": "2024-07-26T21:29:11.807Z"
   },
   {
    "duration": 5,
    "start_time": "2024-07-26T21:30:50.208Z"
   },
   {
    "duration": 5,
    "start_time": "2024-07-26T21:31:10.343Z"
   },
   {
    "duration": 5,
    "start_time": "2024-07-26T21:31:20.249Z"
   },
   {
    "duration": 26,
    "start_time": "2024-07-26T21:31:24.659Z"
   },
   {
    "duration": 5,
    "start_time": "2024-07-26T21:40:20.127Z"
   },
   {
    "duration": 856,
    "start_time": "2024-07-26T21:40:23.149Z"
   },
   {
    "duration": 5,
    "start_time": "2024-07-26T21:40:44.621Z"
   },
   {
    "duration": 122,
    "start_time": "2024-07-26T21:40:46.955Z"
   },
   {
    "duration": 24,
    "start_time": "2024-07-26T22:22:24.409Z"
   },
   {
    "duration": 10,
    "start_time": "2024-07-27T10:26:52.148Z"
   },
   {
    "duration": 334,
    "start_time": "2024-07-27T10:26:54.700Z"
   },
   {
    "duration": 4,
    "start_time": "2024-07-27T10:27:15.272Z"
   },
   {
    "duration": 20,
    "start_time": "2024-07-27T10:27:16.880Z"
   },
   {
    "duration": 5,
    "start_time": "2024-07-27T10:29:17.546Z"
   },
   {
    "duration": 20,
    "start_time": "2024-07-27T10:29:19.213Z"
   },
   {
    "duration": 5,
    "start_time": "2024-07-27T10:30:17.574Z"
   },
   {
    "duration": 21,
    "start_time": "2024-07-27T10:30:18.839Z"
   },
   {
    "duration": 430,
    "start_time": "2024-07-27T10:30:33.453Z"
   },
   {
    "duration": 184,
    "start_time": "2024-07-27T10:30:33.890Z"
   },
   {
    "duration": 13,
    "start_time": "2024-07-27T10:30:34.078Z"
   },
   {
    "duration": 34,
    "start_time": "2024-07-27T10:30:34.094Z"
   },
   {
    "duration": 13,
    "start_time": "2024-07-27T10:30:34.130Z"
   },
   {
    "duration": 5,
    "start_time": "2024-07-27T10:30:34.147Z"
   },
   {
    "duration": 6,
    "start_time": "2024-07-27T10:30:34.192Z"
   },
   {
    "duration": 6,
    "start_time": "2024-07-27T10:30:34.201Z"
   },
   {
    "duration": 6,
    "start_time": "2024-07-27T10:30:34.211Z"
   },
   {
    "duration": 4,
    "start_time": "2024-07-27T10:30:34.223Z"
   },
   {
    "duration": 75,
    "start_time": "2024-07-27T10:30:34.231Z"
   },
   {
    "duration": 17,
    "start_time": "2024-07-27T10:30:34.309Z"
   },
   {
    "duration": 27,
    "start_time": "2024-07-27T10:30:34.329Z"
   },
   {
    "duration": 108,
    "start_time": "2024-07-27T10:30:34.358Z"
   },
   {
    "duration": 101,
    "start_time": "2024-07-27T10:30:34.469Z"
   },
   {
    "duration": 80,
    "start_time": "2024-07-27T10:30:34.572Z"
   },
   {
    "duration": 10,
    "start_time": "2024-07-27T10:30:34.655Z"
   },
   {
    "duration": 6,
    "start_time": "2024-07-27T10:30:34.692Z"
   },
   {
    "duration": 19,
    "start_time": "2024-07-27T10:30:34.701Z"
   },
   {
    "duration": 12,
    "start_time": "2024-07-27T10:30:34.724Z"
   },
   {
    "duration": 55,
    "start_time": "2024-07-27T10:30:34.739Z"
   },
   {
    "duration": 20,
    "start_time": "2024-07-27T10:30:34.798Z"
   },
   {
    "duration": 5,
    "start_time": "2024-07-27T10:30:34.823Z"
   },
   {
    "duration": 5,
    "start_time": "2024-07-27T10:30:34.832Z"
   },
   {
    "duration": 5,
    "start_time": "2024-07-27T10:30:34.841Z"
   },
   {
    "duration": 5,
    "start_time": "2024-07-27T10:30:34.891Z"
   },
   {
    "duration": 57,
    "start_time": "2024-07-27T10:30:34.899Z"
   },
   {
    "duration": 0,
    "start_time": "2024-07-27T10:30:34.958Z"
   },
   {
    "duration": 0,
    "start_time": "2024-07-27T10:30:34.960Z"
   },
   {
    "duration": 0,
    "start_time": "2024-07-27T10:30:34.991Z"
   },
   {
    "duration": 1,
    "start_time": "2024-07-27T10:30:34.994Z"
   },
   {
    "duration": 0,
    "start_time": "2024-07-27T10:30:34.996Z"
   },
   {
    "duration": 20,
    "start_time": "2024-07-27T10:30:41.673Z"
   },
   {
    "duration": 22,
    "start_time": "2024-07-27T10:30:47.374Z"
   },
   {
    "duration": 6,
    "start_time": "2024-07-27T10:32:22.480Z"
   },
   {
    "duration": 27,
    "start_time": "2024-07-27T10:32:25.145Z"
   },
   {
    "duration": 22,
    "start_time": "2024-07-27T10:32:41.232Z"
   },
   {
    "duration": 21,
    "start_time": "2024-07-27T10:32:48.935Z"
   },
   {
    "duration": 22,
    "start_time": "2024-07-27T10:32:52.681Z"
   },
   {
    "duration": 19,
    "start_time": "2024-07-27T10:32:55.862Z"
   },
   {
    "duration": 24,
    "start_time": "2024-07-27T10:32:58.387Z"
   },
   {
    "duration": 19,
    "start_time": "2024-07-27T10:33:01.103Z"
   },
   {
    "duration": 437,
    "start_time": "2024-07-27T18:12:55.371Z"
   },
   {
    "duration": 179,
    "start_time": "2024-07-27T18:12:55.811Z"
   },
   {
    "duration": 11,
    "start_time": "2024-07-27T18:12:55.992Z"
   },
   {
    "duration": 43,
    "start_time": "2024-07-27T18:12:56.007Z"
   },
   {
    "duration": 6,
    "start_time": "2024-07-27T18:12:56.053Z"
   },
   {
    "duration": 7,
    "start_time": "2024-07-27T18:12:56.062Z"
   },
   {
    "duration": 6,
    "start_time": "2024-07-27T18:12:56.073Z"
   },
   {
    "duration": 53,
    "start_time": "2024-07-27T18:12:56.082Z"
   },
   {
    "duration": 5,
    "start_time": "2024-07-27T18:12:56.138Z"
   },
   {
    "duration": 26,
    "start_time": "2024-07-27T18:12:56.149Z"
   },
   {
    "duration": 16,
    "start_time": "2024-07-27T18:12:56.179Z"
   },
   {
    "duration": 25,
    "start_time": "2024-07-27T18:12:56.234Z"
   },
   {
    "duration": 98,
    "start_time": "2024-07-27T18:12:56.262Z"
   },
   {
    "duration": 92,
    "start_time": "2024-07-27T18:12:56.363Z"
   },
   {
    "duration": 76,
    "start_time": "2024-07-27T18:12:56.458Z"
   },
   {
    "duration": 10,
    "start_time": "2024-07-27T18:12:56.537Z"
   },
   {
    "duration": 4,
    "start_time": "2024-07-27T18:12:56.550Z"
   },
   {
    "duration": 13,
    "start_time": "2024-07-27T18:12:56.557Z"
   },
   {
    "duration": 11,
    "start_time": "2024-07-27T18:12:56.573Z"
   },
   {
    "duration": 60,
    "start_time": "2024-07-27T18:12:56.586Z"
   },
   {
    "duration": 13,
    "start_time": "2024-07-27T18:12:56.649Z"
   },
   {
    "duration": 4,
    "start_time": "2024-07-27T18:12:56.668Z"
   },
   {
    "duration": 61,
    "start_time": "2024-07-27T18:12:56.676Z"
   },
   {
    "duration": 19,
    "start_time": "2024-07-27T18:12:56.741Z"
   },
   {
    "duration": 21,
    "start_time": "2024-07-27T18:12:56.762Z"
   },
   {
    "duration": 53,
    "start_time": "2024-07-27T18:12:56.785Z"
   },
   {
    "duration": 24,
    "start_time": "2024-07-27T18:12:56.840Z"
   },
   {
    "duration": 24,
    "start_time": "2024-07-27T18:12:56.871Z"
   },
   {
    "duration": 324,
    "start_time": "2024-07-28T12:12:37.619Z"
   },
   {
    "duration": 499,
    "start_time": "2024-07-28T12:12:45.962Z"
   },
   {
    "duration": 202,
    "start_time": "2024-07-28T12:12:46.465Z"
   },
   {
    "duration": 13,
    "start_time": "2024-07-28T12:12:46.670Z"
   },
   {
    "duration": 34,
    "start_time": "2024-07-28T12:12:46.687Z"
   },
   {
    "duration": 4,
    "start_time": "2024-07-28T12:12:46.724Z"
   },
   {
    "duration": 39,
    "start_time": "2024-07-28T12:12:46.732Z"
   },
   {
    "duration": 7,
    "start_time": "2024-07-28T12:12:46.774Z"
   },
   {
    "duration": 8,
    "start_time": "2024-07-28T12:12:46.785Z"
   },
   {
    "duration": 6,
    "start_time": "2024-07-28T12:12:46.795Z"
   },
   {
    "duration": 74,
    "start_time": "2024-07-28T12:12:46.808Z"
   },
   {
    "duration": 16,
    "start_time": "2024-07-28T12:12:46.885Z"
   },
   {
    "duration": 26,
    "start_time": "2024-07-28T12:12:46.905Z"
   },
   {
    "duration": 110,
    "start_time": "2024-07-28T12:12:46.933Z"
   },
   {
    "duration": 104,
    "start_time": "2024-07-28T12:12:47.046Z"
   },
   {
    "duration": 81,
    "start_time": "2024-07-28T12:12:47.153Z"
   },
   {
    "duration": 9,
    "start_time": "2024-07-28T12:12:47.237Z"
   },
   {
    "duration": 5,
    "start_time": "2024-07-28T12:12:47.269Z"
   },
   {
    "duration": 11,
    "start_time": "2024-07-28T12:12:47.277Z"
   },
   {
    "duration": 11,
    "start_time": "2024-07-28T12:12:47.291Z"
   },
   {
    "duration": 14,
    "start_time": "2024-07-28T12:12:47.305Z"
   },
   {
    "duration": 14,
    "start_time": "2024-07-28T12:12:47.371Z"
   },
   {
    "duration": 6,
    "start_time": "2024-07-28T12:12:47.388Z"
   },
   {
    "duration": 32,
    "start_time": "2024-07-28T12:12:47.398Z"
   },
   {
    "duration": 45,
    "start_time": "2024-07-28T12:12:47.433Z"
   },
   {
    "duration": 21,
    "start_time": "2024-07-28T12:12:47.481Z"
   },
   {
    "duration": 21,
    "start_time": "2024-07-28T12:12:47.504Z"
   },
   {
    "duration": 57,
    "start_time": "2024-07-28T12:12:47.527Z"
   },
   {
    "duration": 20,
    "start_time": "2024-07-28T12:12:47.591Z"
   },
   {
    "duration": 79,
    "start_time": "2024-07-28T12:13:07.009Z"
   },
   {
    "duration": 68,
    "start_time": "2024-07-28T12:13:11.879Z"
   },
   {
    "duration": 9,
    "start_time": "2024-07-28T12:28:15.641Z"
   },
   {
    "duration": 6,
    "start_time": "2024-07-28T12:28:48.997Z"
   },
   {
    "duration": 7,
    "start_time": "2024-07-28T12:30:34.912Z"
   }
  ],
  "colab": {
   "collapsed_sections": [
    "E0vqbgi9ay0H",
    "VUC88oWjTJw2"
   ],
   "provenance": []
  },
  "kernelspec": {
   "display_name": "Bootcamp",
   "language": "python",
   "name": "python3"
  },
  "language_info": {
   "codemirror_mode": {
    "name": "ipython",
    "version": 3
   },
   "file_extension": ".py",
   "mimetype": "text/x-python",
   "name": "python",
   "nbconvert_exporter": "python",
   "pygments_lexer": "ipython3",
   "version": "3.10.14"
  },
  "toc": {
   "base_numbering": 1,
   "nav_menu": {},
   "number_sections": true,
   "sideBar": true,
   "skip_h1_title": true,
   "title_cell": "Table of Contents",
   "title_sidebar": "Contents",
   "toc_cell": false,
   "toc_position": {},
   "toc_section_display": true,
   "toc_window_display": false
  }
 },
 "nbformat": 4,
 "nbformat_minor": 1
}

{
 "cells": [
  {
   "cell_type": "markdown",
   "metadata": {
    "id": "E0vqbgi9ay0H"
   },
   "source": [
    "# Tune in to the music!"
   ]
  },
  {
   "cell_type": "markdown",
   "metadata": {
    "id": "fhq_eyov_Zcs"
   },
   "source": [
    "# index <a id='back'></a>\n",
    "\n",
    "* [Step 1. Data Overview](#data_review)\n",
    "* [Conclusions](#data_review_conclusions)\n",
    "* [Step 2. Data Preprocessing](#data_preprocessing)\n",
    "* [2.1 Header Style](#header_style)\n",
    "* [2.2 Missing Values](#missing_values)\n",
    "* [2.3 Duplicates](#duplicates)\n",
    "* [2.4 Conclusions](#data_preprocessing_conclusions)\n",
    "* [Step 3. Hypothesis Testing](#hypothesis)\n",
    "* [3.1 Hypothesis 1: User Activity in Both Cities](#activity)\n",
    "* [Conclusions](#end)"
   ]
  },
  {
   "cell_type": "markdown",
   "metadata": {
    "id": "Ml1hmfXC_Zcs"
   },
   "source": [
    "## Step 1. Data Overview <a id='data_review'></a>"
   ]
  },
  {
   "cell_type": "code",
   "execution_count": 4,
   "metadata": {},
   "outputs": [],
   "source": [
    "# \n",
    "import os\n",
    "from pathlib import Path\n",
    "os.chdir(str(Path(\"../\")))"
   ]
  },
  {
   "cell_type": "code",
   "execution_count": 5,
   "metadata": {
    "id": "AXN7PHPN_Zcs"
   },
   "outputs": [],
   "source": [
    "# Importing the library\n",
    "import pandas as pd"
   ]
  },
  {
   "cell_type": "code",
   "execution_count": 7,
   "metadata": {
    "id": "fFVu7vqh_Zct"
   },
   "outputs": [
    {
     "ename": "FileNotFoundError",
     "evalue": "[Errno 2] No such file or directory: '/data/music_project_en.csv'",
     "output_type": "error",
     "traceback": [
      "\u001b[1;31m---------------------------------------------------------------------------\u001b[0m",
      "\u001b[1;31mFileNotFoundError\u001b[0m                         Traceback (most recent call last)",
      "Cell \u001b[1;32mIn[7], line 2\u001b[0m\n\u001b[0;32m      1\u001b[0m \u001b[38;5;66;03m# Reading the dataset\u001b[39;00m\n\u001b[1;32m----> 2\u001b[0m df \u001b[38;5;241m=\u001b[39m \u001b[43mpd\u001b[49m\u001b[38;5;241;43m.\u001b[39;49m\u001b[43mread_csv\u001b[49m\u001b[43m(\u001b[49m\u001b[38;5;124;43m'\u001b[39;49m\u001b[38;5;124;43m/data/music_project_en.csv\u001b[39;49m\u001b[38;5;124;43m'\u001b[39;49m\u001b[43m)\u001b[49m\n",
      "File \u001b[1;32mc:\\Users\\ftmsl\\anaconda3\\envs\\Bootcamp\\lib\\site-packages\\pandas\\io\\parsers\\readers.py:1026\u001b[0m, in \u001b[0;36mread_csv\u001b[1;34m(filepath_or_buffer, sep, delimiter, header, names, index_col, usecols, dtype, engine, converters, true_values, false_values, skipinitialspace, skiprows, skipfooter, nrows, na_values, keep_default_na, na_filter, verbose, skip_blank_lines, parse_dates, infer_datetime_format, keep_date_col, date_parser, date_format, dayfirst, cache_dates, iterator, chunksize, compression, thousands, decimal, lineterminator, quotechar, quoting, doublequote, escapechar, comment, encoding, encoding_errors, dialect, on_bad_lines, delim_whitespace, low_memory, memory_map, float_precision, storage_options, dtype_backend)\u001b[0m\n\u001b[0;32m   1013\u001b[0m kwds_defaults \u001b[38;5;241m=\u001b[39m _refine_defaults_read(\n\u001b[0;32m   1014\u001b[0m     dialect,\n\u001b[0;32m   1015\u001b[0m     delimiter,\n\u001b[1;32m   (...)\u001b[0m\n\u001b[0;32m   1022\u001b[0m     dtype_backend\u001b[38;5;241m=\u001b[39mdtype_backend,\n\u001b[0;32m   1023\u001b[0m )\n\u001b[0;32m   1024\u001b[0m kwds\u001b[38;5;241m.\u001b[39mupdate(kwds_defaults)\n\u001b[1;32m-> 1026\u001b[0m \u001b[38;5;28;01mreturn\u001b[39;00m \u001b[43m_read\u001b[49m\u001b[43m(\u001b[49m\u001b[43mfilepath_or_buffer\u001b[49m\u001b[43m,\u001b[49m\u001b[43m \u001b[49m\u001b[43mkwds\u001b[49m\u001b[43m)\u001b[49m\n",
      "File \u001b[1;32mc:\\Users\\ftmsl\\anaconda3\\envs\\Bootcamp\\lib\\site-packages\\pandas\\io\\parsers\\readers.py:620\u001b[0m, in \u001b[0;36m_read\u001b[1;34m(filepath_or_buffer, kwds)\u001b[0m\n\u001b[0;32m    617\u001b[0m _validate_names(kwds\u001b[38;5;241m.\u001b[39mget(\u001b[38;5;124m\"\u001b[39m\u001b[38;5;124mnames\u001b[39m\u001b[38;5;124m\"\u001b[39m, \u001b[38;5;28;01mNone\u001b[39;00m))\n\u001b[0;32m    619\u001b[0m \u001b[38;5;66;03m# Create the parser.\u001b[39;00m\n\u001b[1;32m--> 620\u001b[0m parser \u001b[38;5;241m=\u001b[39m TextFileReader(filepath_or_buffer, \u001b[38;5;241m*\u001b[39m\u001b[38;5;241m*\u001b[39mkwds)\n\u001b[0;32m    622\u001b[0m \u001b[38;5;28;01mif\u001b[39;00m chunksize \u001b[38;5;129;01mor\u001b[39;00m iterator:\n\u001b[0;32m    623\u001b[0m     \u001b[38;5;28;01mreturn\u001b[39;00m parser\n",
      "File \u001b[1;32mc:\\Users\\ftmsl\\anaconda3\\envs\\Bootcamp\\lib\\site-packages\\pandas\\io\\parsers\\readers.py:1620\u001b[0m, in \u001b[0;36mTextFileReader.__init__\u001b[1;34m(self, f, engine, **kwds)\u001b[0m\n\u001b[0;32m   1617\u001b[0m     \u001b[38;5;28mself\u001b[39m\u001b[38;5;241m.\u001b[39moptions[\u001b[38;5;124m\"\u001b[39m\u001b[38;5;124mhas_index_names\u001b[39m\u001b[38;5;124m\"\u001b[39m] \u001b[38;5;241m=\u001b[39m kwds[\u001b[38;5;124m\"\u001b[39m\u001b[38;5;124mhas_index_names\u001b[39m\u001b[38;5;124m\"\u001b[39m]\n\u001b[0;32m   1619\u001b[0m \u001b[38;5;28mself\u001b[39m\u001b[38;5;241m.\u001b[39mhandles: IOHandles \u001b[38;5;241m|\u001b[39m \u001b[38;5;28;01mNone\u001b[39;00m \u001b[38;5;241m=\u001b[39m \u001b[38;5;28;01mNone\u001b[39;00m\n\u001b[1;32m-> 1620\u001b[0m \u001b[38;5;28mself\u001b[39m\u001b[38;5;241m.\u001b[39m_engine \u001b[38;5;241m=\u001b[39m \u001b[38;5;28;43mself\u001b[39;49m\u001b[38;5;241;43m.\u001b[39;49m\u001b[43m_make_engine\u001b[49m\u001b[43m(\u001b[49m\u001b[43mf\u001b[49m\u001b[43m,\u001b[49m\u001b[43m \u001b[49m\u001b[38;5;28;43mself\u001b[39;49m\u001b[38;5;241;43m.\u001b[39;49m\u001b[43mengine\u001b[49m\u001b[43m)\u001b[49m\n",
      "File \u001b[1;32mc:\\Users\\ftmsl\\anaconda3\\envs\\Bootcamp\\lib\\site-packages\\pandas\\io\\parsers\\readers.py:1880\u001b[0m, in \u001b[0;36mTextFileReader._make_engine\u001b[1;34m(self, f, engine)\u001b[0m\n\u001b[0;32m   1878\u001b[0m     \u001b[38;5;28;01mif\u001b[39;00m \u001b[38;5;124m\"\u001b[39m\u001b[38;5;124mb\u001b[39m\u001b[38;5;124m\"\u001b[39m \u001b[38;5;129;01mnot\u001b[39;00m \u001b[38;5;129;01min\u001b[39;00m mode:\n\u001b[0;32m   1879\u001b[0m         mode \u001b[38;5;241m+\u001b[39m\u001b[38;5;241m=\u001b[39m \u001b[38;5;124m\"\u001b[39m\u001b[38;5;124mb\u001b[39m\u001b[38;5;124m\"\u001b[39m\n\u001b[1;32m-> 1880\u001b[0m \u001b[38;5;28mself\u001b[39m\u001b[38;5;241m.\u001b[39mhandles \u001b[38;5;241m=\u001b[39m \u001b[43mget_handle\u001b[49m\u001b[43m(\u001b[49m\n\u001b[0;32m   1881\u001b[0m \u001b[43m    \u001b[49m\u001b[43mf\u001b[49m\u001b[43m,\u001b[49m\n\u001b[0;32m   1882\u001b[0m \u001b[43m    \u001b[49m\u001b[43mmode\u001b[49m\u001b[43m,\u001b[49m\n\u001b[0;32m   1883\u001b[0m \u001b[43m    \u001b[49m\u001b[43mencoding\u001b[49m\u001b[38;5;241;43m=\u001b[39;49m\u001b[38;5;28;43mself\u001b[39;49m\u001b[38;5;241;43m.\u001b[39;49m\u001b[43moptions\u001b[49m\u001b[38;5;241;43m.\u001b[39;49m\u001b[43mget\u001b[49m\u001b[43m(\u001b[49m\u001b[38;5;124;43m\"\u001b[39;49m\u001b[38;5;124;43mencoding\u001b[39;49m\u001b[38;5;124;43m\"\u001b[39;49m\u001b[43m,\u001b[49m\u001b[43m \u001b[49m\u001b[38;5;28;43;01mNone\u001b[39;49;00m\u001b[43m)\u001b[49m\u001b[43m,\u001b[49m\n\u001b[0;32m   1884\u001b[0m \u001b[43m    \u001b[49m\u001b[43mcompression\u001b[49m\u001b[38;5;241;43m=\u001b[39;49m\u001b[38;5;28;43mself\u001b[39;49m\u001b[38;5;241;43m.\u001b[39;49m\u001b[43moptions\u001b[49m\u001b[38;5;241;43m.\u001b[39;49m\u001b[43mget\u001b[49m\u001b[43m(\u001b[49m\u001b[38;5;124;43m\"\u001b[39;49m\u001b[38;5;124;43mcompression\u001b[39;49m\u001b[38;5;124;43m\"\u001b[39;49m\u001b[43m,\u001b[49m\u001b[43m \u001b[49m\u001b[38;5;28;43;01mNone\u001b[39;49;00m\u001b[43m)\u001b[49m\u001b[43m,\u001b[49m\n\u001b[0;32m   1885\u001b[0m \u001b[43m    \u001b[49m\u001b[43mmemory_map\u001b[49m\u001b[38;5;241;43m=\u001b[39;49m\u001b[38;5;28;43mself\u001b[39;49m\u001b[38;5;241;43m.\u001b[39;49m\u001b[43moptions\u001b[49m\u001b[38;5;241;43m.\u001b[39;49m\u001b[43mget\u001b[49m\u001b[43m(\u001b[49m\u001b[38;5;124;43m\"\u001b[39;49m\u001b[38;5;124;43mmemory_map\u001b[39;49m\u001b[38;5;124;43m\"\u001b[39;49m\u001b[43m,\u001b[49m\u001b[43m \u001b[49m\u001b[38;5;28;43;01mFalse\u001b[39;49;00m\u001b[43m)\u001b[49m\u001b[43m,\u001b[49m\n\u001b[0;32m   1886\u001b[0m \u001b[43m    \u001b[49m\u001b[43mis_text\u001b[49m\u001b[38;5;241;43m=\u001b[39;49m\u001b[43mis_text\u001b[49m\u001b[43m,\u001b[49m\n\u001b[0;32m   1887\u001b[0m \u001b[43m    \u001b[49m\u001b[43merrors\u001b[49m\u001b[38;5;241;43m=\u001b[39;49m\u001b[38;5;28;43mself\u001b[39;49m\u001b[38;5;241;43m.\u001b[39;49m\u001b[43moptions\u001b[49m\u001b[38;5;241;43m.\u001b[39;49m\u001b[43mget\u001b[49m\u001b[43m(\u001b[49m\u001b[38;5;124;43m\"\u001b[39;49m\u001b[38;5;124;43mencoding_errors\u001b[39;49m\u001b[38;5;124;43m\"\u001b[39;49m\u001b[43m,\u001b[49m\u001b[43m \u001b[49m\u001b[38;5;124;43m\"\u001b[39;49m\u001b[38;5;124;43mstrict\u001b[39;49m\u001b[38;5;124;43m\"\u001b[39;49m\u001b[43m)\u001b[49m\u001b[43m,\u001b[49m\n\u001b[0;32m   1888\u001b[0m \u001b[43m    \u001b[49m\u001b[43mstorage_options\u001b[49m\u001b[38;5;241;43m=\u001b[39;49m\u001b[38;5;28;43mself\u001b[39;49m\u001b[38;5;241;43m.\u001b[39;49m\u001b[43moptions\u001b[49m\u001b[38;5;241;43m.\u001b[39;49m\u001b[43mget\u001b[49m\u001b[43m(\u001b[49m\u001b[38;5;124;43m\"\u001b[39;49m\u001b[38;5;124;43mstorage_options\u001b[39;49m\u001b[38;5;124;43m\"\u001b[39;49m\u001b[43m,\u001b[49m\u001b[43m \u001b[49m\u001b[38;5;28;43;01mNone\u001b[39;49;00m\u001b[43m)\u001b[49m\u001b[43m,\u001b[49m\n\u001b[0;32m   1889\u001b[0m \u001b[43m\u001b[49m\u001b[43m)\u001b[49m\n\u001b[0;32m   1890\u001b[0m \u001b[38;5;28;01massert\u001b[39;00m \u001b[38;5;28mself\u001b[39m\u001b[38;5;241m.\u001b[39mhandles \u001b[38;5;129;01mis\u001b[39;00m \u001b[38;5;129;01mnot\u001b[39;00m \u001b[38;5;28;01mNone\u001b[39;00m\n\u001b[0;32m   1891\u001b[0m f \u001b[38;5;241m=\u001b[39m \u001b[38;5;28mself\u001b[39m\u001b[38;5;241m.\u001b[39mhandles\u001b[38;5;241m.\u001b[39mhandle\n",
      "File \u001b[1;32mc:\\Users\\ftmsl\\anaconda3\\envs\\Bootcamp\\lib\\site-packages\\pandas\\io\\common.py:873\u001b[0m, in \u001b[0;36mget_handle\u001b[1;34m(path_or_buf, mode, encoding, compression, memory_map, is_text, errors, storage_options)\u001b[0m\n\u001b[0;32m    868\u001b[0m \u001b[38;5;28;01melif\u001b[39;00m \u001b[38;5;28misinstance\u001b[39m(handle, \u001b[38;5;28mstr\u001b[39m):\n\u001b[0;32m    869\u001b[0m     \u001b[38;5;66;03m# Check whether the filename is to be opened in binary mode.\u001b[39;00m\n\u001b[0;32m    870\u001b[0m     \u001b[38;5;66;03m# Binary mode does not support 'encoding' and 'newline'.\u001b[39;00m\n\u001b[0;32m    871\u001b[0m     \u001b[38;5;28;01mif\u001b[39;00m ioargs\u001b[38;5;241m.\u001b[39mencoding \u001b[38;5;129;01mand\u001b[39;00m \u001b[38;5;124m\"\u001b[39m\u001b[38;5;124mb\u001b[39m\u001b[38;5;124m\"\u001b[39m \u001b[38;5;129;01mnot\u001b[39;00m \u001b[38;5;129;01min\u001b[39;00m ioargs\u001b[38;5;241m.\u001b[39mmode:\n\u001b[0;32m    872\u001b[0m         \u001b[38;5;66;03m# Encoding\u001b[39;00m\n\u001b[1;32m--> 873\u001b[0m         handle \u001b[38;5;241m=\u001b[39m \u001b[38;5;28;43mopen\u001b[39;49m\u001b[43m(\u001b[49m\n\u001b[0;32m    874\u001b[0m \u001b[43m            \u001b[49m\u001b[43mhandle\u001b[49m\u001b[43m,\u001b[49m\n\u001b[0;32m    875\u001b[0m \u001b[43m            \u001b[49m\u001b[43mioargs\u001b[49m\u001b[38;5;241;43m.\u001b[39;49m\u001b[43mmode\u001b[49m\u001b[43m,\u001b[49m\n\u001b[0;32m    876\u001b[0m \u001b[43m            \u001b[49m\u001b[43mencoding\u001b[49m\u001b[38;5;241;43m=\u001b[39;49m\u001b[43mioargs\u001b[49m\u001b[38;5;241;43m.\u001b[39;49m\u001b[43mencoding\u001b[49m\u001b[43m,\u001b[49m\n\u001b[0;32m    877\u001b[0m \u001b[43m            \u001b[49m\u001b[43merrors\u001b[49m\u001b[38;5;241;43m=\u001b[39;49m\u001b[43merrors\u001b[49m\u001b[43m,\u001b[49m\n\u001b[0;32m    878\u001b[0m \u001b[43m            \u001b[49m\u001b[43mnewline\u001b[49m\u001b[38;5;241;43m=\u001b[39;49m\u001b[38;5;124;43m\"\u001b[39;49m\u001b[38;5;124;43m\"\u001b[39;49m\u001b[43m,\u001b[49m\n\u001b[0;32m    879\u001b[0m \u001b[43m        \u001b[49m\u001b[43m)\u001b[49m\n\u001b[0;32m    880\u001b[0m     \u001b[38;5;28;01melse\u001b[39;00m:\n\u001b[0;32m    881\u001b[0m         \u001b[38;5;66;03m# Binary mode\u001b[39;00m\n\u001b[0;32m    882\u001b[0m         handle \u001b[38;5;241m=\u001b[39m \u001b[38;5;28mopen\u001b[39m(handle, ioargs\u001b[38;5;241m.\u001b[39mmode)\n",
      "\u001b[1;31mFileNotFoundError\u001b[0m: [Errno 2] No such file or directory: '/data/music_project_en.csv'"
     ]
    }
   ],
   "source": [
    "# Reading the dataset\n",
    "df = pd.read_csv('/data/music_project_en.csv')"
   ]
  },
  {
   "cell_type": "code",
   "execution_count": 4,
   "metadata": {
    "id": "oWTVX3gW_Zct"
   },
   "outputs": [
    {
     "name": "stdout",
     "output_type": "stream",
     "text": [
      "     userID                        Track            artist   genre  \\\n",
      "0  FFB692EC            Kamigata To Boots  The Mass Missile    rock   \n",
      "1  55204538  Delayed Because of Accident  Andreas Rönnberg    rock   \n",
      "2    20EC38            Funiculì funiculà       Mario Lanza     pop   \n",
      "3  A3DD03C9        Dragons in the Sunset        Fire + Ice    folk   \n",
      "4  E2DC1FAE                  Soul People        Space Echo   dance   \n",
      "5  842029A1                       Chains          Obladaet  rusrap   \n",
      "6  4CB90AA5                         True      Roman Messer   dance   \n",
      "7  F03E1C1F             Feeling This Way   Polina Griffith   dance   \n",
      "8  8FA1D3BE                     L’estate       Julia Dalia  ruspop   \n",
      "9  E772D5C0                    Pessimist               NaN   dance   \n",
      "\n",
      "        City        time        Day  \n",
      "0  Shelbyville  20:28:33  Wednesday  \n",
      "1  Springfield  14:07:09     Friday  \n",
      "2  Shelbyville  20:58:07  Wednesday  \n",
      "3  Shelbyville  08:37:09     Monday  \n",
      "4  Springfield  08:34:34     Monday  \n",
      "5  Shelbyville  13:09:41     Friday  \n",
      "6  Springfield  13:00:07  Wednesday  \n",
      "7  Springfield  20:47:49  Wednesday  \n",
      "8  Springfield  09:17:40     Friday  \n",
      "9  Shelbyville  21:20:49  Wednesday  \n"
     ]
    }
   ],
   "source": [
    "print(df.head(10))"
   ]
  },
  {
   "cell_type": "code",
   "execution_count": 5,
   "metadata": {
    "id": "DSf2kIb-_Zct"
   },
   "outputs": [
    {
     "name": "stdout",
     "output_type": "stream",
     "text": [
      "<class 'pandas.core.frame.DataFrame'>\n",
      "RangeIndex: 65079 entries, 0 to 65078\n",
      "Data columns (total 7 columns):\n",
      " #   Column    Non-Null Count  Dtype \n",
      "---  ------    --------------  ----- \n",
      " 0     userID  65079 non-null  object\n",
      " 1   Track     63736 non-null  object\n",
      " 2   artist    57512 non-null  object\n",
      " 3   genre     63881 non-null  object\n",
      " 4     City    65079 non-null  object\n",
      " 5   time      65079 non-null  object\n",
      " 6   Day       65079 non-null  object\n",
      "dtypes: object(7)\n",
      "memory usage: 3.5+ MB\n",
      "None\n"
     ]
    }
   ],
   "source": [
    "# obtendo informações gerais sobre os nossos dados\n",
    "print(df.info())"
   ]
  },
  {
   "cell_type": "markdown",
   "metadata": {
    "id": "TaQ2Iwbr_Zct"
   },
   "source": [
    "Aqui estão as nossas observações sobre a tabela. Ela contém sete colunas. Elas armazenam o mesmo tipo de dado: `object`.\n",
    "\n",
    "De acordo com a documentação:\n",
    "- `' userID'` — identificação do usuário\n",
    "- `'Track'` — título da música\n",
    "- `'artist'` — nome do artista\n",
    "- `'genre'` — gênero da música\n",
    "- `'City'` — cidade do usuário\n",
    "- `'time'` — o tempo exato que a música foi reproduzida\n",
    "- `'Day'` — dia da semana\n",
    "\n",
    "Podemos ver três problemas de estilo nos cabeçalhos da tabela:\n",
    "1. Alguns cabeçalhos são escritos em letras maiúsculas, outros estão em minúsculas.\n",
    "2. Alguns cabeçalhos contêm espaços.\n",
    "3. A coluna 'userID' deve ser separada no estilo snake_case . #`Detecte o problema e o descreva aqui`.\n",
    "\n",
    "\n"
   ]
  },
  {
   "cell_type": "markdown",
   "metadata": {
    "id": "MCB6-dXG_Zct"
   },
   "source": [
    "### Escreva suas observações. Aqui estão algumas perguntas que podem ajudar: <a id='data_review_conclusions'></a>\n",
    "\n",
    "`1.   Que tipo de dados temos nas linhas? E como podemos entender as colunas?`\n",
    "\n",
    "    Temos dados do tipo Object/string porem a coluna time deve ser do tipo Float.\n",
    "\n",
    "`2.   Esses dados são suficientes para responder à nossa hipótese ou precisamos de mais dados?`\n",
    "\n",
    "    Estes dados devem ser suficientes para responder as perguntas para saber os tipos de músicas que os usuários ouvem durante a semana e comparar as duas cidades.\n",
    "\n",
    "`3.   Você notou algum problema nos dados, como valores ausentes, duplicados ou tipos de dados errados`\n",
    "\n",
    "   Temos dados ausentes e valores duplicado e devemos processa-los antes de seguir com o estudo do caso.\n"
   ]
  },
  {
   "cell_type": "markdown",
   "metadata": {
    "id": "3eL__vcwViOi"
   },
   "source": [
    "[Voltar ao Índice](#back)"
   ]
  },
  {
   "cell_type": "markdown",
   "metadata": {},
   "source": [
    "<div class=\"alert alert-success\">\n",
    "<strong>Comentário do revisor v1</strong>\n",
    "\n",
    "Bom trabalho com a introdução\n",
    "</div>"
   ]
  },
  {
   "cell_type": "markdown",
   "metadata": {
    "id": "SjYF6Ub9_Zct"
   },
   "source": [
    "## Etapa 2. Pré-processamento de dados <a id='data_preprocessing'></a>\n",
    "\n",
    "O objetivo aqui é preparar os dados para a análise.\n",
    "O primeiro passo é resolver todos os problemas com o cabeçalho. E então podemos passar para os valores ausentes e duplicados. Vamos começar.\n",
    "\n",
    "Corrija a formatação nos cabeçalhos da tabela.\n"
   ]
  },
  {
   "cell_type": "markdown",
   "metadata": {
    "id": "dIaKXr29_Zct"
   },
   "source": [
    "### Estilo do cabeçalho <a id='header_style'></a>\n",
    "Imprima os cabeçalhos da tabela (os nomes das colunas):"
   ]
  },
  {
   "cell_type": "code",
   "execution_count": 6,
   "metadata": {
    "id": "oKOTdF_Q_Zct"
   },
   "outputs": [
    {
     "name": "stdout",
     "output_type": "stream",
     "text": [
      "Index(['  userID', 'Track', 'artist', 'genre', '  City  ', 'time', 'Day'], dtype='object')\n"
     ]
    }
   ],
   "source": [
    "# imprima os nomes das colunas\n",
    "print(df.columns)"
   ]
  },
  {
   "cell_type": "markdown",
   "metadata": {
    "id": "zj5534cv_Zct"
   },
   "source": [
    "Mude os cabeçalhos da tabela conforme as boas práticas de estilo:\n",
    "* Todos os caracteres precisam estar com letras minúsculas\n",
    "* Exclua espaços\n",
    "* Se o nome tiver várias palavras, use snake_case"
   ]
  },
  {
   "cell_type": "markdown",
   "metadata": {
    "id": "Xu0zkfe5zNJe"
   },
   "source": [
    "Anteriormente, você aprendeu sobre uma maneira automatizada de renomear colunas. Vamos usá-la agora. Use o ciclo for para percorrer os nomes das colunas e transformar todos os caracteres em letras minúsculas. Após fazer isso, imprima os cabeçalhos da tabela novamente:"
   ]
  },
  {
   "cell_type": "code",
   "execution_count": 7,
   "metadata": {
    "id": "6I_RwwMhzM4e"
   },
   "outputs": [
    {
     "name": "stdout",
     "output_type": "stream",
     "text": [
      "Index(['  userid', 'track', 'artist', 'genre', '  city  ', 'time', 'day'], dtype='object')\n"
     ]
    }
   ],
   "source": [
    "# Percorrendo os cabeçalhos e convertendo tudo em minúsculos\n",
    "new_col_names = []  \n",
    "\n",
    "for old_name in df.columns: \n",
    "\n",
    "    name_lowered = old_name.lower()  \n",
    "    new_col_names.append(name_lowered)\n",
    "\n",
    "df.columns = new_col_names\n",
    "print(df.columns)"
   ]
  },
  {
   "cell_type": "markdown",
   "metadata": {
    "id": "pweIRxjSzPYW"
   },
   "source": [
    "Agora, usando a mesma abordagem, exclua os espaços no início e no final de cada nome de coluna e imprima os nomes das colunas novamente:"
   ]
  },
  {
   "cell_type": "code",
   "execution_count": 8,
   "metadata": {
    "id": "vVQXbFyJzSYl"
   },
   "outputs": [
    {
     "name": "stdout",
     "output_type": "stream",
     "text": [
      "Index(['userid', 'track', 'artist', 'genre', 'city', 'time', 'day'], dtype='object')\n"
     ]
    }
   ],
   "source": [
    "# Percorrendo os cabeçalhos e removendo os espaços\n",
    "new_col_names = []  \n",
    "\n",
    "for old_name in df.columns: \n",
    "\n",
    "    name_clean = old_name.strip()  \n",
    "    new_col_names.append(name_clean)\n",
    "df.columns = new_col_names\n",
    "\n",
    "print(df.columns)"
   ]
  },
  {
   "cell_type": "markdown",
   "metadata": {
    "id": "yCb8MW1JzURd"
   },
   "source": [
    "Precisamos aplicar a regra de sublinhado no lugar de espaço à coluna `userid`. Deveria ser `user_id`. Renomeie essa coluna e imprima os nomes de todas as colunas quando terminar."
   ]
  },
  {
   "cell_type": "code",
   "execution_count": 9,
   "metadata": {
    "id": "ISlFqs5y_Zct"
   },
   "outputs": [
    {
     "name": "stdout",
     "output_type": "stream",
     "text": [
      "Index(['user_id', 'track', 'artist', 'genre', 'city', 'time', 'day'], dtype='object')\n"
     ]
    }
   ],
   "source": [
    "# Renomeando a coluna \"userid\"\n",
    "new_col_names = []  \n",
    "\n",
    "for old_name in df.columns: \n",
    "\n",
    "    new_name = old_name.replace('userid', 'user_id')  \n",
    "    new_col_names.append(new_name)\n",
    "df.columns = new_col_names\n",
    "\n",
    "print(df.columns)"
   ]
  },
  {
   "cell_type": "markdown",
   "metadata": {
    "id": "1dqbh00J_Zct"
   },
   "source": [
    "Verifique o resultado. Imprima os cabeçalhos novamente:"
   ]
  },
  {
   "cell_type": "code",
   "execution_count": 10,
   "metadata": {
    "id": "d4NOAmTW_Zct"
   },
   "outputs": [
    {
     "name": "stdout",
     "output_type": "stream",
     "text": [
      "Index(['user_id', 'track', 'artist', 'genre', 'city', 'time', 'day'], dtype='object')\n"
     ]
    }
   ],
   "source": [
    "# verificando o resultado: a lista de cabeçalhos\n",
    "print(df.columns)"
   ]
  },
  {
   "cell_type": "markdown",
   "metadata": {
    "id": "xYJk6ksJVpOl"
   },
   "source": [
    "[Voltar ao Índice](#back)"
   ]
  },
  {
   "cell_type": "markdown",
   "metadata": {},
   "source": [
    "<div class=\"alert alert-success\">\n",
    "<strong>Comentário do revisor v1</strong>\n",
    "\n",
    "Tudo certo com o nome das colunas.\n",
    "</div>"
   ]
  },
  {
   "cell_type": "markdown",
   "metadata": {
    "id": "5ISfbcfY_Zct"
   },
   "source": [
    "### Valores Ausentes <a id='missing_values'></a>\n",
    " Primeiro, encontre a quantidade de valores ausentes na tabela. Você precisa usar dois métodos em sequência para obter o número de valores ausentes."
   ]
  },
  {
   "cell_type": "code",
   "execution_count": 11,
   "metadata": {
    "id": "RskX29qr_Zct"
   },
   "outputs": [
    {
     "name": "stdout",
     "output_type": "stream",
     "text": [
      "user_id       0\n",
      "track      1343\n",
      "artist     7567\n",
      "genre      1198\n",
      "city          0\n",
      "time          0\n",
      "day           0\n",
      "dtype: int64\n"
     ]
    }
   ],
   "source": [
    "# calculando o número de valores ausentes\n",
    "music_project_en = (df.isna().sum()) \n",
    "\n",
    "print(music_project_en)"
   ]
  },
  {
   "cell_type": "markdown",
   "metadata": {
    "id": "qubhgnlO_Zct"
   },
   "source": [
    "Nem todos os valores ausentes afetam a pesquisa. Por exemplo, os valores ausentes em `track` e `artist` não são críticos. Você pode simplesmente substituí-los por valores padrão, como a string `'unknown'`.\n",
    "\n",
    "Mas valores ausentes em `'genre'` podem afetar a comparação de preferências musicais de Springfield e Shelbyville. Na vida real, seria útil descobrir as razões pelas quais os dados estão ausentes e tentar corrigi-los. Mas nós não temos essa possibilidade neste projeto. Então, você terá que:\n",
    "* Preencha esses valores ausentes com um valor padrão\n",
    "* Avalie em que medida os valores ausentes podem afetar sua análise"
   ]
  },
  {
   "cell_type": "markdown",
   "metadata": {
    "id": "fSv2laPA_Zct"
   },
   "source": [
    "Substitua os valores ausentes nas colunas `'track'`, `'artist'` e `'genre'` pela string `'unknown'`. Como mostramos nas lições anteriores, a melhor maneira de fazer isso é criar uma lista para armazenar os nomes das colunas nas quais precisamos fazer a substituição. Em seguida, use essa lista e percorra as colunas nas quais a substituição seja necessária e faça a substituição."
   ]
  },
  {
   "cell_type": "code",
   "execution_count": 12,
   "metadata": {
    "id": "KplB5qWs_Zct"
   },
   "outputs": [],
   "source": [
    "# percorrendo os cabeçalhos e substituindo valores ausentes por 'unknown'\n",
    "columns_to_replace = ['track', 'artist', 'genre'] \n",
    " \n",
    "for col in columns_to_replace: \n",
    "    df[col].fillna('unknown', inplace=True) "
   ]
  },
  {
   "cell_type": "markdown",
   "metadata": {
    "id": "Ilsm-MZo_Zct"
   },
   "source": [
    "Agora verifique o resultado para ter certeza de que o conjunto de dados não contenha valores ausentes após a substituição. Para fazer isso, conte os valores ausentes novamente."
   ]
  },
  {
   "cell_type": "code",
   "execution_count": 13,
   "metadata": {
    "id": "Tq4nYRX4_Zct"
   },
   "outputs": [
    {
     "name": "stdout",
     "output_type": "stream",
     "text": [
      "user_id    0\n",
      "track      0\n",
      "artist     0\n",
      "genre      0\n",
      "city       0\n",
      "time       0\n",
      "day        0\n",
      "dtype: int64\n"
     ]
    }
   ],
   "source": [
    "# contando os valores ausentes\n",
    "music_project_en = (df.isna().sum()) \n",
    "\n",
    "print(music_project_en)"
   ]
  },
  {
   "cell_type": "markdown",
   "metadata": {
    "id": "74ZIBmq9VrsK"
   },
   "source": [
    "[Voltar ao Índice](#back)"
   ]
  },
  {
   "cell_type": "markdown",
   "metadata": {},
   "source": [
    "<div class=\"alert alert-success\">\n",
    "<strong>Comentário do revisor v1</strong>\n",
    "\n",
    "Valores ausentes tratados com sucesso.\n",
    "</div>"
   ]
  },
  {
   "cell_type": "markdown",
   "metadata": {
    "id": "BWKRtBJ3_Zct"
   },
   "source": [
    "### Duplicados <a id='duplicates'></a>\n",
    "Encontre o número de duplicados explícitos na tabela. Lembre-se de que você precisa aplicar dois métodos em sequência para obter o número de duplicados explícitos."
   ]
  },
  {
   "cell_type": "code",
   "execution_count": 14,
   "metadata": {
    "id": "36eES_S0_Zct"
   },
   "outputs": [
    {
     "name": "stdout",
     "output_type": "stream",
     "text": [
      "3826\n"
     ]
    }
   ],
   "source": [
    "# contando duplicados explícitos\n",
    "print(df.duplicated().sum())"
   ]
  },
  {
   "cell_type": "markdown",
   "metadata": {
    "id": "Ot25h6XR_Zct"
   },
   "source": [
    "Agora descarte todos os duplicados. Para fazer isso, chame o método que faz exatamente isso."
   ]
  },
  {
   "cell_type": "code",
   "execution_count": 30,
   "metadata": {
    "id": "exFHq6tt_Zct"
   },
   "outputs": [],
   "source": [
    "# removendo duplicados explícitos\n",
    "df = df.drop_duplicates().reset_index(drop=True)"
   ]
  },
  {
   "cell_type": "markdown",
   "metadata": {},
   "source": [
    "<div class=\"alert alert-danger\">\n",
    "<strong>Comentário do revisor v1</strong>\n",
    "\n",
    "Aqui vale a pena utilizar o .reset_index(drop=True) para garantir que não teremos problemas com a ordem das observações após removermos os duplicados:\n",
    "    \n",
    "Ao remover duplicatas, o índice do DataFrame pode ficar desorganizado. Isso significa que você pode acabar com lacunas no índice ou com índices que não estão mais em ordem sequencial. O método reset_index() redefine o índice do DataFrame, garantindo que ele esteja organizado novamente em uma sequência numérica contínua.\n",
    "</div>\n",
    "\n"
   ]
  },
  {
   "cell_type": "markdown",
   "metadata": {},
   "source": [
    "\n",
    "\n",
    "<div class=\"alert alert-success\">\n",
    "<strong>Comentário do revisor v2</strong>\n",
    "\n",
    "Valeu pelo ajuste!\n",
    "</div>"
   ]
  },
  {
   "cell_type": "markdown",
   "metadata": {
    "id": "Im2YwBEG_Zct"
   },
   "source": [
    "Agora vamos verificar se descartamos todos os duplicados. Conte duplicados explícitos mais uma vez para ter certeza de que você removeu todos eles:"
   ]
  },
  {
   "cell_type": "code",
   "execution_count": 31,
   "metadata": {
    "id": "-8PuNWQ0_Zct"
   },
   "outputs": [
    {
     "name": "stdout",
     "output_type": "stream",
     "text": [
      "0\n"
     ]
    }
   ],
   "source": [
    "# verificando duplicados novamente\n",
    "\n",
    "print(df.duplicated().sum())"
   ]
  },
  {
   "cell_type": "markdown",
   "metadata": {
    "id": "QlFBsxAr_Zct"
   },
   "source": [
    "Agora queremos nos livrar dos duplicados implícitos na coluna `genre`. Por exemplo, o nome de um gênero pode ser escrito de maneiras diferentes. Alguns erros afetarão também o resultado."
   ]
  },
  {
   "cell_type": "markdown",
   "metadata": {
    "id": "eSjWwsOh_Zct"
   },
   "source": [
    "Para fazer isso, vamos começar imprimindo uma lista de nomes de gênero únicos, ordenados em ordem alfabética: Para fazer isso:\n",
    "* Extraia a coluna `genre` do DataFrame\n",
    "* Chame o método que retornará todos os valores únicos na coluna extraída\n"
   ]
  },
  {
   "cell_type": "code",
   "execution_count": 17,
   "metadata": {
    "id": "JIUcqzZN_Zct"
   },
   "outputs": [
    {
     "name": "stdout",
     "output_type": "stream",
     "text": [
      "['acid', 'acoustic', 'action', 'adult', 'africa', 'afrikaans', 'alternative', 'ambient', 'americana', 'animated', 'anime', 'arabesk', 'arabic', 'arena', 'argentinetango', 'art', 'audiobook', 'avantgarde', 'axé', 'baile', 'balkan', 'beats', 'bigroom', 'black', 'bluegrass', 'blues', 'bollywood', 'bossa', 'brazilian', 'breakbeat', 'breaks', 'broadway', 'cantautori', 'cantopop', 'canzone', 'caribbean', 'caucasian', 'celtic', 'chamber', 'children', 'chill', 'chinese', 'choral', 'christian', 'christmas', 'classical', 'classicmetal', 'club', 'colombian', 'comedy', 'conjazz', 'contemporary', 'country', 'cuban', 'dance', 'dancehall', 'dancepop', 'dark', 'death', 'deep', 'deutschrock', 'deutschspr', 'dirty', 'disco', 'dnb', 'documentary', 'downbeat', 'downtempo', 'drum', 'dub', 'dubstep', 'eastern', 'easy', 'electronic', 'electropop', 'emo', 'entehno', 'epicmetal', 'estrada', 'ethnic', 'eurofolk', 'european', 'experimental', 'extrememetal', 'fado', 'film', 'fitness', 'flamenco', 'folk', 'folklore', 'folkmetal', 'folkrock', 'folktronica', 'forró', 'frankreich', 'französisch', 'french', 'funk', 'future', 'gangsta', 'garage', 'german', 'ghazal', 'gitarre', 'glitch', 'gospel', 'gothic', 'grime', 'grunge', 'gypsy', 'handsup', \"hard'n'heavy\", 'hardcore', 'hardstyle', 'hardtechno', 'hip', 'hip-hop', 'hiphop', 'historisch', 'holiday', 'hop', 'horror', 'house', 'idm', 'independent', 'indian', 'indie', 'indipop', 'industrial', 'inspirational', 'instrumental', 'international', 'irish', 'jam', 'japanese', 'jazz', 'jewish', 'jpop', 'jungle', 'k-pop', 'karadeniz', 'karaoke', 'kayokyoku', 'korean', 'laiko', 'latin', 'latino', 'leftfield', 'local', 'lounge', 'loungeelectronic', 'lovers', 'malaysian', 'mandopop', 'marschmusik', 'meditative', 'mediterranean', 'melodic', 'metal', 'metalcore', 'mexican', 'middle', 'minimal', 'miscellaneous', 'modern', 'mood', 'mpb', 'muslim', 'native', 'neoklassik', 'neue', 'new', 'newage', 'newwave', 'nu', 'nujazz', 'numetal', 'oceania', 'old', 'opera', 'orchestral', 'other', 'piano', 'pop', 'popelectronic', 'popeurodance', 'post', 'posthardcore', 'postrock', 'power', 'progmetal', 'progressive', 'psychedelic', 'punjabi', 'punk', 'quebecois', 'ragga', 'ram', 'rancheras', 'rap', 'rave', 'reggae', 'reggaeton', 'regional', 'relax', 'religious', 'retro', 'rhythm', 'rnb', 'rnr', 'rock', 'rockabilly', 'romance', 'roots', 'ruspop', 'rusrap', 'rusrock', 'salsa', 'samba', 'schlager', 'self', 'sertanejo', 'shoegazing', 'showtunes', 'singer', 'ska', 'slow', 'smooth', 'soul', 'soulful', 'sound', 'soundtrack', 'southern', 'specialty', 'speech', 'spiritual', 'sport', 'stonerrock', 'surf', 'swing', 'synthpop', 'sängerportrait', 'tango', 'tanzorchester', 'taraftar', 'tech', 'techno', 'thrash', 'top', 'traditional', 'tradjazz', 'trance', 'tribal', 'trip', 'triphop', 'tropical', 'türk', 'türkçe', 'unknown', 'urban', 'uzbek', 'variété', 'vi', 'videogame', 'vocal', 'western', 'world', 'worldbeat', 'ïîï']\n"
     ]
    }
   ],
   "source": [
    "# visualizando nomes de gêneros únicos\n",
    "unique_names = df['genre'].unique()\n",
    "unique_names_sorted = sorted(unique_names)\n",
    "print(unique_names_sorted)"
   ]
  },
  {
   "cell_type": "markdown",
   "metadata": {
    "id": "qej-Qmuo_Zct"
   },
   "source": [
    "Olhe a lista e encontre duplicados implícitos do gênero `hiphop`. Esses podem ser nomes escritos incorretamente, ou nomes alternativos para o mesmo gênero.\n",
    "\n",
    "Você verá os seguintes duplicados implícitos:\n",
    "* `hip`\n",
    "* `hop`\n",
    "* `hip-hop`\n",
    "\n",
    "Para se livrar deles, crie uma função `replace_wrong_genres()` com dois parâmetros:\n",
    "* `wrong_genres=` — essa é uma lista que contém todos os valores que você precisa substituir\n",
    "* `correct_genre=` — essa é uma string que você vai usar para a substituição\n",
    "\n",
    "Como resultado, a função deve corrigir os nomes na coluna `'genre'` da tabela `df`, isto é, substituindo cada valor da lista `wrong_genres` por valores de `correct_genre`.\n",
    "\n",
    "Dentro do corpo da função, use um ciclo `'for'` para percorrer a lista de gêneros errados, extrair a coluna `'genre'` e aplicar o método `replace` para fazer as correções."
   ]
  },
  {
   "cell_type": "code",
   "execution_count": 18,
   "metadata": {
    "id": "ErNDkmns_Zct"
   },
   "outputs": [],
   "source": [
    "# função para substituir duplicados implícitos\n",
    "def replace_wrong_genres(df, column, wrong_genres, correct_genre): \n",
    "\n",
    "    for wrong_genre in wrong_genres:  \n",
    "        df[column] = df[column].replace(wrong_genre, correct_genre)  \n",
    "    return df  \n"
   ]
  },
  {
   "cell_type": "markdown",
   "metadata": {
    "id": "aDoBJxbA_Zct"
   },
   "source": [
    "Agora, chame a função `replace_wrong_genres()` e passe argumentos apropriados para que ela limpe duplicados implícitos (`hip`, `hop` e `hip-hop`) substituindo-os por `hiphop`:"
   ]
  },
  {
   "cell_type": "code",
   "execution_count": 19,
   "metadata": {
    "id": "YN5i2hpmSo09"
   },
   "outputs": [],
   "source": [
    "# removendo duplicados implícitos\n",
    "duplicates = ['hip', 'hop', 'hip-hop'] \n",
    "name = 'hiphop' \n",
    "\n",
    "df = replace_wrong_genres(df, 'genre', duplicates, name) \n"
   ]
  },
  {
   "cell_type": "markdown",
   "metadata": {
    "id": "zQKF16_RG15m"
   },
   "source": [
    "Certifique-se que os nomes duplicados foram removidos. Imprima a lista de valores únicos da coluna `'genre'` mais uma vez:"
   ]
  },
  {
   "cell_type": "code",
   "execution_count": 20,
   "metadata": {
    "id": "wvixALnFG15m"
   },
   "outputs": [
    {
     "name": "stdout",
     "output_type": "stream",
     "text": [
      "['acid', 'acoustic', 'action', 'adult', 'africa', 'afrikaans', 'alternative', 'ambient', 'americana', 'animated', 'anime', 'arabesk', 'arabic', 'arena', 'argentinetango', 'art', 'audiobook', 'avantgarde', 'axé', 'baile', 'balkan', 'beats', 'bigroom', 'black', 'bluegrass', 'blues', 'bollywood', 'bossa', 'brazilian', 'breakbeat', 'breaks', 'broadway', 'cantautori', 'cantopop', 'canzone', 'caribbean', 'caucasian', 'celtic', 'chamber', 'children', 'chill', 'chinese', 'choral', 'christian', 'christmas', 'classical', 'classicmetal', 'club', 'colombian', 'comedy', 'conjazz', 'contemporary', 'country', 'cuban', 'dance', 'dancehall', 'dancepop', 'dark', 'death', 'deep', 'deutschrock', 'deutschspr', 'dirty', 'disco', 'dnb', 'documentary', 'downbeat', 'downtempo', 'drum', 'dub', 'dubstep', 'eastern', 'easy', 'electronic', 'electropop', 'emo', 'entehno', 'epicmetal', 'estrada', 'ethnic', 'eurofolk', 'european', 'experimental', 'extrememetal', 'fado', 'film', 'fitness', 'flamenco', 'folk', 'folklore', 'folkmetal', 'folkrock', 'folktronica', 'forró', 'frankreich', 'französisch', 'french', 'funk', 'future', 'gangsta', 'garage', 'german', 'ghazal', 'gitarre', 'glitch', 'gospel', 'gothic', 'grime', 'grunge', 'gypsy', 'handsup', \"hard'n'heavy\", 'hardcore', 'hardstyle', 'hardtechno', 'hiphop', 'historisch', 'holiday', 'horror', 'house', 'idm', 'independent', 'indian', 'indie', 'indipop', 'industrial', 'inspirational', 'instrumental', 'international', 'irish', 'jam', 'japanese', 'jazz', 'jewish', 'jpop', 'jungle', 'k-pop', 'karadeniz', 'karaoke', 'kayokyoku', 'korean', 'laiko', 'latin', 'latino', 'leftfield', 'local', 'lounge', 'loungeelectronic', 'lovers', 'malaysian', 'mandopop', 'marschmusik', 'meditative', 'mediterranean', 'melodic', 'metal', 'metalcore', 'mexican', 'middle', 'minimal', 'miscellaneous', 'modern', 'mood', 'mpb', 'muslim', 'native', 'neoklassik', 'neue', 'new', 'newage', 'newwave', 'nu', 'nujazz', 'numetal', 'oceania', 'old', 'opera', 'orchestral', 'other', 'piano', 'pop', 'popelectronic', 'popeurodance', 'post', 'posthardcore', 'postrock', 'power', 'progmetal', 'progressive', 'psychedelic', 'punjabi', 'punk', 'quebecois', 'ragga', 'ram', 'rancheras', 'rap', 'rave', 'reggae', 'reggaeton', 'regional', 'relax', 'religious', 'retro', 'rhythm', 'rnb', 'rnr', 'rock', 'rockabilly', 'romance', 'roots', 'ruspop', 'rusrap', 'rusrock', 'salsa', 'samba', 'schlager', 'self', 'sertanejo', 'shoegazing', 'showtunes', 'singer', 'ska', 'slow', 'smooth', 'soul', 'soulful', 'sound', 'soundtrack', 'southern', 'specialty', 'speech', 'spiritual', 'sport', 'stonerrock', 'surf', 'swing', 'synthpop', 'sängerportrait', 'tango', 'tanzorchester', 'taraftar', 'tech', 'techno', 'thrash', 'top', 'traditional', 'tradjazz', 'trance', 'tribal', 'trip', 'triphop', 'tropical', 'türk', 'türkçe', 'unknown', 'urban', 'uzbek', 'variété', 'vi', 'videogame', 'vocal', 'western', 'world', 'worldbeat', 'ïîï']\n"
     ]
    }
   ],
   "source": [
    "# verificando valores duplicados\n",
    "unique_names = df['genre'].unique()\n",
    "unique_names_sorted = sorted(unique_names)\n",
    "print(unique_names_sorted)"
   ]
  },
  {
   "cell_type": "markdown",
   "metadata": {
    "id": "ALgNbvF3VtPA"
   },
   "source": [
    "[Voltar ao Índice](#back)"
   ]
  },
  {
   "cell_type": "markdown",
   "metadata": {
    "id": "jz6a9-7HQUDd"
   },
   "source": [
    "### Suas observações <a id='data_preprocessing_conclusions'></a>\n",
    "\n",
    "` Descreva brevemente o que você reparou ao analisar duplicados, bem como a abordagem que usou para eliminá-los e os resultados que alcançou.`\n",
    "\n",
    "A substitiução de valores ausentes, quando aplicavel, é simples mas a susbtituição de valores duplicados num volume alto de dados se muito trabalhoso."
   ]
  },
  {
   "cell_type": "markdown",
   "metadata": {
    "id": "eK1es74rVujj"
   },
   "source": [
    "[Voltar ao Índice](#back)"
   ]
  },
  {
   "cell_type": "markdown",
   "metadata": {},
   "source": [
    "\n",
    "<div class=\"alert alert-success\">\n",
    "<strong>Comentário do revisor v1</strong>\n",
    "\n",
    "Bom trabalho com os duplicados implícitos e explícitos.\n",
    "</div>\n"
   ]
  },
  {
   "cell_type": "markdown",
   "metadata": {
    "id": "WttZHXH0SqKk"
   },
   "source": [
    "## Etapa 3. Teste da hipótese <a id='hypothesis'></a>"
   ]
  },
  {
   "cell_type": "markdown",
   "metadata": {
    "id": "Im936VVi_Zcu"
   },
   "source": [
    "### Hipótese: comparação do comportamento dos usuários nas duas cidades <a id='activity'></a>"
   ]
  },
  {
   "cell_type": "markdown",
   "metadata": {
    "id": "nwt_MuaL_Zcu"
   },
   "source": [
    "A hipótese afirma que existem diferenças no consumo de música pelos usuários em Springfield e em Shelbyville. Para testar a hipótese, use os dados dos três dias da semana: segunda-feira (Monday), quarta-feira (Wednesday) e sexta-feira (Friday).\n",
    "\n",
    "* Agrupe os usuários por cidade.\n",
    "* Compare o número de músicas tocadas por cada grupo na segunda, quarta e sexta.\n"
   ]
  },
  {
   "cell_type": "markdown",
   "metadata": {
    "id": "8Dw_YMmT_Zcu"
   },
   "source": [
    "Execute cada cálculo separadamente.\n",
    "\n",
    "O primeiro passo é avaliar a atividade dos usuários em cada cidade. Não se esqueça das etapas \"divisão-aplicação-combinação\" sobre as quais falamos anteriormente na lição. Agora seu objetivo é agrupar os dados por cidade, aplicar o método de contagem apropriado durante a etapa de aplicação e então encontrar o número de músicas tocadas por cada grupo, especificando a coluna para a qual você quer obter a contagem.\n",
    "\n",
    "Veja um exemplo de como o resultado final deve ser:\n",
    "`df.groupby(by='....')['column'].method()` Execute cada cálculo separadamente.\n",
    "\n",
    "Para avaliar a atividade dos usuários em cada cidade, agrupe os dados por cidade e encontre o número de músicas reproduzidas em cada grupo.\n",
    "\n"
   ]
  },
  {
   "cell_type": "code",
   "execution_count": 21,
   "metadata": {
    "id": "0_Qs96oh_Zcu"
   },
   "outputs": [
    {
     "name": "stdout",
     "output_type": "stream",
     "text": [
      "city\n",
      "Shelbyville    18512\n",
      "Springfield    42741\n",
      "Name: user_id, dtype: int64\n"
     ]
    }
   ],
   "source": [
    "# Contando as músicas tocadas em cada cidade\n",
    "groups = df.groupby('city')['user_id'].count()\n",
    "print(groups)\n"
   ]
  },
  {
   "cell_type": "markdown",
   "metadata": {
    "id": "t_Qx-3NewAnK"
   },
   "source": [
    "`Comente sobre suas observações aqui`\n",
    "\n",
    "Springfield ouve muito mais músicas do que Shelbyville"
   ]
  },
  {
   "cell_type": "markdown",
   "metadata": {
    "id": "dzli3w8o_Zcu"
   },
   "source": [
    "Agora vamos agrupar os dados por dia da semana e encontrar a quantidade de músicas tocadas na segunda, quarta e sexta-feira. Use a mesma abordagem que antes, mas agora precisamos agrupar os dados de uma forma diferente.\n"
   ]
  },
  {
   "cell_type": "code",
   "execution_count": 22,
   "metadata": {
    "id": "uZMKjiJz_Zcu"
   },
   "outputs": [
    {
     "name": "stdout",
     "output_type": "stream",
     "text": [
      "day\n",
      "Friday       21840\n",
      "Monday       21354\n",
      "Wednesday    18059\n",
      "Name: city, dtype: int64\n"
     ]
    }
   ],
   "source": [
    "# Calculando as músicas escutadas em cada um desses três dias\n",
    "days_of_the_week = df.groupby('day')['city'].count()\n",
    "print(days_of_the_week)\n"
   ]
  },
  {
   "cell_type": "markdown",
   "metadata": {
    "id": "cC2tNrlL_Zcu"
   },
   "source": [
    "`Comente sobre suas observações aqui`"
   ]
  },
  {
   "cell_type": "markdown",
   "metadata": {
    "id": "POzs8bGa_Zcu"
   },
   "source": [
    "Você acabou de aprender como contar entradas agrupando-as por cidade ou por dia. E agora você precisa escrever uma função que possa contar entradas simultaneamente com base em ambos os critérios.\n",
    "\n",
    "Crie a função `number_tracks()` para calcular o número de músicas tocadas em um determinado dia **e** em uma determinada cidade. A função deve aceitar dois parâmetros:\n",
    "\n",
    "- `day`: um dia da semana pelo qual precisamos filtrar os dados. Por exemplo, `'Monday'`.\n",
    "- `city`: uma cidade pela qual precisamos filtrar os dados. Por exemplo, `'Springfield'`.\n",
    "\n",
    "Dentro da função, você vai aplicar uma filtragem consecutiva com indexação lógica.\n",
    "\n",
    "Primeiro, filtre os dados por dia e então filtre a tabela resultante por cidade.\n",
    "\n",
    "Depois de filtrar os dados usando os dois critérios, conte o número de valores na coluna 'user_id' da tabela resultante. O resultado da contagem representará o número de entradas que você quer encontrar. Armazene o resultado em uma nova variável e imprima-o."
   ]
  },
  {
   "cell_type": "code",
   "execution_count": 23,
   "metadata": {
    "id": "Nz3GdQB1_Zcu"
   },
   "outputs": [],
   "source": [
    "# Declare a função number_tracks() com dois parâmetros: day= e city=.\n",
    "def number_track(day, city):\n",
    "\n",
    "    # Armazene as linhas do DataFrame em que o valor na coluna 'day' é igual ao parâmetro day=\n",
    "    filter_day = df[df['day'] == day]\n",
    "    # Filtre as linhas em que o valor na coluna 'city' é igual ao parâmetro city=\n",
    "    filter_city =  filter_day[filter_day['city'] == city]\n",
    "    # Extraia a coluna 'uaser_id' da tabela filtrada e aplique o método count()\n",
    "    filter_user = filter_city['user_id'].count()\n",
    "    # Retorne o número dos valores da coluna 'user_id'\n",
    "    return filter_user\n"
   ]
  },
  {
   "cell_type": "markdown",
   "metadata": {
    "id": "ytf7xFrFJQ2r"
   },
   "source": [
    "Chame a função `number_tracks()` seis vezes, mudando os valores dos parâmetros, para que você possa recuperar os dados de ambas as cidades para cada um dos três dias."
   ]
  },
  {
   "cell_type": "code",
   "execution_count": 24,
   "metadata": {
    "id": "rJcRATNQ_Zcu"
   },
   "outputs": [
    {
     "data": {
      "text/plain": [
       "15740"
      ]
     },
     "execution_count": 24,
     "metadata": {},
     "output_type": "execute_result"
    }
   ],
   "source": [
    "# a quantidade de músicas tocadas em Springfield na segunda-feira\n",
    "number_track('Monday', 'Springfield')"
   ]
  },
  {
   "cell_type": "code",
   "execution_count": 25,
   "metadata": {
    "id": "hq_ncZ5T_Zcu"
   },
   "outputs": [
    {
     "data": {
      "text/plain": [
       "5614"
      ]
     },
     "execution_count": 25,
     "metadata": {},
     "output_type": "execute_result"
    }
   ],
   "source": [
    "# a quantidade de músicas tocadas em Shelbyville na segunda-feira\n",
    "number_track('Monday', 'Shelbyville')"
   ]
  },
  {
   "cell_type": "code",
   "execution_count": 26,
   "metadata": {
    "id": "_NTy2VPU_Zcu"
   },
   "outputs": [
    {
     "data": {
      "text/plain": [
       "11056"
      ]
     },
     "execution_count": 26,
     "metadata": {},
     "output_type": "execute_result"
    }
   ],
   "source": [
    "# a quantidade de músicas tocadas em Springfield na quarta-feira\n",
    "number_track('Wednesday', 'Springfield')"
   ]
  },
  {
   "cell_type": "code",
   "execution_count": 27,
   "metadata": {
    "id": "j2y3TAwo_Zcu"
   },
   "outputs": [
    {
     "data": {
      "text/plain": [
       "7003"
      ]
     },
     "execution_count": 27,
     "metadata": {},
     "output_type": "execute_result"
    }
   ],
   "source": [
    "# a quantidade de músicas tocadas em Shelbyville na quarta-feira\n",
    "number_track('Wednesday', 'Shelbyville')"
   ]
  },
  {
   "cell_type": "code",
   "execution_count": 28,
   "metadata": {
    "id": "vYDw5u_K_Zcu"
   },
   "outputs": [
    {
     "data": {
      "text/plain": [
       "15945"
      ]
     },
     "execution_count": 28,
     "metadata": {},
     "output_type": "execute_result"
    }
   ],
   "source": [
    "# a quantidade de músicas tocadas em Springfield na sexta-feira\n",
    "number_track('Friday', 'Springfield')"
   ]
  },
  {
   "cell_type": "code",
   "execution_count": 29,
   "metadata": {
    "id": "8_yzFtW3_Zcu"
   },
   "outputs": [
    {
     "data": {
      "text/plain": [
       "5895"
      ]
     },
     "execution_count": 29,
     "metadata": {},
     "output_type": "execute_result"
    }
   ],
   "source": [
    "# a quantidade de músicas tocadas em Shelbyville na sexta-feira\n",
    "number_track('Friday', 'Shelbyville')"
   ]
  },
  {
   "cell_type": "markdown",
   "metadata": {},
   "source": [
    "<div class=\"alert alert-success\">\n",
    "<strong>Comentário do revisor v1</strong>\n",
    "\n",
    "A função solicitada foi desenvolvida e o cálculo das reproduções foi realizado com sucesso.\n",
    "</div>\n",
    "\n"
   ]
  },
  {
   "cell_type": "markdown",
   "metadata": {
    "id": "-EgPIHYu_Zcu"
   },
   "source": [
    "**Conclusões**\n",
    "\n",
    "`Comente sobre se a terceira hipótese está correta ou deve ser rejeitada. Explique seu raciocínio.`\n",
    "\n",
    "De um modo geral as pessoas de Springfield ouvem mais música do que as pessoas de Shelbyville, afirmando a hipótese.\n",
    "O dia da semana em que mais se ouvem músicas em Springfield é na sexta-feira, seguido da segunda-feira e enfim quarta-feira.\n",
    "Em Shelbyville o dia mais ouvido é quarta-feira, seguido de sexta-feira e por fim segunda o dia de menor reprodução."
   ]
  },
  {
   "cell_type": "markdown",
   "metadata": {
    "id": "p7nFQajCVw5B"
   },
   "source": [
    "[Voltar ao Índice](#back)"
   ]
  },
  {
   "cell_type": "markdown",
   "metadata": {},
   "source": [
    "<div class=\"alert alert-success\">\n",
    "<strong>Comentário do revisor v1</strong>\n",
    "\n",
    "A hipótese foi avaliada com sucesso e argumentos robustos foram apresentados justificando a conclusão.\n",
    "</div>\n"
   ]
  },
  {
   "cell_type": "markdown",
   "metadata": {
    "id": "ykKQ0N65_Zcv"
   },
   "source": [
    "# Conclusões <a id='end'></a>"
   ]
  },
  {
   "cell_type": "markdown",
   "metadata": {
    "id": "tjUwbHb3_Zcv"
   },
   "source": [
    "`Resuma suas conclusões sobre a hipótese aqui`\n",
    "\n",
    "Concluindo, em Springfield se ouve mais música do que comparado a Shelbyville provando a hipótese de diferença de reprodução entre as duas cidades pelo serviço de streaming."
   ]
  },
  {
   "cell_type": "markdown",
   "metadata": {},
   "source": [
    "<div class=\"alert alert-warning\">\n",
    "<strong>Comentário do revisor v1</strong>\n",
    "\n",
    "Tudo certo com a análise que fez no passo anterior, mas para a conclusão, note que as diferenças entre as cidades tem menos a ver com o seu tamanho e mais a ver com o seu comportamento. Cidades podem ter oerfis muito semelhantes de consumo musical mesmo diferindo quanto ao tamanho.\n",
    "</div>\n"
   ]
  },
  {
   "cell_type": "code",
   "execution_count": null,
   "metadata": {},
   "outputs": [],
   "source": [
    "<div class=\"alert alert-warning\">"
   ]
  },
  {
   "cell_type": "markdown",
   "metadata": {
    "id": "azLHu64yOIp7"
   },
   "source": [
    "### Importante\n",
    "Em projetos de pesquisas reais, o teste estatístico de hipóteses é mais preciso e quantitativo. Observe também que conclusões sobre uma cidade inteira nem sempre podem ser tiradas a partir de dados de apenas uma fonte.\n",
    "\n",
    "Você aprenderá mais sobre testes de hipóteses no sprint sobre a análise estatística de dados."
   ]
  },
  {
   "cell_type": "markdown",
   "metadata": {
    "id": "Ju4AHDSgV1FE"
   },
   "source": [
    "[Voltar ao Índice](#back)"
   ]
  }
 ],
 "metadata": {
  "ExecuteTimeLog": [
   {
    "duration": 467,
    "start_time": "2024-07-21T18:39:56.841Z"
   },
   {
    "duration": 338,
    "start_time": "2024-07-21T18:40:10.100Z"
   },
   {
    "duration": 22,
    "start_time": "2024-07-21T18:40:29.605Z"
   },
   {
    "duration": 24,
    "start_time": "2024-07-21T18:42:09.308Z"
   },
   {
    "duration": 730,
    "start_time": "2024-07-21T18:43:00.092Z"
   },
   {
    "duration": 194,
    "start_time": "2024-07-21T18:43:48.117Z"
   },
   {
    "duration": 26,
    "start_time": "2024-07-21T18:45:05.381Z"
   },
   {
    "duration": 21,
    "start_time": "2024-07-21T18:45:20.825Z"
   },
   {
    "duration": 21,
    "start_time": "2024-07-21T18:50:41.767Z"
   },
   {
    "duration": 835,
    "start_time": "2024-07-21T18:51:04.197Z"
   },
   {
    "duration": 32,
    "start_time": "2024-07-21T18:52:37.496Z"
   },
   {
    "duration": 32,
    "start_time": "2024-07-21T18:53:50.884Z"
   },
   {
    "duration": 33,
    "start_time": "2024-07-21T18:53:55.608Z"
   },
   {
    "duration": 12,
    "start_time": "2024-07-21T18:57:39.572Z"
   },
   {
    "duration": 11,
    "start_time": "2024-07-21T19:08:38.425Z"
   },
   {
    "duration": 10,
    "start_time": "2024-07-21T19:09:24.088Z"
   },
   {
    "duration": 3,
    "start_time": "2024-07-21T19:11:23.276Z"
   },
   {
    "duration": 22,
    "start_time": "2024-07-21T19:11:59.255Z"
   },
   {
    "duration": 74,
    "start_time": "2024-07-21T19:14:48.683Z"
   },
   {
    "duration": 8,
    "start_time": "2024-07-21T19:23:32.900Z"
   },
   {
    "duration": 21,
    "start_time": "2024-07-21T19:23:45.468Z"
   },
   {
    "duration": 5,
    "start_time": "2024-07-21T19:24:21.457Z"
   },
   {
    "duration": 33,
    "start_time": "2024-07-21T19:25:02.688Z"
   },
   {
    "duration": 32,
    "start_time": "2024-07-21T19:42:08.599Z"
   },
   {
    "duration": 13,
    "start_time": "2024-07-21T19:42:15.996Z"
   },
   {
    "duration": 21,
    "start_time": "2024-07-21T19:50:23.300Z"
   },
   {
    "duration": 4,
    "start_time": "2024-07-21T19:50:50.320Z"
   },
   {
    "duration": 39,
    "start_time": "2024-07-22T16:45:27.914Z"
   },
   {
    "duration": 6,
    "start_time": "2024-07-22T16:47:02.540Z"
   },
   {
    "duration": 8,
    "start_time": "2024-07-22T16:47:44.755Z"
   },
   {
    "duration": 354,
    "start_time": "2024-07-22T16:48:57.584Z"
   },
   {
    "duration": 7,
    "start_time": "2024-07-22T16:49:42.542Z"
   },
   {
    "duration": 24,
    "start_time": "2024-07-22T16:53:25.296Z"
   },
   {
    "duration": 23,
    "start_time": "2024-07-22T16:53:30.901Z"
   },
   {
    "duration": 25,
    "start_time": "2024-07-22T16:53:44.972Z"
   },
   {
    "duration": 28,
    "start_time": "2024-07-22T16:54:04.890Z"
   },
   {
    "duration": 28,
    "start_time": "2024-07-22T16:54:14.311Z"
   },
   {
    "duration": 23,
    "start_time": "2024-07-22T16:55:19.104Z"
   },
   {
    "duration": 61,
    "start_time": "2024-07-22T16:59:52.288Z"
   },
   {
    "duration": 23,
    "start_time": "2024-07-22T17:00:41.832Z"
   },
   {
    "duration": 23,
    "start_time": "2024-07-22T17:01:12.552Z"
   },
   {
    "duration": 638,
    "start_time": "2024-07-22T17:02:03.265Z"
   },
   {
    "duration": 175,
    "start_time": "2024-07-22T17:02:24.452Z"
   },
   {
    "duration": 177,
    "start_time": "2024-07-22T17:02:58.849Z"
   },
   {
    "duration": 181,
    "start_time": "2024-07-22T17:03:10.993Z"
   },
   {
    "duration": 174,
    "start_time": "2024-07-22T17:03:48.910Z"
   },
   {
    "duration": 173,
    "start_time": "2024-07-22T17:07:03.241Z"
   },
   {
    "duration": 167,
    "start_time": "2024-07-22T17:07:35.663Z"
   },
   {
    "duration": 173,
    "start_time": "2024-07-22T17:08:09.818Z"
   },
   {
    "duration": 892,
    "start_time": "2024-07-22T17:09:51.951Z"
   },
   {
    "duration": 196,
    "start_time": "2024-07-22T17:10:06.740Z"
   },
   {
    "duration": 198,
    "start_time": "2024-07-22T17:10:30.717Z"
   },
   {
    "duration": 173,
    "start_time": "2024-07-22T17:12:29.690Z"
   },
   {
    "duration": 166,
    "start_time": "2024-07-22T17:13:32.654Z"
   },
   {
    "duration": 164,
    "start_time": "2024-07-22T17:14:15.342Z"
   },
   {
    "duration": 169,
    "start_time": "2024-07-22T17:20:17.395Z"
   },
   {
    "duration": 179,
    "start_time": "2024-07-22T17:20:27.591Z"
   },
   {
    "duration": 190,
    "start_time": "2024-07-22T17:21:20.750Z"
   },
   {
    "duration": 172,
    "start_time": "2024-07-22T17:24:07.009Z"
   },
   {
    "duration": 173,
    "start_time": "2024-07-22T17:27:32.879Z"
   },
   {
    "duration": 183,
    "start_time": "2024-07-22T17:27:41.820Z"
   },
   {
    "duration": 217,
    "start_time": "2024-07-22T17:28:24.063Z"
   },
   {
    "duration": 218,
    "start_time": "2024-07-22T17:28:55.908Z"
   },
   {
    "duration": 212,
    "start_time": "2024-07-22T17:29:46.111Z"
   },
   {
    "duration": 205,
    "start_time": "2024-07-22T17:30:04.576Z"
   },
   {
    "duration": 707,
    "start_time": "2024-07-22T17:30:24.576Z"
   },
   {
    "duration": 176,
    "start_time": "2024-07-22T17:31:13.048Z"
   },
   {
    "duration": 179,
    "start_time": "2024-07-22T17:32:17.943Z"
   },
   {
    "duration": 162,
    "start_time": "2024-07-22T17:34:20.153Z"
   },
   {
    "duration": 8,
    "start_time": "2024-07-22T17:35:58.389Z"
   },
   {
    "duration": 159,
    "start_time": "2024-07-22T17:36:03.198Z"
   },
   {
    "duration": 156,
    "start_time": "2024-07-22T17:36:16.690Z"
   },
   {
    "duration": 165,
    "start_time": "2024-07-22T17:36:30.515Z"
   },
   {
    "duration": 165,
    "start_time": "2024-07-22T17:37:07.868Z"
   },
   {
    "duration": 161,
    "start_time": "2024-07-22T17:38:42.943Z"
   },
   {
    "duration": 4,
    "start_time": "2024-07-22T17:44:27.675Z"
   },
   {
    "duration": 185,
    "start_time": "2024-07-22T17:44:27.683Z"
   },
   {
    "duration": 12,
    "start_time": "2024-07-22T17:44:27.871Z"
   },
   {
    "duration": 56,
    "start_time": "2024-07-22T17:44:27.885Z"
   },
   {
    "duration": 13,
    "start_time": "2024-07-22T17:44:27.946Z"
   },
   {
    "duration": 5,
    "start_time": "2024-07-22T17:44:27.962Z"
   },
   {
    "duration": 210,
    "start_time": "2024-07-22T17:44:27.970Z"
   },
   {
    "duration": 182,
    "start_time": "2024-07-22T17:44:28.182Z"
   },
   {
    "duration": 184,
    "start_time": "2024-07-22T17:44:28.367Z"
   },
   {
    "duration": 4,
    "start_time": "2024-07-22T17:44:28.554Z"
   },
   {
    "duration": 5,
    "start_time": "2024-07-22T17:44:28.564Z"
   },
   {
    "duration": 4,
    "start_time": "2024-07-22T17:44:28.572Z"
   },
   {
    "duration": 43,
    "start_time": "2024-07-22T17:44:28.580Z"
   },
   {
    "duration": 5,
    "start_time": "2024-07-22T17:44:28.626Z"
   },
   {
    "duration": 7,
    "start_time": "2024-07-22T17:44:28.634Z"
   },
   {
    "duration": 4,
    "start_time": "2024-07-22T17:44:28.644Z"
   },
   {
    "duration": 4,
    "start_time": "2024-07-22T17:44:28.651Z"
   },
   {
    "duration": 4,
    "start_time": "2024-07-22T17:44:28.658Z"
   },
   {
    "duration": 4,
    "start_time": "2024-07-22T17:44:28.666Z"
   },
   {
    "duration": 4,
    "start_time": "2024-07-22T17:44:28.723Z"
   },
   {
    "duration": 4,
    "start_time": "2024-07-22T17:44:28.731Z"
   },
   {
    "duration": 4,
    "start_time": "2024-07-22T17:44:28.739Z"
   },
   {
    "duration": 6,
    "start_time": "2024-07-22T17:44:28.747Z"
   },
   {
    "duration": 4,
    "start_time": "2024-07-22T17:44:28.763Z"
   },
   {
    "duration": 4,
    "start_time": "2024-07-22T17:44:28.770Z"
   },
   {
    "duration": 6,
    "start_time": "2024-07-22T17:44:28.825Z"
   },
   {
    "duration": 4,
    "start_time": "2024-07-22T17:44:28.835Z"
   },
   {
    "duration": 4,
    "start_time": "2024-07-22T17:44:28.843Z"
   },
   {
    "duration": 4,
    "start_time": "2024-07-22T17:44:28.853Z"
   },
   {
    "duration": 475,
    "start_time": "2024-07-23T19:05:25.768Z"
   },
   {
    "duration": 188,
    "start_time": "2024-07-23T19:05:26.246Z"
   },
   {
    "duration": 12,
    "start_time": "2024-07-23T19:05:26.437Z"
   },
   {
    "duration": 51,
    "start_time": "2024-07-23T19:05:26.454Z"
   },
   {
    "duration": 13,
    "start_time": "2024-07-23T19:05:26.509Z"
   },
   {
    "duration": 5,
    "start_time": "2024-07-23T19:05:26.525Z"
   },
   {
    "duration": 205,
    "start_time": "2024-07-23T19:05:26.533Z"
   },
   {
    "duration": 199,
    "start_time": "2024-07-23T19:05:26.741Z"
   },
   {
    "duration": 170,
    "start_time": "2024-07-23T19:05:26.943Z"
   },
   {
    "duration": 4,
    "start_time": "2024-07-23T19:05:27.120Z"
   },
   {
    "duration": 4,
    "start_time": "2024-07-23T19:05:27.127Z"
   },
   {
    "duration": 4,
    "start_time": "2024-07-23T19:05:27.134Z"
   },
   {
    "duration": 3,
    "start_time": "2024-07-23T19:05:27.142Z"
   },
   {
    "duration": 44,
    "start_time": "2024-07-23T19:05:27.148Z"
   },
   {
    "duration": 4,
    "start_time": "2024-07-23T19:05:27.195Z"
   },
   {
    "duration": 4,
    "start_time": "2024-07-23T19:05:27.203Z"
   },
   {
    "duration": 4,
    "start_time": "2024-07-23T19:05:27.210Z"
   },
   {
    "duration": 3,
    "start_time": "2024-07-23T19:05:27.217Z"
   },
   {
    "duration": 4,
    "start_time": "2024-07-23T19:05:27.223Z"
   },
   {
    "duration": 3,
    "start_time": "2024-07-23T19:05:27.230Z"
   },
   {
    "duration": 4,
    "start_time": "2024-07-23T19:05:27.292Z"
   },
   {
    "duration": 4,
    "start_time": "2024-07-23T19:05:27.299Z"
   },
   {
    "duration": 4,
    "start_time": "2024-07-23T19:05:27.306Z"
   },
   {
    "duration": 5,
    "start_time": "2024-07-23T19:05:27.312Z"
   },
   {
    "duration": 4,
    "start_time": "2024-07-23T19:05:27.320Z"
   },
   {
    "duration": 4,
    "start_time": "2024-07-23T19:05:27.327Z"
   },
   {
    "duration": 58,
    "start_time": "2024-07-23T19:05:27.334Z"
   },
   {
    "duration": 3,
    "start_time": "2024-07-23T19:05:27.398Z"
   },
   {
    "duration": 4,
    "start_time": "2024-07-23T19:05:27.404Z"
   },
   {
    "duration": 6,
    "start_time": "2024-07-23T19:06:31.308Z"
   },
   {
    "duration": 6,
    "start_time": "2024-07-23T19:06:54.967Z"
   },
   {
    "duration": 5,
    "start_time": "2024-07-23T19:07:55.167Z"
   },
   {
    "duration": 5,
    "start_time": "2024-07-23T19:09:12.343Z"
   },
   {
    "duration": 30,
    "start_time": "2024-07-23T19:24:52.634Z"
   },
   {
    "duration": 27,
    "start_time": "2024-07-23T19:29:30.937Z"
   },
   {
    "duration": 340,
    "start_time": "2024-07-23T19:34:53.477Z"
   },
   {
    "duration": 28,
    "start_time": "2024-07-23T19:35:06.740Z"
   },
   {
    "duration": 835,
    "start_time": "2024-07-23T19:39:16.670Z"
   },
   {
    "duration": 45,
    "start_time": "2024-07-23T19:39:35.871Z"
   },
   {
    "duration": 6,
    "start_time": "2024-07-23T19:40:19.002Z"
   },
   {
    "duration": 29,
    "start_time": "2024-07-23T19:40:28.098Z"
   },
   {
    "duration": 3,
    "start_time": "2024-07-23T19:40:36.855Z"
   },
   {
    "duration": 25,
    "start_time": "2024-07-23T19:40:40.487Z"
   },
   {
    "duration": 29,
    "start_time": "2024-07-23T19:41:25.678Z"
   },
   {
    "duration": 23,
    "start_time": "2024-07-23T19:41:36.100Z"
   },
   {
    "duration": 26,
    "start_time": "2024-07-23T19:43:03.478Z"
   },
   {
    "duration": 24,
    "start_time": "2024-07-23T19:43:23.604Z"
   },
   {
    "duration": 24,
    "start_time": "2024-07-23T19:44:48.631Z"
   },
   {
    "duration": 5,
    "start_time": "2024-07-23T19:44:58.464Z"
   },
   {
    "duration": 4,
    "start_time": "2024-07-23T19:45:15.003Z"
   },
   {
    "duration": 172,
    "start_time": "2024-07-23T19:45:15.010Z"
   },
   {
    "duration": 9,
    "start_time": "2024-07-23T19:45:15.189Z"
   },
   {
    "duration": 39,
    "start_time": "2024-07-23T19:45:15.201Z"
   },
   {
    "duration": 13,
    "start_time": "2024-07-23T19:45:15.247Z"
   },
   {
    "duration": 28,
    "start_time": "2024-07-23T19:45:15.263Z"
   },
   {
    "duration": 7,
    "start_time": "2024-07-23T19:45:15.294Z"
   },
   {
    "duration": 9,
    "start_time": "2024-07-23T19:45:15.305Z"
   },
   {
    "duration": 807,
    "start_time": "2024-07-23T19:45:15.318Z"
   },
   {
    "duration": 0,
    "start_time": "2024-07-23T19:45:16.130Z"
   },
   {
    "duration": 0,
    "start_time": "2024-07-23T19:45:16.133Z"
   },
   {
    "duration": 0,
    "start_time": "2024-07-23T19:45:16.135Z"
   },
   {
    "duration": 0,
    "start_time": "2024-07-23T19:45:16.137Z"
   },
   {
    "duration": 0,
    "start_time": "2024-07-23T19:45:16.139Z"
   },
   {
    "duration": 0,
    "start_time": "2024-07-23T19:45:16.141Z"
   },
   {
    "duration": 0,
    "start_time": "2024-07-23T19:45:16.143Z"
   },
   {
    "duration": 0,
    "start_time": "2024-07-23T19:45:16.146Z"
   },
   {
    "duration": 0,
    "start_time": "2024-07-23T19:45:16.148Z"
   },
   {
    "duration": 0,
    "start_time": "2024-07-23T19:45:16.150Z"
   },
   {
    "duration": 0,
    "start_time": "2024-07-23T19:45:16.152Z"
   },
   {
    "duration": 0,
    "start_time": "2024-07-23T19:45:16.192Z"
   },
   {
    "duration": 0,
    "start_time": "2024-07-23T19:45:16.194Z"
   },
   {
    "duration": 0,
    "start_time": "2024-07-23T19:45:16.196Z"
   },
   {
    "duration": 0,
    "start_time": "2024-07-23T19:45:16.198Z"
   },
   {
    "duration": 0,
    "start_time": "2024-07-23T19:45:16.199Z"
   },
   {
    "duration": 0,
    "start_time": "2024-07-23T19:45:16.201Z"
   },
   {
    "duration": 0,
    "start_time": "2024-07-23T19:45:16.203Z"
   },
   {
    "duration": 0,
    "start_time": "2024-07-23T19:45:16.206Z"
   },
   {
    "duration": 0,
    "start_time": "2024-07-23T19:45:16.207Z"
   },
   {
    "duration": 7,
    "start_time": "2024-07-23T19:45:55.808Z"
   },
   {
    "duration": 55,
    "start_time": "2024-07-23T19:46:47.730Z"
   },
   {
    "duration": 5,
    "start_time": "2024-07-23T19:47:09.978Z"
   },
   {
    "duration": 5,
    "start_time": "2024-07-23T19:47:49.929Z"
   },
   {
    "duration": 7,
    "start_time": "2024-07-23T19:48:03.240Z"
   },
   {
    "duration": 6,
    "start_time": "2024-07-23T19:49:59.621Z"
   },
   {
    "duration": 6,
    "start_time": "2024-07-23T19:50:51.775Z"
   },
   {
    "duration": 6,
    "start_time": "2024-07-23T19:51:43.369Z"
   },
   {
    "duration": 5,
    "start_time": "2024-07-23T19:54:08.037Z"
   },
   {
    "duration": 55,
    "start_time": "2024-07-23T19:54:22.385Z"
   },
   {
    "duration": 4,
    "start_time": "2024-07-23T19:54:37.471Z"
   },
   {
    "duration": 187,
    "start_time": "2024-07-23T19:54:37.479Z"
   },
   {
    "duration": 10,
    "start_time": "2024-07-23T19:54:37.669Z"
   },
   {
    "duration": 37,
    "start_time": "2024-07-23T19:54:37.690Z"
   },
   {
    "duration": 11,
    "start_time": "2024-07-23T19:54:37.732Z"
   },
   {
    "duration": 6,
    "start_time": "2024-07-23T19:54:37.746Z"
   },
   {
    "duration": 39,
    "start_time": "2024-07-23T19:54:37.755Z"
   },
   {
    "duration": 57,
    "start_time": "2024-07-23T19:54:37.797Z"
   },
   {
    "duration": 0,
    "start_time": "2024-07-23T19:54:37.858Z"
   },
   {
    "duration": 0,
    "start_time": "2024-07-23T19:54:37.892Z"
   },
   {
    "duration": 0,
    "start_time": "2024-07-23T19:54:37.896Z"
   },
   {
    "duration": 0,
    "start_time": "2024-07-23T19:54:37.898Z"
   },
   {
    "duration": 0,
    "start_time": "2024-07-23T19:54:37.901Z"
   },
   {
    "duration": 0,
    "start_time": "2024-07-23T19:54:37.905Z"
   },
   {
    "duration": 0,
    "start_time": "2024-07-23T19:54:37.908Z"
   },
   {
    "duration": 0,
    "start_time": "2024-07-23T19:54:37.911Z"
   },
   {
    "duration": 0,
    "start_time": "2024-07-23T19:54:37.914Z"
   },
   {
    "duration": 0,
    "start_time": "2024-07-23T19:54:37.917Z"
   },
   {
    "duration": 0,
    "start_time": "2024-07-23T19:54:37.918Z"
   },
   {
    "duration": 0,
    "start_time": "2024-07-23T19:54:37.922Z"
   },
   {
    "duration": 0,
    "start_time": "2024-07-23T19:54:37.924Z"
   },
   {
    "duration": 0,
    "start_time": "2024-07-23T19:54:37.927Z"
   },
   {
    "duration": 1,
    "start_time": "2024-07-23T19:54:37.929Z"
   },
   {
    "duration": 0,
    "start_time": "2024-07-23T19:54:37.932Z"
   },
   {
    "duration": 0,
    "start_time": "2024-07-23T19:54:37.995Z"
   },
   {
    "duration": 1,
    "start_time": "2024-07-23T19:54:37.997Z"
   },
   {
    "duration": 0,
    "start_time": "2024-07-23T19:54:38.002Z"
   },
   {
    "duration": 0,
    "start_time": "2024-07-23T19:54:38.005Z"
   },
   {
    "duration": 1,
    "start_time": "2024-07-23T19:54:38.007Z"
   },
   {
    "duration": 60,
    "start_time": "2024-07-23T19:54:51.202Z"
   },
   {
    "duration": 4,
    "start_time": "2024-07-23T19:55:10.499Z"
   },
   {
    "duration": 6,
    "start_time": "2024-07-23T19:56:02.651Z"
   },
   {
    "duration": 7,
    "start_time": "2024-07-23T19:56:36.505Z"
   },
   {
    "duration": 5,
    "start_time": "2024-07-23T19:57:29.736Z"
   },
   {
    "duration": 6,
    "start_time": "2024-07-23T19:57:54.884Z"
   },
   {
    "duration": 7,
    "start_time": "2024-07-23T19:58:39.313Z"
   },
   {
    "duration": 7,
    "start_time": "2024-07-23T20:00:28.254Z"
   },
   {
    "duration": 7,
    "start_time": "2024-07-23T20:00:38.576Z"
   },
   {
    "duration": 7,
    "start_time": "2024-07-23T20:01:36.172Z"
   },
   {
    "duration": 6,
    "start_time": "2024-07-23T20:01:50.716Z"
   },
   {
    "duration": 5,
    "start_time": "2024-07-23T20:02:07.724Z"
   },
   {
    "duration": 12,
    "start_time": "2024-07-23T20:02:13.673Z"
   },
   {
    "duration": 7,
    "start_time": "2024-07-23T20:02:43.047Z"
   },
   {
    "duration": 42,
    "start_time": "2024-07-23T20:02:47.013Z"
   },
   {
    "duration": 11,
    "start_time": "2024-07-23T20:02:57.206Z"
   },
   {
    "duration": 6,
    "start_time": "2024-07-23T20:04:02.503Z"
   },
   {
    "duration": 7,
    "start_time": "2024-07-23T20:04:09.038Z"
   },
   {
    "duration": 59,
    "start_time": "2024-07-23T20:04:11.403Z"
   },
   {
    "duration": 5,
    "start_time": "2024-07-23T20:04:19.858Z"
   },
   {
    "duration": 5,
    "start_time": "2024-07-23T20:04:29.005Z"
   },
   {
    "duration": 6,
    "start_time": "2024-07-23T20:33:09.580Z"
   },
   {
    "duration": 6,
    "start_time": "2024-07-23T20:33:25.949Z"
   },
   {
    "duration": 5,
    "start_time": "2024-07-23T20:33:42.664Z"
   },
   {
    "duration": 5,
    "start_time": "2024-07-23T20:33:50.145Z"
   },
   {
    "duration": 5,
    "start_time": "2024-07-23T20:33:55.445Z"
   },
   {
    "duration": 60,
    "start_time": "2024-07-23T20:34:04.099Z"
   },
   {
    "duration": 6,
    "start_time": "2024-07-23T20:34:34.493Z"
   },
   {
    "duration": 6,
    "start_time": "2024-07-23T20:34:40.346Z"
   },
   {
    "duration": 6,
    "start_time": "2024-07-23T20:34:43.585Z"
   },
   {
    "duration": 6,
    "start_time": "2024-07-23T20:36:38.566Z"
   },
   {
    "duration": 6,
    "start_time": "2024-07-23T20:37:02.603Z"
   },
   {
    "duration": 6,
    "start_time": "2024-07-23T20:37:34.101Z"
   },
   {
    "duration": 6,
    "start_time": "2024-07-23T20:37:43.299Z"
   },
   {
    "duration": 26,
    "start_time": "2024-07-23T20:40:22.626Z"
   },
   {
    "duration": 6,
    "start_time": "2024-07-23T20:40:32.016Z"
   },
   {
    "duration": 59,
    "start_time": "2024-07-23T20:41:23.606Z"
   },
   {
    "duration": 57,
    "start_time": "2024-07-23T20:41:39.613Z"
   },
   {
    "duration": 7,
    "start_time": "2024-07-23T20:42:44.309Z"
   },
   {
    "duration": 57,
    "start_time": "2024-07-23T20:43:53.031Z"
   },
   {
    "duration": 54,
    "start_time": "2024-07-23T20:43:59.481Z"
   },
   {
    "duration": 5,
    "start_time": "2024-07-23T20:46:08.684Z"
   },
   {
    "duration": 5,
    "start_time": "2024-07-23T20:46:17.155Z"
   },
   {
    "duration": 483,
    "start_time": "2024-07-23T20:47:29.168Z"
   },
   {
    "duration": 169,
    "start_time": "2024-07-23T20:47:29.655Z"
   },
   {
    "duration": 12,
    "start_time": "2024-07-23T20:47:29.827Z"
   },
   {
    "duration": 53,
    "start_time": "2024-07-23T20:47:29.845Z"
   },
   {
    "duration": 13,
    "start_time": "2024-07-23T20:47:29.901Z"
   },
   {
    "duration": 6,
    "start_time": "2024-07-23T20:47:29.917Z"
   },
   {
    "duration": 5,
    "start_time": "2024-07-23T20:47:29.927Z"
   },
   {
    "duration": 7,
    "start_time": "2024-07-23T20:47:29.936Z"
   },
   {
    "duration": 1119,
    "start_time": "2024-07-23T20:47:29.992Z"
   },
   {
    "duration": 0,
    "start_time": "2024-07-23T20:47:31.116Z"
   },
   {
    "duration": 0,
    "start_time": "2024-07-23T20:47:31.118Z"
   },
   {
    "duration": 0,
    "start_time": "2024-07-23T20:47:31.121Z"
   },
   {
    "duration": 0,
    "start_time": "2024-07-23T20:47:31.124Z"
   },
   {
    "duration": 0,
    "start_time": "2024-07-23T20:47:31.127Z"
   },
   {
    "duration": 0,
    "start_time": "2024-07-23T20:47:31.130Z"
   },
   {
    "duration": 0,
    "start_time": "2024-07-23T20:47:31.134Z"
   },
   {
    "duration": 0,
    "start_time": "2024-07-23T20:47:31.137Z"
   },
   {
    "duration": 1,
    "start_time": "2024-07-23T20:47:31.139Z"
   },
   {
    "duration": 0,
    "start_time": "2024-07-23T20:47:31.142Z"
   },
   {
    "duration": 0,
    "start_time": "2024-07-23T20:47:31.190Z"
   },
   {
    "duration": 0,
    "start_time": "2024-07-23T20:47:31.191Z"
   },
   {
    "duration": 0,
    "start_time": "2024-07-23T20:47:31.194Z"
   },
   {
    "duration": 0,
    "start_time": "2024-07-23T20:47:31.197Z"
   },
   {
    "duration": 0,
    "start_time": "2024-07-23T20:47:31.200Z"
   },
   {
    "duration": 0,
    "start_time": "2024-07-23T20:47:31.202Z"
   },
   {
    "duration": 0,
    "start_time": "2024-07-23T20:47:31.205Z"
   },
   {
    "duration": 0,
    "start_time": "2024-07-23T20:47:31.208Z"
   },
   {
    "duration": 0,
    "start_time": "2024-07-23T20:47:31.211Z"
   },
   {
    "duration": 0,
    "start_time": "2024-07-23T20:47:31.214Z"
   },
   {
    "duration": 5,
    "start_time": "2024-07-23T20:48:20.158Z"
   },
   {
    "duration": 55,
    "start_time": "2024-07-23T20:49:17.309Z"
   },
   {
    "duration": 61,
    "start_time": "2024-07-23T20:49:32.020Z"
   },
   {
    "duration": 5,
    "start_time": "2024-07-23T20:49:37.453Z"
   },
   {
    "duration": 53,
    "start_time": "2024-07-23T20:50:06.774Z"
   },
   {
    "duration": 4,
    "start_time": "2024-07-23T20:50:10.420Z"
   },
   {
    "duration": 53,
    "start_time": "2024-07-23T20:50:20.035Z"
   },
   {
    "duration": 6,
    "start_time": "2024-07-23T20:50:27.271Z"
   },
   {
    "duration": 5,
    "start_time": "2024-07-23T20:51:08.393Z"
   },
   {
    "duration": 4,
    "start_time": "2024-07-23T20:51:15.336Z"
   },
   {
    "duration": 4,
    "start_time": "2024-07-23T20:51:30.545Z"
   },
   {
    "duration": 5,
    "start_time": "2024-07-23T20:51:48.743Z"
   },
   {
    "duration": 5,
    "start_time": "2024-07-23T20:52:05.654Z"
   },
   {
    "duration": 6,
    "start_time": "2024-07-23T21:16:43.800Z"
   },
   {
    "duration": 5,
    "start_time": "2024-07-23T21:17:06.867Z"
   },
   {
    "duration": 5,
    "start_time": "2024-07-23T21:20:29.831Z"
   },
   {
    "duration": 5,
    "start_time": "2024-07-23T21:21:12.076Z"
   },
   {
    "duration": 6,
    "start_time": "2024-07-23T21:25:25.141Z"
   },
   {
    "duration": 6,
    "start_time": "2024-07-23T21:25:36.729Z"
   },
   {
    "duration": 7,
    "start_time": "2024-07-23T21:26:34.207Z"
   },
   {
    "duration": 7,
    "start_time": "2024-07-23T21:27:11.194Z"
   },
   {
    "duration": 5,
    "start_time": "2024-07-23T21:27:26.497Z"
   },
   {
    "duration": 346,
    "start_time": "2024-07-24T19:36:53.278Z"
   },
   {
    "duration": 465,
    "start_time": "2024-07-24T19:37:06.331Z"
   },
   {
    "duration": 193,
    "start_time": "2024-07-24T19:37:06.800Z"
   },
   {
    "duration": 10,
    "start_time": "2024-07-24T19:37:06.996Z"
   },
   {
    "duration": 33,
    "start_time": "2024-07-24T19:37:07.014Z"
   },
   {
    "duration": 12,
    "start_time": "2024-07-24T19:37:07.050Z"
   },
   {
    "duration": 5,
    "start_time": "2024-07-24T19:37:07.065Z"
   },
   {
    "duration": 41,
    "start_time": "2024-07-24T19:37:07.073Z"
   },
   {
    "duration": 6,
    "start_time": "2024-07-24T19:37:07.117Z"
   },
   {
    "duration": 7,
    "start_time": "2024-07-24T19:37:07.126Z"
   },
   {
    "duration": 5,
    "start_time": "2024-07-24T19:37:07.140Z"
   },
   {
    "duration": 73,
    "start_time": "2024-07-24T19:37:07.148Z"
   },
   {
    "duration": 4,
    "start_time": "2024-07-24T19:37:07.224Z"
   },
   {
    "duration": 4,
    "start_time": "2024-07-24T19:37:07.232Z"
   },
   {
    "duration": 4,
    "start_time": "2024-07-24T19:37:07.239Z"
   },
   {
    "duration": 4,
    "start_time": "2024-07-24T19:37:07.246Z"
   },
   {
    "duration": 4,
    "start_time": "2024-07-24T19:37:07.252Z"
   },
   {
    "duration": 3,
    "start_time": "2024-07-24T19:37:07.312Z"
   },
   {
    "duration": 5,
    "start_time": "2024-07-24T19:37:07.319Z"
   },
   {
    "duration": 5,
    "start_time": "2024-07-24T19:37:07.328Z"
   },
   {
    "duration": 3,
    "start_time": "2024-07-24T19:37:07.337Z"
   },
   {
    "duration": 4,
    "start_time": "2024-07-24T19:37:07.344Z"
   },
   {
    "duration": 5,
    "start_time": "2024-07-24T19:37:07.351Z"
   },
   {
    "duration": 4,
    "start_time": "2024-07-24T19:37:07.413Z"
   },
   {
    "duration": 4,
    "start_time": "2024-07-24T19:37:07.421Z"
   },
   {
    "duration": 4,
    "start_time": "2024-07-24T19:37:07.428Z"
   },
   {
    "duration": 5,
    "start_time": "2024-07-24T19:37:07.435Z"
   },
   {
    "duration": 4,
    "start_time": "2024-07-24T19:37:07.443Z"
   },
   {
    "duration": 3,
    "start_time": "2024-07-24T19:37:07.455Z"
   },
   {
    "duration": 4,
    "start_time": "2024-07-24T19:37:07.514Z"
   },
   {
    "duration": 7,
    "start_time": "2024-07-24T19:37:47.797Z"
   },
   {
    "duration": 4,
    "start_time": "2024-07-24T19:37:56.334Z"
   },
   {
    "duration": 26,
    "start_time": "2024-07-24T19:38:26.008Z"
   },
   {
    "duration": 4,
    "start_time": "2024-07-24T19:41:32.088Z"
   },
   {
    "duration": 26,
    "start_time": "2024-07-24T19:41:43.820Z"
   },
   {
    "duration": 3,
    "start_time": "2024-07-24T19:42:00.830Z"
   },
   {
    "duration": 26,
    "start_time": "2024-07-24T19:42:05.540Z"
   },
   {
    "duration": 19,
    "start_time": "2024-07-24T19:43:31.286Z"
   },
   {
    "duration": 25,
    "start_time": "2024-07-24T19:43:33.865Z"
   },
   {
    "duration": 78,
    "start_time": "2024-07-24T19:44:35.150Z"
   },
   {
    "duration": 83,
    "start_time": "2024-07-24T19:45:31.644Z"
   },
   {
    "duration": 72,
    "start_time": "2024-07-24T19:45:34.747Z"
   },
   {
    "duration": 11,
    "start_time": "2024-07-24T19:48:46.590Z"
   },
   {
    "duration": 59,
    "start_time": "2024-07-24T19:50:48.271Z"
   },
   {
    "duration": 49,
    "start_time": "2024-07-24T19:53:05.755Z"
   },
   {
    "duration": 710,
    "start_time": "2024-07-24T19:56:53.115Z"
   },
   {
    "duration": 66,
    "start_time": "2024-07-24T19:57:25.439Z"
   },
   {
    "duration": 51,
    "start_time": "2024-07-24T19:57:40.955Z"
   },
   {
    "duration": 22,
    "start_time": "2024-07-24T20:11:55.252Z"
   },
   {
    "duration": 23,
    "start_time": "2024-07-24T20:12:31.088Z"
   },
   {
    "duration": 24,
    "start_time": "2024-07-24T20:13:05.831Z"
   },
   {
    "duration": 23,
    "start_time": "2024-07-24T20:13:25.349Z"
   },
   {
    "duration": 25,
    "start_time": "2024-07-24T20:13:52.110Z"
   },
   {
    "duration": 9,
    "start_time": "2024-07-24T20:14:04.568Z"
   },
   {
    "duration": 22,
    "start_time": "2024-07-24T20:16:30.227Z"
   },
   {
    "duration": 11,
    "start_time": "2024-07-24T20:16:57.049Z"
   },
   {
    "duration": 29,
    "start_time": "2024-07-24T20:17:34.000Z"
   },
   {
    "duration": 10,
    "start_time": "2024-07-24T20:19:25.688Z"
   },
   {
    "duration": 8,
    "start_time": "2024-07-24T20:32:08.903Z"
   },
   {
    "duration": 7,
    "start_time": "2024-07-24T20:32:42.567Z"
   },
   {
    "duration": 7,
    "start_time": "2024-07-24T20:32:50.605Z"
   },
   {
    "duration": 30,
    "start_time": "2024-07-24T20:33:06.959Z"
   },
   {
    "duration": 470,
    "start_time": "2024-07-24T20:33:21.625Z"
   },
   {
    "duration": 35,
    "start_time": "2024-07-24T20:33:44.580Z"
   },
   {
    "duration": 19,
    "start_time": "2024-07-24T20:33:51.142Z"
   },
   {
    "duration": 4,
    "start_time": "2024-07-24T20:34:38.905Z"
   },
   {
    "duration": 10,
    "start_time": "2024-07-24T20:35:25.292Z"
   },
   {
    "duration": 4,
    "start_time": "2024-07-24T20:38:24.794Z"
   },
   {
    "duration": 11,
    "start_time": "2024-07-24T20:38:31.210Z"
   },
   {
    "duration": 10,
    "start_time": "2024-07-24T20:38:35.920Z"
   },
   {
    "duration": 1499,
    "start_time": "2024-07-24T20:55:03.701Z"
   },
   {
    "duration": 1489,
    "start_time": "2024-07-24T20:55:17.432Z"
   },
   {
    "duration": 421,
    "start_time": "2024-07-24T20:57:08.727Z"
   },
   {
    "duration": 84,
    "start_time": "2024-07-24T20:57:40.638Z"
   },
   {
    "duration": 314,
    "start_time": "2024-07-25T15:33:43.521Z"
   },
   {
    "duration": 434,
    "start_time": "2024-07-25T15:33:50.464Z"
   },
   {
    "duration": 184,
    "start_time": "2024-07-25T15:33:50.903Z"
   },
   {
    "duration": 11,
    "start_time": "2024-07-25T15:33:51.090Z"
   },
   {
    "duration": 52,
    "start_time": "2024-07-25T15:33:51.105Z"
   },
   {
    "duration": 11,
    "start_time": "2024-07-25T15:33:51.163Z"
   },
   {
    "duration": 5,
    "start_time": "2024-07-25T15:33:51.178Z"
   },
   {
    "duration": 40,
    "start_time": "2024-07-25T15:33:51.187Z"
   },
   {
    "duration": 6,
    "start_time": "2024-07-25T15:33:51.230Z"
   },
   {
    "duration": 6,
    "start_time": "2024-07-25T15:33:51.239Z"
   },
   {
    "duration": 5,
    "start_time": "2024-07-25T15:33:51.248Z"
   },
   {
    "duration": 70,
    "start_time": "2024-07-25T15:33:51.257Z"
   },
   {
    "duration": 19,
    "start_time": "2024-07-25T15:33:51.330Z"
   },
   {
    "duration": 26,
    "start_time": "2024-07-25T15:33:51.352Z"
   },
   {
    "duration": 104,
    "start_time": "2024-07-25T15:33:51.384Z"
   },
   {
    "duration": 103,
    "start_time": "2024-07-25T15:33:51.491Z"
   },
   {
    "duration": 88,
    "start_time": "2024-07-25T15:33:51.596Z"
   },
   {
    "duration": 10,
    "start_time": "2024-07-25T15:33:51.687Z"
   },
   {
    "duration": 5,
    "start_time": "2024-07-25T15:33:51.700Z"
   },
   {
    "duration": 13,
    "start_time": "2024-07-25T15:33:51.727Z"
   },
   {
    "duration": 11,
    "start_time": "2024-07-25T15:33:51.742Z"
   },
   {
    "duration": 307,
    "start_time": "2024-07-25T15:33:51.755Z"
   },
   {
    "duration": 0,
    "start_time": "2024-07-25T15:33:52.065Z"
   },
   {
    "duration": 0,
    "start_time": "2024-07-25T15:33:52.067Z"
   },
   {
    "duration": 0,
    "start_time": "2024-07-25T15:33:52.069Z"
   },
   {
    "duration": 0,
    "start_time": "2024-07-25T15:33:52.071Z"
   },
   {
    "duration": 0,
    "start_time": "2024-07-25T15:33:52.072Z"
   },
   {
    "duration": 0,
    "start_time": "2024-07-25T15:33:52.074Z"
   },
   {
    "duration": 0,
    "start_time": "2024-07-25T15:33:52.076Z"
   },
   {
    "duration": 0,
    "start_time": "2024-07-25T15:33:52.078Z"
   },
   {
    "duration": 7,
    "start_time": "2024-07-25T15:34:48.539Z"
   },
   {
    "duration": 7,
    "start_time": "2024-07-25T15:35:15.297Z"
   },
   {
    "duration": 5,
    "start_time": "2024-07-25T15:35:55.261Z"
   },
   {
    "duration": 6,
    "start_time": "2024-07-25T15:36:10.099Z"
   },
   {
    "duration": 6,
    "start_time": "2024-07-25T15:36:30.757Z"
   },
   {
    "duration": 24,
    "start_time": "2024-07-25T15:37:01.544Z"
   },
   {
    "duration": 26,
    "start_time": "2024-07-25T15:37:23.363Z"
   },
   {
    "duration": 26,
    "start_time": "2024-07-25T15:37:38.750Z"
   },
   {
    "duration": 46,
    "start_time": "2024-07-25T15:38:31.350Z"
   },
   {
    "duration": 54,
    "start_time": "2024-07-25T15:39:13.744Z"
   },
   {
    "duration": 73,
    "start_time": "2024-07-25T15:39:21.219Z"
   },
   {
    "duration": 36,
    "start_time": "2024-07-25T15:39:58.183Z"
   },
   {
    "duration": 16,
    "start_time": "2024-07-25T15:43:23.342Z"
   },
   {
    "duration": 45,
    "start_time": "2024-07-25T15:50:34.564Z"
   },
   {
    "duration": 32,
    "start_time": "2024-07-25T15:58:47.439Z"
   },
   {
    "duration": 696,
    "start_time": "2024-07-25T15:59:49.972Z"
   },
   {
    "duration": 15,
    "start_time": "2024-07-25T16:00:05.005Z"
   },
   {
    "duration": 29,
    "start_time": "2024-07-25T16:03:29.762Z"
   },
   {
    "duration": 15,
    "start_time": "2024-07-25T16:04:27.103Z"
   },
   {
    "duration": 43,
    "start_time": "2024-07-25T16:04:40.320Z"
   },
   {
    "duration": 25,
    "start_time": "2024-07-25T16:05:00.280Z"
   },
   {
    "duration": 14,
    "start_time": "2024-07-25T16:06:13.298Z"
   },
   {
    "duration": 14,
    "start_time": "2024-07-25T16:06:50.551Z"
   },
   {
    "duration": 29,
    "start_time": "2024-07-25T16:07:17.641Z"
   },
   {
    "duration": 15,
    "start_time": "2024-07-25T16:07:28.686Z"
   },
   {
    "duration": 14,
    "start_time": "2024-07-25T16:09:16.697Z"
   },
   {
    "duration": 14,
    "start_time": "2024-07-25T16:11:02.341Z"
   },
   {
    "duration": 4,
    "start_time": "2024-07-25T17:12:44.009Z"
   },
   {
    "duration": 33,
    "start_time": "2024-07-25T17:13:49.660Z"
   },
   {
    "duration": 4,
    "start_time": "2024-07-25T17:14:13.715Z"
   },
   {
    "duration": 24,
    "start_time": "2024-07-25T17:14:16.205Z"
   },
   {
    "duration": 4,
    "start_time": "2024-07-25T17:14:36.874Z"
   },
   {
    "duration": 36,
    "start_time": "2024-07-25T17:14:38.504Z"
   },
   {
    "duration": 4,
    "start_time": "2024-07-25T17:15:03.057Z"
   },
   {
    "duration": 422,
    "start_time": "2024-07-25T17:15:04.163Z"
   },
   {
    "duration": 5,
    "start_time": "2024-07-25T17:15:39.245Z"
   },
   {
    "duration": 33,
    "start_time": "2024-07-25T17:15:41.208Z"
   },
   {
    "duration": 4,
    "start_time": "2024-07-25T17:16:55.891Z"
   },
   {
    "duration": 33,
    "start_time": "2024-07-25T17:16:57.081Z"
   },
   {
    "duration": 9,
    "start_time": "2024-07-25T20:11:22.249Z"
   },
   {
    "duration": 4,
    "start_time": "2024-07-25T20:11:45.338Z"
   },
   {
    "duration": 318,
    "start_time": "2024-07-25T20:12:10.746Z"
   },
   {
    "duration": 4,
    "start_time": "2024-07-25T20:12:45.743Z"
   },
   {
    "duration": 31,
    "start_time": "2024-07-25T20:12:48.156Z"
   },
   {
    "duration": 439,
    "start_time": "2024-07-26T17:38:42.169Z"
   },
   {
    "duration": 180,
    "start_time": "2024-07-26T17:38:42.612Z"
   },
   {
    "duration": 11,
    "start_time": "2024-07-26T17:38:42.795Z"
   },
   {
    "duration": 33,
    "start_time": "2024-07-26T17:38:42.811Z"
   },
   {
    "duration": 13,
    "start_time": "2024-07-26T17:38:42.847Z"
   },
   {
    "duration": 5,
    "start_time": "2024-07-26T17:38:42.863Z"
   },
   {
    "duration": 37,
    "start_time": "2024-07-26T17:38:42.871Z"
   },
   {
    "duration": 6,
    "start_time": "2024-07-26T17:38:42.913Z"
   },
   {
    "duration": 6,
    "start_time": "2024-07-26T17:38:42.923Z"
   },
   {
    "duration": 4,
    "start_time": "2024-07-26T17:38:42.935Z"
   },
   {
    "duration": 70,
    "start_time": "2024-07-26T17:38:42.942Z"
   },
   {
    "duration": 17,
    "start_time": "2024-07-26T17:38:43.015Z"
   },
   {
    "duration": 27,
    "start_time": "2024-07-26T17:38:43.035Z"
   },
   {
    "duration": 111,
    "start_time": "2024-07-26T17:38:43.065Z"
   },
   {
    "duration": 101,
    "start_time": "2024-07-26T17:38:43.178Z"
   },
   {
    "duration": 75,
    "start_time": "2024-07-26T17:38:43.282Z"
   },
   {
    "duration": 9,
    "start_time": "2024-07-26T17:38:43.360Z"
   },
   {
    "duration": 6,
    "start_time": "2024-07-26T17:38:43.372Z"
   },
   {
    "duration": 12,
    "start_time": "2024-07-26T17:38:43.407Z"
   },
   {
    "duration": 10,
    "start_time": "2024-07-26T17:38:43.422Z"
   },
   {
    "duration": 15,
    "start_time": "2024-07-26T17:38:43.434Z"
   },
   {
    "duration": 54,
    "start_time": "2024-07-26T17:38:43.452Z"
   },
   {
    "duration": 4,
    "start_time": "2024-07-26T17:38:43.509Z"
   },
   {
    "duration": 364,
    "start_time": "2024-07-26T17:38:43.516Z"
   },
   {
    "duration": 0,
    "start_time": "2024-07-26T17:38:43.883Z"
   },
   {
    "duration": 0,
    "start_time": "2024-07-26T17:38:43.885Z"
   },
   {
    "duration": 0,
    "start_time": "2024-07-26T17:38:43.888Z"
   },
   {
    "duration": 0,
    "start_time": "2024-07-26T17:38:43.890Z"
   },
   {
    "duration": 0,
    "start_time": "2024-07-26T17:38:43.892Z"
   },
   {
    "duration": 4,
    "start_time": "2024-07-26T17:38:58.555Z"
   },
   {
    "duration": 32,
    "start_time": "2024-07-26T17:39:01.015Z"
   },
   {
    "duration": 5,
    "start_time": "2024-07-26T17:40:02.127Z"
   },
   {
    "duration": 32,
    "start_time": "2024-07-26T17:40:03.652Z"
   },
   {
    "duration": 10,
    "start_time": "2024-07-26T17:41:52.036Z"
   },
   {
    "duration": 4,
    "start_time": "2024-07-26T17:41:59.159Z"
   },
   {
    "duration": 17,
    "start_time": "2024-07-26T17:42:01.031Z"
   },
   {
    "duration": 13,
    "start_time": "2024-07-26T17:42:42.881Z"
   },
   {
    "duration": 15,
    "start_time": "2024-07-26T17:43:08.408Z"
   },
   {
    "duration": 21,
    "start_time": "2024-07-26T17:43:28.387Z"
   },
   {
    "duration": 13,
    "start_time": "2024-07-26T17:44:02.540Z"
   },
   {
    "duration": 15,
    "start_time": "2024-07-26T18:00:26.336Z"
   },
   {
    "duration": 4,
    "start_time": "2024-07-26T20:52:42.601Z"
   },
   {
    "duration": 5,
    "start_time": "2024-07-26T20:53:14.016Z"
   },
   {
    "duration": 4,
    "start_time": "2024-07-26T20:54:13.335Z"
   },
   {
    "duration": 14,
    "start_time": "2024-07-26T20:59:19.043Z"
   },
   {
    "duration": 28,
    "start_time": "2024-07-26T21:01:44.900Z"
   },
   {
    "duration": 25,
    "start_time": "2024-07-26T21:02:45.849Z"
   },
   {
    "duration": 28,
    "start_time": "2024-07-26T21:03:00.505Z"
   },
   {
    "duration": 25,
    "start_time": "2024-07-26T21:04:13.400Z"
   },
   {
    "duration": 4,
    "start_time": "2024-07-26T21:07:26.394Z"
   },
   {
    "duration": 25,
    "start_time": "2024-07-26T21:08:23.200Z"
   },
   {
    "duration": 26,
    "start_time": "2024-07-26T21:08:43.727Z"
   },
   {
    "duration": 4,
    "start_time": "2024-07-26T21:24:50.941Z"
   },
   {
    "duration": 5,
    "start_time": "2024-07-26T21:27:32.488Z"
   },
   {
    "duration": 25,
    "start_time": "2024-07-26T21:27:36.395Z"
   },
   {
    "duration": 5,
    "start_time": "2024-07-26T21:28:04.772Z"
   },
   {
    "duration": 29,
    "start_time": "2024-07-26T21:28:07.874Z"
   },
   {
    "duration": 4,
    "start_time": "2024-07-26T21:29:08.894Z"
   },
   {
    "duration": 34,
    "start_time": "2024-07-26T21:29:11.807Z"
   },
   {
    "duration": 5,
    "start_time": "2024-07-26T21:30:50.208Z"
   },
   {
    "duration": 5,
    "start_time": "2024-07-26T21:31:10.343Z"
   },
   {
    "duration": 5,
    "start_time": "2024-07-26T21:31:20.249Z"
   },
   {
    "duration": 26,
    "start_time": "2024-07-26T21:31:24.659Z"
   },
   {
    "duration": 5,
    "start_time": "2024-07-26T21:40:20.127Z"
   },
   {
    "duration": 856,
    "start_time": "2024-07-26T21:40:23.149Z"
   },
   {
    "duration": 5,
    "start_time": "2024-07-26T21:40:44.621Z"
   },
   {
    "duration": 122,
    "start_time": "2024-07-26T21:40:46.955Z"
   },
   {
    "duration": 24,
    "start_time": "2024-07-26T22:22:24.409Z"
   },
   {
    "duration": 10,
    "start_time": "2024-07-27T10:26:52.148Z"
   },
   {
    "duration": 334,
    "start_time": "2024-07-27T10:26:54.700Z"
   },
   {
    "duration": 4,
    "start_time": "2024-07-27T10:27:15.272Z"
   },
   {
    "duration": 20,
    "start_time": "2024-07-27T10:27:16.880Z"
   },
   {
    "duration": 5,
    "start_time": "2024-07-27T10:29:17.546Z"
   },
   {
    "duration": 20,
    "start_time": "2024-07-27T10:29:19.213Z"
   },
   {
    "duration": 5,
    "start_time": "2024-07-27T10:30:17.574Z"
   },
   {
    "duration": 21,
    "start_time": "2024-07-27T10:30:18.839Z"
   },
   {
    "duration": 430,
    "start_time": "2024-07-27T10:30:33.453Z"
   },
   {
    "duration": 184,
    "start_time": "2024-07-27T10:30:33.890Z"
   },
   {
    "duration": 13,
    "start_time": "2024-07-27T10:30:34.078Z"
   },
   {
    "duration": 34,
    "start_time": "2024-07-27T10:30:34.094Z"
   },
   {
    "duration": 13,
    "start_time": "2024-07-27T10:30:34.130Z"
   },
   {
    "duration": 5,
    "start_time": "2024-07-27T10:30:34.147Z"
   },
   {
    "duration": 6,
    "start_time": "2024-07-27T10:30:34.192Z"
   },
   {
    "duration": 6,
    "start_time": "2024-07-27T10:30:34.201Z"
   },
   {
    "duration": 6,
    "start_time": "2024-07-27T10:30:34.211Z"
   },
   {
    "duration": 4,
    "start_time": "2024-07-27T10:30:34.223Z"
   },
   {
    "duration": 75,
    "start_time": "2024-07-27T10:30:34.231Z"
   },
   {
    "duration": 17,
    "start_time": "2024-07-27T10:30:34.309Z"
   },
   {
    "duration": 27,
    "start_time": "2024-07-27T10:30:34.329Z"
   },
   {
    "duration": 108,
    "start_time": "2024-07-27T10:30:34.358Z"
   },
   {
    "duration": 101,
    "start_time": "2024-07-27T10:30:34.469Z"
   },
   {
    "duration": 80,
    "start_time": "2024-07-27T10:30:34.572Z"
   },
   {
    "duration": 10,
    "start_time": "2024-07-27T10:30:34.655Z"
   },
   {
    "duration": 6,
    "start_time": "2024-07-27T10:30:34.692Z"
   },
   {
    "duration": 19,
    "start_time": "2024-07-27T10:30:34.701Z"
   },
   {
    "duration": 12,
    "start_time": "2024-07-27T10:30:34.724Z"
   },
   {
    "duration": 55,
    "start_time": "2024-07-27T10:30:34.739Z"
   },
   {
    "duration": 20,
    "start_time": "2024-07-27T10:30:34.798Z"
   },
   {
    "duration": 5,
    "start_time": "2024-07-27T10:30:34.823Z"
   },
   {
    "duration": 5,
    "start_time": "2024-07-27T10:30:34.832Z"
   },
   {
    "duration": 5,
    "start_time": "2024-07-27T10:30:34.841Z"
   },
   {
    "duration": 5,
    "start_time": "2024-07-27T10:30:34.891Z"
   },
   {
    "duration": 57,
    "start_time": "2024-07-27T10:30:34.899Z"
   },
   {
    "duration": 0,
    "start_time": "2024-07-27T10:30:34.958Z"
   },
   {
    "duration": 0,
    "start_time": "2024-07-27T10:30:34.960Z"
   },
   {
    "duration": 0,
    "start_time": "2024-07-27T10:30:34.991Z"
   },
   {
    "duration": 1,
    "start_time": "2024-07-27T10:30:34.994Z"
   },
   {
    "duration": 0,
    "start_time": "2024-07-27T10:30:34.996Z"
   },
   {
    "duration": 20,
    "start_time": "2024-07-27T10:30:41.673Z"
   },
   {
    "duration": 22,
    "start_time": "2024-07-27T10:30:47.374Z"
   },
   {
    "duration": 6,
    "start_time": "2024-07-27T10:32:22.480Z"
   },
   {
    "duration": 27,
    "start_time": "2024-07-27T10:32:25.145Z"
   },
   {
    "duration": 22,
    "start_time": "2024-07-27T10:32:41.232Z"
   },
   {
    "duration": 21,
    "start_time": "2024-07-27T10:32:48.935Z"
   },
   {
    "duration": 22,
    "start_time": "2024-07-27T10:32:52.681Z"
   },
   {
    "duration": 19,
    "start_time": "2024-07-27T10:32:55.862Z"
   },
   {
    "duration": 24,
    "start_time": "2024-07-27T10:32:58.387Z"
   },
   {
    "duration": 19,
    "start_time": "2024-07-27T10:33:01.103Z"
   },
   {
    "duration": 437,
    "start_time": "2024-07-27T18:12:55.371Z"
   },
   {
    "duration": 179,
    "start_time": "2024-07-27T18:12:55.811Z"
   },
   {
    "duration": 11,
    "start_time": "2024-07-27T18:12:55.992Z"
   },
   {
    "duration": 43,
    "start_time": "2024-07-27T18:12:56.007Z"
   },
   {
    "duration": 6,
    "start_time": "2024-07-27T18:12:56.053Z"
   },
   {
    "duration": 7,
    "start_time": "2024-07-27T18:12:56.062Z"
   },
   {
    "duration": 6,
    "start_time": "2024-07-27T18:12:56.073Z"
   },
   {
    "duration": 53,
    "start_time": "2024-07-27T18:12:56.082Z"
   },
   {
    "duration": 5,
    "start_time": "2024-07-27T18:12:56.138Z"
   },
   {
    "duration": 26,
    "start_time": "2024-07-27T18:12:56.149Z"
   },
   {
    "duration": 16,
    "start_time": "2024-07-27T18:12:56.179Z"
   },
   {
    "duration": 25,
    "start_time": "2024-07-27T18:12:56.234Z"
   },
   {
    "duration": 98,
    "start_time": "2024-07-27T18:12:56.262Z"
   },
   {
    "duration": 92,
    "start_time": "2024-07-27T18:12:56.363Z"
   },
   {
    "duration": 76,
    "start_time": "2024-07-27T18:12:56.458Z"
   },
   {
    "duration": 10,
    "start_time": "2024-07-27T18:12:56.537Z"
   },
   {
    "duration": 4,
    "start_time": "2024-07-27T18:12:56.550Z"
   },
   {
    "duration": 13,
    "start_time": "2024-07-27T18:12:56.557Z"
   },
   {
    "duration": 11,
    "start_time": "2024-07-27T18:12:56.573Z"
   },
   {
    "duration": 60,
    "start_time": "2024-07-27T18:12:56.586Z"
   },
   {
    "duration": 13,
    "start_time": "2024-07-27T18:12:56.649Z"
   },
   {
    "duration": 4,
    "start_time": "2024-07-27T18:12:56.668Z"
   },
   {
    "duration": 61,
    "start_time": "2024-07-27T18:12:56.676Z"
   },
   {
    "duration": 19,
    "start_time": "2024-07-27T18:12:56.741Z"
   },
   {
    "duration": 21,
    "start_time": "2024-07-27T18:12:56.762Z"
   },
   {
    "duration": 53,
    "start_time": "2024-07-27T18:12:56.785Z"
   },
   {
    "duration": 24,
    "start_time": "2024-07-27T18:12:56.840Z"
   },
   {
    "duration": 24,
    "start_time": "2024-07-27T18:12:56.871Z"
   },
   {
    "duration": 324,
    "start_time": "2024-07-28T12:12:37.619Z"
   },
   {
    "duration": 499,
    "start_time": "2024-07-28T12:12:45.962Z"
   },
   {
    "duration": 202,
    "start_time": "2024-07-28T12:12:46.465Z"
   },
   {
    "duration": 13,
    "start_time": "2024-07-28T12:12:46.670Z"
   },
   {
    "duration": 34,
    "start_time": "2024-07-28T12:12:46.687Z"
   },
   {
    "duration": 4,
    "start_time": "2024-07-28T12:12:46.724Z"
   },
   {
    "duration": 39,
    "start_time": "2024-07-28T12:12:46.732Z"
   },
   {
    "duration": 7,
    "start_time": "2024-07-28T12:12:46.774Z"
   },
   {
    "duration": 8,
    "start_time": "2024-07-28T12:12:46.785Z"
   },
   {
    "duration": 6,
    "start_time": "2024-07-28T12:12:46.795Z"
   },
   {
    "duration": 74,
    "start_time": "2024-07-28T12:12:46.808Z"
   },
   {
    "duration": 16,
    "start_time": "2024-07-28T12:12:46.885Z"
   },
   {
    "duration": 26,
    "start_time": "2024-07-28T12:12:46.905Z"
   },
   {
    "duration": 110,
    "start_time": "2024-07-28T12:12:46.933Z"
   },
   {
    "duration": 104,
    "start_time": "2024-07-28T12:12:47.046Z"
   },
   {
    "duration": 81,
    "start_time": "2024-07-28T12:12:47.153Z"
   },
   {
    "duration": 9,
    "start_time": "2024-07-28T12:12:47.237Z"
   },
   {
    "duration": 5,
    "start_time": "2024-07-28T12:12:47.269Z"
   },
   {
    "duration": 11,
    "start_time": "2024-07-28T12:12:47.277Z"
   },
   {
    "duration": 11,
    "start_time": "2024-07-28T12:12:47.291Z"
   },
   {
    "duration": 14,
    "start_time": "2024-07-28T12:12:47.305Z"
   },
   {
    "duration": 14,
    "start_time": "2024-07-28T12:12:47.371Z"
   },
   {
    "duration": 6,
    "start_time": "2024-07-28T12:12:47.388Z"
   },
   {
    "duration": 32,
    "start_time": "2024-07-28T12:12:47.398Z"
   },
   {
    "duration": 45,
    "start_time": "2024-07-28T12:12:47.433Z"
   },
   {
    "duration": 21,
    "start_time": "2024-07-28T12:12:47.481Z"
   },
   {
    "duration": 21,
    "start_time": "2024-07-28T12:12:47.504Z"
   },
   {
    "duration": 57,
    "start_time": "2024-07-28T12:12:47.527Z"
   },
   {
    "duration": 20,
    "start_time": "2024-07-28T12:12:47.591Z"
   },
   {
    "duration": 79,
    "start_time": "2024-07-28T12:13:07.009Z"
   },
   {
    "duration": 68,
    "start_time": "2024-07-28T12:13:11.879Z"
   },
   {
    "duration": 9,
    "start_time": "2024-07-28T12:28:15.641Z"
   },
   {
    "duration": 6,
    "start_time": "2024-07-28T12:28:48.997Z"
   },
   {
    "duration": 7,
    "start_time": "2024-07-28T12:30:34.912Z"
   }
  ],
  "colab": {
   "collapsed_sections": [
    "E0vqbgi9ay0H",
    "VUC88oWjTJw2"
   ],
   "provenance": []
  },
  "kernelspec": {
   "display_name": "Bootcamp",
   "language": "python",
   "name": "python3"
  },
  "language_info": {
   "codemirror_mode": {
    "name": "ipython",
    "version": 3
   },
   "file_extension": ".py",
   "mimetype": "text/x-python",
   "name": "python",
   "nbconvert_exporter": "python",
   "pygments_lexer": "ipython3",
   "version": "3.10.14"
  },
  "toc": {
   "base_numbering": 1,
   "nav_menu": {},
   "number_sections": true,
   "sideBar": true,
   "skip_h1_title": true,
   "title_cell": "Table of Contents",
   "title_sidebar": "Contents",
   "toc_cell": false,
   "toc_position": {},
   "toc_section_display": true,
   "toc_window_display": false
  }
 },
 "nbformat": 4,
 "nbformat_minor": 1
}
